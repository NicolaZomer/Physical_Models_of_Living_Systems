{
 "cells": [
  {
   "attachments": {},
   "cell_type": "markdown",
   "metadata": {},
   "source": [
    "# Homework Week 08\n",
    "Nicola Zomer <br>\n",
    "23 December, 2022\n",
    "\n",
    "# Assignment\n",
    "Study the stability of the excitatory-inhibitory two neurons system (Eq. 7.5 in the notes) for the parameters:\n",
    "- $M_{EE} = 1.25$, $M_{IE} = 1$, $M_{EI} = -1$, $M_{II} = 0$;  \n",
    "- $h_{E} = 10\\, Hz$, $h_I = - h_E$;\n",
    "- $\\tau_E = 10 \\, ms$ \n",
    "\n",
    "as a function of the free parameter $\\tau_I$. Simulate a trajectory in the stable regime and one in the limit cycle regime (different $\\tau_I$)."
   ]
  },
  {
   "cell_type": "code",
   "execution_count": null,
   "metadata": {},
   "outputs": [],
   "source": []
  }
 ],
 "metadata": {
  "kernelspec": {
   "display_name": "base",
   "language": "python",
   "name": "python3"
  },
  "language_info": {
   "name": "python",
   "version": "3.9.7 (default, Sep 16 2021, 16:59:28) [MSC v.1916 64 bit (AMD64)]"
  },
  "orig_nbformat": 4,
  "vscode": {
   "interpreter": {
    "hash": "dabd4eacb9e3ddd54eefcebcf933935be170cfdef29c95630fe9376e024beb9c"
   }
  }
 },
 "nbformat": 4,
 "nbformat_minor": 2
}
