{
 "cells": [
  {
   "cell_type": "markdown",
   "metadata": {},
   "source": [
    "# Homework Week 03\n",
    "Nicola Zomer <br>\n",
    "01 November, 2022\n",
    "\n",
    "For the full derivation of the equations (or the solutions of the analytical points) see the attached pdf."
   ]
  },
  {
   "cell_type": "markdown",
   "metadata": {},
   "source": [
    "## Assignment\n",
    "Consider the Lotka-Volterra equations:\n",
    "$$\n",
    "\\begin{align*}\n",
    "    \\frac{dx}{dt} &= ax - pxy \\\\ \n",
    "    \\frac{dy}{dt} &= -cy + pxy \n",
    "\\end{align*}\n",
    "$$\n",
    "Tasks:\n",
    "- Find the stationary solutions.\n",
    "- Do the stability analysis of the stationary solutions. Is there any stable solution?\n",
    "- (optional) Simulate the above Eqs. with different parameters. Is there a range of parameters where do you observe sustained oscillations? \n",
    "\n",
    "## Solution\n",
    "The first 2 points are solved in the attached pdf. In this notebook I only simulate the Lotka-Volterra equations using different values of the parameters. \n"
   ]
  },
  {
   "cell_type": "code",
   "execution_count": null,
   "metadata": {},
   "outputs": [],
   "source": []
  }
 ],
 "metadata": {
  "kernelspec": {
   "display_name": "Python 3.9.7 ('base')",
   "language": "python",
   "name": "python3"
  },
  "language_info": {
   "name": "python",
   "version": "3.9.7"
  },
  "orig_nbformat": 4,
  "vscode": {
   "interpreter": {
    "hash": "dabd4eacb9e3ddd54eefcebcf933935be170cfdef29c95630fe9376e024beb9c"
   }
  }
 },
 "nbformat": 4,
 "nbformat_minor": 2
}
