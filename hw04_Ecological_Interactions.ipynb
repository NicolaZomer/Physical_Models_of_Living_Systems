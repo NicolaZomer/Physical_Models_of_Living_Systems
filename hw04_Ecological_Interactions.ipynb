{
 "cells": [
  {
   "cell_type": "markdown",
   "metadata": {},
   "source": [
    "# Homework Week 04\n",
    "Nicola Zomer <br>\n",
    "10 November, 2022"
   ]
  },
  {
   "cell_type": "markdown",
   "metadata": {},
   "source": [
    "## Assignment\n",
    "1) Generate a random a SxS matrix with C non zero entries and 1-C zeros (C is between zero and one). Set the diagonal to -d. The non-zero elements are drawn  from a given distributions. Calculate the eigenvalues. Repeat different realizations and plot all the eigenvalues in the complex plane [Real part (x-axis) and imaginary part (y-axis)]. Compare this result with the expectations from the circular law. \n",
    "   \n",
    "2) Generate the same as above but for mutualistic structure and find how the maximum real eigenvalues scales with S (use S=20,30,40,..100) and compares your numerical finding with the analytical expectations (we did not explicitly have calculated this in class). \n",
    "   \n",
    "3) Analyse the food web using the metrics we have seen in class. The file represent the weighted adjacency matrix of the food web. For the analysis you can binarize (zero and one) the matrix. You find the file in the google drive.\n",
    "   \n",
    "4) (optional) Calculate the same as 1) but with for the cascade model or for the nested mutualistic network. "
   ]
  },
  {
   "cell_type": "code",
   "execution_count": 22,
   "metadata": {},
   "outputs": [],
   "source": [
    "import numpy as np\n",
    "import math as m\n",
    "import matplotlib.pyplot as plt\n",
    "\n",
    "from dash import Dash\n",
    "import plotly.express as px\n",
    "import pandas as pd\n",
    "\n",
    "%matplotlib inline"
   ]
  },
  {
   "cell_type": "markdown",
   "metadata": {},
   "source": [
    "# Point 1 \n",
    "## The Circular Law\n",
    "Consider the Generalized Lotka-Volterra Dynamics, describing the interaction of $S$ species through a network:\n",
    "$$\n",
    "    \\frac{dN_i}{dt} = a_iN_i(t)- N_i(t)\\sum_{j=1}^{S} \\alpha_{ij}N_j(t) \\quad i=1, ..., S\n",
    "$$\n",
    "The Jacobian matrix evaluated at the non-trivial equilibrium point of the system is given by:\n",
    "$$\n",
    "    J_{ij}=\\frac{\\partial \\dot{N}_i}{\\partial N_j}\\Bigr\\rvert_{\\bar{N}^*} = N_i^*\\alpha_{ij}\n",
    "$$\n",
    "\n",
    "We consider a stationary point $\\bar{N}^*=(1, 1, ...., 1)$, which implies that $J_{ij}=\\alpha_{ij}$, and we model $\\alpha$ as a random matrix, for example assuming that $\\alpha_{ij}$ are drawn from a Gaussian distribution, $\\alpha_{ij} \\sim \\mathcal{N}(0, \\sigma^2)$. Assuming interactions are i.i.d. random variables and $\\alpha_{ii}=0$ for all $i=1, ..., S$, then all eigenvalues of $\\alpha/\\sqrt{S\\sigma^2}$ are uniformly distributed within the unitary disk in the complex plane. This is called _Circular Law_.\n",
    "\n",
    "Moreover, if we add the effect of self-interactions and we model it as a constant intra-specied competition, $\\alpha_{ii}=-d <0$, then the disk containing all the eigenvalues of $\\alpha$ is translated on the real axis, that is:\n",
    "- the disk center is $(-d, 0)$\n",
    "- the disk radius is $\\sqrt{S\\sigma^2}$\n",
    "\n",
    "Notice that in general $\\sigma$ is the standard deviation of the random variable $X$ from which the coefficients $\\alpha_{ij}$ take value. \n",
    "\n",
    "If we further introduce a constant $C$, called _connectance_, such that with probability $C$ the coefficient of $\\alpha_{ij}$ are sampled by the selected distribution and with probability $0$ are set to $0$, than the radius of the disk becomes:\n",
    "$$\n",
    "    r= \\sqrt{SC\\sigma^2}\n",
    "$$\n",
    "\n",
    "\n",
    "## Construction of the Random Matrices\n",
    "Notation: in this context we call $M_{ij}$ the random matrix, and $D$ the distribution we have selected (for example $D =\\mathcal{N}(0, \\sigma^2)$). \n",
    "\n",
    "**Off-diagonal elements** <br>\n",
    "For each off-diagonal term of the matrix we draw a random value $p$ from a uniform distribution $\\mathcal{U}[0, 1]$. If $p<C$, we set $M_{ij}$ by sampling it from $D$, otherwise we impose $M_{ij}=0$\n",
    "\n",
    "**Diagonal elements** <br>\n",
    "All diagonal elements, $M_{ii}$, are set to $−d$. \n",
    "\n"
   ]
  },
  {
   "cell_type": "code",
   "execution_count": 17,
   "metadata": {},
   "outputs": [],
   "source": [
    "# parameters\n",
    "C = 0.85\n",
    "d = 1\n",
    "S = 100\n",
    "sigma = 1\n",
    "\n",
    "# center and radius of the circle\n",
    "center = [-d, 0]\n",
    "radius = m.sqrt(S*C*sigma**2)\n",
    "\n",
    "# random matrix\n",
    "def randommatrix(size, diag, connectance, D=lambda: np.random.normal(0, sigma), myseed=1234):\n",
    "    \n",
    "    # initialize seed and matrix\n",
    "    np.random.seed(myseed)\n",
    "    M = np.zeros((size, size))\n",
    "    \n",
    "    # 1. off-diagonal elements\n",
    "    for i in range(size):\n",
    "        for j in range(size):\n",
    "            if i!=j:\n",
    "                p = np.random.uniform()\n",
    "                \n",
    "                if p<C:\n",
    "                    M[i, j] = D()\n",
    "    \n",
    "    # 2. diagonal elements\n",
    "    np.fill_diagonal(M, -d)\n",
    "\n",
    "    return M\n"
   ]
  },
  {
   "cell_type": "code",
   "execution_count": 20,
   "metadata": {},
   "outputs": [
    {
     "data": {
      "text/plain": [
       "<matplotlib.collections.PathCollection at 0x1b8ca8b99a0>"
      ]
     },
     "execution_count": 20,
     "metadata": {},
     "output_type": "execute_result"
    },
    {
     "data": {
      "image/png": "[encoded data removed]",
      "text/plain": [
       "<Figure size 432x288 with 1 Axes>"
      ]
     },
     "metadata": {
      "needs_background": "light"
     },
     "output_type": "display_data"
    }
   ],
   "source": [
    "M = randommatrix(S, d, C)\n",
    "eig_M, _ = np.linalg.eig(M)\n",
    "\n",
    "plt.scatter(np.real(eig_M), np.imag(eig_M))"
   ]
  },
  {
   "cell_type": "markdown",
   "metadata": {},
   "source": [
    "Idee per la dashboard: \n",
    "- S fisso\n",
    "- d, C imposti dall'utente, con dei vincoli (d>0, C<1)\n",
    "- sigma imposto se seleziono non uniforme\n",
    "- possibilità di selezionare tra diverse distribuzioni (uniforme, normale, exponential)"
   ]
  },
  {
   "cell_type": "markdown",
   "metadata": {},
   "source": [
    "# Point 2"
   ]
  },
  {
   "cell_type": "code",
   "execution_count": null,
   "metadata": {},
   "outputs": [],
   "source": []
  },
  {
   "cell_type": "markdown",
   "metadata": {},
   "source": [
    "# Point 3"
   ]
  },
  {
   "cell_type": "code",
   "execution_count": null,
   "metadata": {},
   "outputs": [],
   "source": []
  },
  {
   "cell_type": "markdown",
   "metadata": {},
   "source": [
    "# Point 4"
   ]
  },
  {
   "cell_type": "code",
   "execution_count": null,
   "metadata": {},
   "outputs": [],
   "source": []
  }
 ],
 "metadata": {
  "kernelspec": {
   "display_name": "Python 3.9.7 ('base')",
   "language": "python",
   "name": "python3"
  },
  "language_info": {
   "codemirror_mode": {
    "name": "ipython",
    "version": 3
   },
   "file_extension": ".py",
   "mimetype": "text/x-python",
   "name": "python",
   "nbconvert_exporter": "python",
   "pygments_lexer": "ipython3",
   "version": "3.9.7"
  },
  "orig_nbformat": 4,
  "vscode": {
   "interpreter": {
    "hash": "dabd4eacb9e3ddd54eefcebcf933935be170cfdef29c95630fe9376e024beb9c"
   }
  }
 },
 "nbformat": 4,
 "nbformat_minor": 2
}
