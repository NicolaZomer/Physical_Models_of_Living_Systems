{
 "cells": [
  {
   "cell_type": "markdown",
   "metadata": {},
   "source": [
    "# Homework Week 04\n",
    "Nicola Zomer <br>\n",
    "11 November, 2022"
   ]
  },
  {
   "cell_type": "markdown",
   "metadata": {},
   "source": [
    "## Assignment\n",
    "1) Generate a random a SxS matrix with C non zero entries and 1-C zeros (C is between zero and one). Set the diagonal to -d. The non-zero elements are drawn  from a given distributions. Calculate the eigenvalues. Repeat different realizations and plot all the eigenvalues in the complex plane [Real part (x-axis) and imaginary part (y-axis)]. Compare this result with the expectations from the circular law. \n",
    "   \n",
    "2) Generate the same as above but for mutualistic structure and find how the maximum real eigenvalues scales with S (use S=20,30,40,..100) and compare your numerical finding with the analytical expectations (we did not explicitly have calculated this in class). \n",
    "   \n",
    "3) Analyse the food web using the metrics we have seen in class. The file represent the weighted adjacency matrix of the food web. For the analysis you can binarize (zero and one) the matrix. You find the file in the google drive.\n",
    "   \n",
    "4) (optional) Calculate the same as 1) but with for the cascade model or for the nested mutualistic network. "
   ]
  },
  {
   "cell_type": "code",
   "execution_count": 37,
   "metadata": {},
   "outputs": [],
   "source": [
    "import numpy as np\n",
    "import math as m\n",
    "import matplotlib.pyplot as plt\n",
    "import pandas as pd\n",
    "\n",
    "# dash\n",
    "from jupyter_dash import JupyterDash\n",
    "from dash import Dash\n",
    "## from dash import dcc\n",
    "## from dash import html\n",
    "from dash.dependencies import Output, State, Input\n",
    "\n",
    "# plotly\n",
    "import plotly.express as px\n",
    "from plotly.subplots import make_subplots\n",
    "import plotly.graph_objects as go\n",
    "\n",
    "%matplotlib inline\n",
    "\n",
    "# show static images for github\n",
    "from IPython.display import Image, display\n",
    "savegit = True"
   ]
  },
  {
   "cell_type": "markdown",
   "metadata": {},
   "source": [
    "# Point 1 \n",
    "## The Circular Law\n",
    "Consider the Generalized Lotka-Volterra Dynamics, describing the interaction of $S$ species through a network:\n",
    "$$\n",
    "    \\frac{dN_i}{dt} = a_iN_i(t)- N_i(t)\\sum_{j=1}^{S} \\alpha_{ij}N_j(t) \\quad i=1, ..., S\n",
    "$$\n",
    "The Jacobian matrix evaluated at the non-trivial equilibrium point of the system is given by:\n",
    "$$\n",
    "    J_{ij}=\\frac{\\partial \\dot{N}_i}{\\partial N_j}\\Bigr\\rvert_{\\bar{N}^*} = N_i^*\\alpha_{ij}\n",
    "$$\n",
    "\n",
    "We consider a stationary point $\\bar{N}^*=(1, 1, ...., 1)$, which implies that $J_{ij}=\\alpha_{ij}$, and we model $\\alpha$ as a random matrix, for example assuming that $\\alpha_{ij}$ are drawn from a Gaussian distribution, $\\alpha_{ij} \\sim \\mathcal{N}(0, \\sigma^2)$. Assuming interactions are i.i.d. random variables and $\\alpha_{ii}=0$ for all $i=1, ..., S$, then all eigenvalues of $\\alpha/\\sqrt{S\\sigma^2}$ are uniformly distributed within the unitary disk in the complex plane. This is called _Circular Law_.\n",
    "\n",
    "Moreover, if we add the effect of self-interactions and we model it as a constant intra-specied competition, $\\alpha_{ii}=-d <0$, then the disk containing all the eigenvalues of $\\alpha$ is translated on the real axis, that is:\n",
    "- the disk center is $(-d, 0)$\n",
    "- the disk radius is $\\sqrt{S\\sigma^2}$\n",
    "\n",
    "Notice that in general $\\sigma$ is the standard deviation of the random variable $X$ from which the coefficients $\\alpha_{ij}$ take value. \n",
    "\n",
    "If we further introduce a constant $C$, called _connectance_, such that with probability $C$ the coefficient of $\\alpha_{ij}$ are sampled by the selected distribution and with probability $0$ are set to $0$, than the radius of the disk becomes:\n",
    "$$\n",
    "    r= \\sqrt{SC\\sigma^2}\n",
    "$$\n",
    "\n",
    "Pay attention that the Circular Law is verified only if $\\alpha$ satisfies 2 conditions:\n",
    "1. $\\mathbb{E}[\\alpha_{ij}]=0$, so the interaction matrix has zero mean\n",
    "2. $\\mathbb{E}[\\alpha_{ij}, \\alpha{ji}]=0$\n",
    "\n",
    "This conditions depends on the chosen distribution and on how the matrix is built. Notice that they are reached by taking $\\mathcal{D} =\\mathcal{N}(0, \\sigma^2)$ and following the next construction steps. \n",
    "\n",
    "\n",
    "## Construction of the Random Matrices\n",
    "Notation: in this context we call $M_{ij}$ the random matrix, and $\\mathcal{D}$ the distribution we have selected (for example $\\mathcal{D} =\\mathcal{N}(0, \\sigma^2)$). \n",
    "\n",
    "**Off-diagonal elements** <br>\n",
    "For each off-diagonal term of the matrix we draw a random value $p$ from a uniform distribution $\\mathcal{U}[0, 1]$. If $p\\leq C$, we set $M_{ij}$ by sampling it from $\\mathcal{D}$, otherwise we impose $M_{ij}=0$\n",
    "\n",
    "**Diagonal elements** <br>\n",
    "All diagonal elements, $M_{ii}$, are set to $−d$. \n",
    "\n",
    "These matrices, for large S, generate a precise mixture of interaction types, with predator-prey interactions being represented twice as frequently as mutualistic or competitive ones.\n"
   ]
  },
  {
   "cell_type": "code",
   "execution_count": 38,
   "metadata": {},
   "outputs": [],
   "source": [
    "# random matrix generation\n",
    "def randommatrix(size, diag, connectance, D=lambda: np.random.normal(0, 1), mutualistic=False):\n",
    "    '''\n",
    "    INPUT:\n",
    "    - size        -> size of the square matrix (i.e. number of species) \n",
    "    - diag        -> value of d (>0)\n",
    "    - connectance -> value of C (0<C<1)\n",
    "    - D           -> the selected distribution, by default a gaussian distribution\n",
    "    - mutualistic -> if True, consider only mutualistic interactions\n",
    "    \n",
    "    OUTPUT:\n",
    "    - M -> the random matrix\n",
    "    \n",
    "    '''\n",
    "    \n",
    "    assert diag>0, 'diag  must be >0'\n",
    "    assert 0<connectance<1, 'connectance must be between 0 and 1'\n",
    "    \n",
    "    # initialize matrix\n",
    "    M = np.zeros((size, size))\n",
    "    \n",
    "    # 1. off-diagonal elements\n",
    "    for i in range(size):\n",
    "        for j in range(i, size):\n",
    "            p = np.random.uniform()\n",
    "            \n",
    "            if p<=connectance:\n",
    "                if not mutualistic:\n",
    "                    M[i, j] = D()\n",
    "                    M[j, i] = D()\n",
    "                else:\n",
    "                    M[i, j] = np.abs(D())\n",
    "                    M[j, i] = np.abs(D())\n",
    "    \n",
    "    # 2. diagonal elements\n",
    "    np.fill_diagonal(M, -diag)\n",
    "\n",
    "    return M\n",
    "\n",
    "\n",
    "# circle extremes\n",
    "def my_circle(center, radius):\n",
    "    '''\n",
    "    INPUT:\n",
    "    - center -> [ , ], center of the disk\n",
    "    - radius -> float, radius of the disk\n",
    "    \n",
    "    OUTPUT: \n",
    "    - x0 -> min(x)\n",
    "    - y0 -> min(y)\n",
    "    - x1 -> max(x)\n",
    "    - y1 -> max(y)\n",
    "    \n",
    "    '''\n",
    "    \n",
    "    x0_ = center[0]-radius\n",
    "    y0_ = center[1]-radius\n",
    "    x1_ = center[0]+radius\n",
    "    y1_ = center[1]+radius\n",
    "\n",
    "    return x0_, y0_, x1_, y1_\n"
   ]
  },
  {
   "cell_type": "code",
   "execution_count": 39,
   "metadata": {},
   "outputs": [
    {
     "name": "stdout",
     "output_type": "stream",
     "text": [
      "The expected center of the disk is: (-1.00, 0)\n",
      "The expected radius of the disk is: r = 9.22\n"
     ]
    }
   ],
   "source": [
    "np.random.seed(1245)\n",
    "\n",
    "# parameters\n",
    "C = 0.85\n",
    "d = 1\n",
    "S = 100\n",
    "sigma = 1\n",
    "\n",
    "# center and radius of the circle\n",
    "center = [-d, 0]\n",
    "radius = m.sqrt(S*C*sigma**2)\n",
    "\n",
    "print('The expected center of the disk is: (%.2f, %i)' %(center[0], center[1]))\n",
    "print('The expected radius of the disk is: r = %.2f' %(radius))\n",
    "\n",
    "\n",
    "# build N random matrices\n",
    "N = 10\n",
    "appended_data = []\n",
    "\n",
    "for i in range(N):\n",
    "    df_eig = pd.DataFrame(columns=['re', 'im', 'run'])\n",
    "    \n",
    "    M = randommatrix(S, d, C)\n",
    "    eig_M, _ = np.linalg.eig(M)\n",
    "    df_eig['re'] = np.real(eig_M)\n",
    "    df_eig['im'] = np.imag(eig_M)\n",
    "    df_eig['run'] = [str(i+1)]*len(eig_M)\n",
    "    \n",
    "    appended_data.append(df_eig)\n",
    "    \n",
    "appended_data = pd.concat(appended_data)\n",
    "\n",
    "# circle data\n",
    "x0, y0, x1, y1 = my_circle(center, radius)\n",
    "\n",
    "# plot the eigenvalues\n",
    "fig = px.scatter(appended_data, x=\"re\", y=\"im\", color=\"run\")\n",
    "\n",
    "fig.update_layout(\n",
    "    title=\"The Circular Law <br><sup>Eigenvalues in the complex plane</sup>\",\n",
    "    xaxis_title=\"Re(λ)\",\n",
    "    yaxis_title=\"Im(λ)\",\n",
    "    legend_title=\"Run\",\n",
    "    width=600,\n",
    "    height=600,\n",
    ")\n",
    "fig.update_xaxes(range=[-12, 12])\n",
    "fig.update_yaxes(\n",
    "    scaleanchor = \"x\",\n",
    "    scaleratio = 1,\n",
    "    range=[-12, 12]\n",
    "  )\n",
    "\n",
    "fig.add_shape(type=\"circle\",\n",
    "    xref=\"x\", yref=\"y\",\n",
    "    x0=x0, y0=y0, x1=x1, y1=y1,\n",
    "    line_color=\"black\",\n",
    "    line_width = 2.5\n",
    ")\n",
    "# fig.add_annotation(\n",
    "#     x= center[0]+radius,\n",
    "#     y= center[1],\n",
    "#     xref=\"x\", yref=\"y\",\n",
    "#     text=\"\",\n",
    "#     showarrow=True,\n",
    "#     axref = \"x\", ayref='y',\n",
    "#     ax= center[0],\n",
    "#     ay= center[1],\n",
    "#     arrowhead = 3,\n",
    "#     arrowwidth= 2, \n",
    "#     arrowcolor='black')\n",
    "\n",
    "if savegit: \n",
    "    path = \"images/hw04_circlaw.png\"\n",
    "    fig.write_image(path)\n",
    "    display(Image(path))\n",
    "    \n",
    "else:\n",
    "    fig.show()"
   ]
  },
  {
   "cell_type": "markdown",
   "metadata": {},
   "source": [
    "# Point 2\n",
    "To  generate the same as above for mutualistic structure simply impose that with probability $C$:\n",
    "$$\n",
    "    \\{\\alpha_{ij}, \\alpha{ji}\\} = \\{|x_1|, |x_2|\\}\n",
    "$$ \n",
    "where $x_1$ and $x_2$ are sampled from the distribution $\\mathcal{D}$.\n",
    "\n",
    "## Construction of the Random Matrices in the Mutualistic case\n",
    "**Off-diagonal elements** <br>\n",
    "For each pair of off-diagonal terms $\\{M{ij}, M{ji}\\}$ of the matrix we draw a random value $p$ from a uniform distribution $\\mathcal{U}[0, 1]$. If $p\\leq C$, we set $M_{ij}$ and $M_{ji}$ by sampling them independently from $|\\mathcal{D}|$ (which for example can be the half-normal distribution), otherwise we impose $M_{ij}=M_{ji}=0$\n",
    "\n",
    "**Diagonal elements** <br>\n",
    "All diagonal elements, $M_{ii}$, are set to $−d$. \n",
    "\n",
    "\n",
    "## Ellipse Law and non-zero mean case\n",
    "First, notice that in this case the correlation coefficient $\\rho$, defined as:\n",
    "$$\n",
    "    \\rho := \\frac{\\mathbb{E}[M_{ij}, M_{ji}]-\\mathbb{E}^2[M_ij]}{Var(M_{ij})}\n",
    "$$\n",
    "is different from zero. This implies a modification of the Circular Law, which is called Elliptical Law. According to this law, the eigenvalues of $M$ are uniformly distributed within an ellipse in the complex plane, whose semi-axes are:\n",
    "$$\n",
    "\\begin{align}\n",
    "    a &= \\sqrt{SV}(1+\\rho) \\\\\n",
    "    b &= \\sqrt{SV}(1-\\rho)\n",
    "\\end{align}\n",
    "$$\n",
    "where $V=Var(M_{ij})$. \n",
    "\n",
    "Moreover, in this case the interaction matrix has non-zero mean. This leads to an eigenvalue, which in general can be located outside of the ellipse and seen as a sort of outlier, such that:\n",
    "$$\n",
    "    Re(\\lambda) = -d+(S-1)\\mathbb{E}[M_ij]\n",
    "$$ \n",
    "Not only this, but also the center of the ellipse is moved in $(-d-\\mathbb{E}[M_{ij}], 0)$.\n",
    "\n"
   ]
  },
  {
   "cell_type": "code",
   "execution_count": null,
   "metadata": {},
   "outputs": [],
   "source": [
    "# rho numerical estimate\n",
    "def correlation_numerical(M):\n",
    "    '''\n",
    "    INPUT: matrix M\n",
    "    OUTPUT: expected correlation rho between Mij and Mji\n",
    "    \n",
    "    '''\n",
    "    \n",
    "    E_aij = M.mean()\n",
    "    E_aij_aji = np.mean((M*M.T)[np.triu_indices(M.shape[0])])\n",
    "    Var_aij = M.var()\n",
    "    \n",
    "    return (E_aij_aji - E_aij**2)/Var_aij\n",
    "\n",
    "\n",
    "# outlier numerical estimate\n",
    "def outlier_numerical(M, species):\n",
    "    '''\n",
    "    INPUT:\n",
    "    - species  -> float, number of species\n",
    "    - M        -> interaction matrix M\n",
    "    \n",
    "    OUTPUT: Re(lambda)\n",
    "    \n",
    "    '''\n",
    "    \n",
    "    return -d+(species-1)*M.mean()\n",
    "\n",
    "\n",
    "# ellipse extremes\n",
    "def my_ellipse(center, species, variance, rho):\n",
    "    '''\n",
    "    INPUT:\n",
    "    - center   -> [ , ], center of the ellipse\n",
    "    - species  -> float, number of species\n",
    "    - variance -> variance of the interaction matrix\n",
    "    - rho      -> correlation coefficient\n",
    "    \n",
    "    OUTPUT: \n",
    "    - x0 -> min(x)\n",
    "    - y0 -> min(y)\n",
    "    - x1 -> max(x)\n",
    "    - y1 -> max(y)\n",
    "    \n",
    "    '''\n",
    "        \n",
    "    radius = np.sqrt(species*variance)\n",
    "    a = radius*(1+rho)\n",
    "    b = radius*(1-rho)\n",
    "    \n",
    "    x0_ = center[0]-a\n",
    "    y0_ = center[1]-b\n",
    "    x1_ = center[0]+a\n",
    "    y1_ = center[1]+b\n",
    "\n",
    "    return x0_, y0_, x1_, y1_"
   ]
  },
  {
   "cell_type": "markdown",
   "metadata": {},
   "source": [
    "## Numerical approach\n",
    "Here all results are achived numerically, not taking into account the distribution used. At each iteration\n",
    "- $\\mathbb{E}[M_{ij}]$\n",
    "- $\\mathbb{E}[M_{ij}, M_{ji}]$\n",
    "- $Var(M_{ij})$\n",
    "\n",
    "are estimated numerically from the costructed matrix. Their final estimated value is obtained by averaging over the iterations. "
   ]
  },
  {
   "cell_type": "code",
   "execution_count": null,
   "metadata": {},
   "outputs": [
    {
     "name": "stdout",
     "output_type": "stream",
     "text": [
      "The expected center of the ellipse is: (-1.66, 0)\n",
      "Outlier eigenvalue: 64.22\n"
     ]
    }
   ],
   "source": [
    "np.random.seed(1245)\n",
    "\n",
    "# build N random matrices, with mutualistic structure\n",
    "N = 10\n",
    "appended_data   = []\n",
    "rho_values      = []\n",
    "mean_values     = []\n",
    "variance_values = []\n",
    "outlier_values  = []\n",
    "\n",
    "for i in range(N):\n",
    "    df_eig = pd.DataFrame(columns=['re', 'im', 'run'])\n",
    "    \n",
    "    M = randommatrix(S, d, C, mutualistic=True)\n",
    "    eig_M, _ = np.linalg.eig(M)\n",
    "    df_eig['re'] = np.real(eig_M)\n",
    "    df_eig['im'] = np.imag(eig_M)\n",
    "    df_eig['run'] = [str(i+1)]*len(eig_M)\n",
    "    \n",
    "    appended_data.append(df_eig)\n",
    "    rho_values.append(correlation_numerical(M))\n",
    "    variance_values.append(np.var(M))\n",
    "    mean_values.append(np.mean(M))\n",
    "    outlier_values.append(outlier_numerical(M, S))\n",
    "    \n",
    "appended_data = pd.concat(appended_data)\n",
    "rho = np.mean(rho_values)\n",
    "variance_M = np.mean(variance_values)\n",
    "expected_M = np.mean(mean_values)\n",
    "\n",
    "out_lambda = np.mean(outlier_values)\n",
    "\n",
    "# ellipse data\n",
    "center = [-d-expected_M, 0]\n",
    "print('The expected center of the ellipse is: (%.2f, %i)' %(center[0], center[1]))\n",
    "\n",
    "x0, y0, x1, y1 = my_ellipse(center, S, variance_M, rho)\n",
    "\n",
    "# estimate outlier\n",
    "print('Outlier eigenvalue: %.2f' %out_lambda)\n"
   ]
  },
  {
   "cell_type": "code",
   "execution_count": null,
   "metadata": {},
   "outputs": [
    {
     "data": {
      "application/vnd.plotly.v1+json": {
       "config": {
        "plotlyServerURL": "https://plot.ly"
       },
       "data": [
        {
         "legendgroup": "1",
         "marker": {
          "color": "#636EFA"
         },
         "mode": "markers",
         "name": "1",
         "showlegend": true,
         "type": "scatter",
         "x": [
          -8.897034852380665,
          -8.50727233091813,
          -8.50727233091813,
          4.833398160493152,
          4.833398160493152,
          4.962589633192558,
          4.380808280547657,
          4.380808280547657,
          4.673256509222725,
          4.48470852022099,
          4.48470852022099,
          -7.82732449856823,
          -7.82732449856823,
          -7.07736317813389,
          -7.07736317813389,
          -7.7836121958654125,
          -6.233003600246494,
          -6.233003600246494,
          -5.594633127485229,
          -5.594633127485229,
          2.0831333449540983,
          2.0831333449540983,
          3.5781395746195535,
          3.5781395746195535,
          2.3132424313109117,
          2.3132424313109117,
          2.4406830699676774,
          2.4406830699676774,
          -2.9857050662621236,
          -2.9857050662621236,
          -3.892858254069618,
          -3.892858254069618,
          -6.574470315766803,
          -6.574470315766803,
          -7.022730367508687,
          -4.40835815717937,
          -4.40835815717937,
          -5.654268301617874,
          -5.654268301617874,
          -6.5649671061239445,
          -6.2305835920502926,
          -6.2305835920502926,
          -4.958477613397251,
          -4.958477613397251,
          3.373639710937804,
          3.373639710937804,
          -0.5700037108834236,
          -0.5700037108834236,
          0.7745426132064593,
          0.7745426132064593,
          -2.149766866883917,
          -2.149766866883917,
          -2.1399219921930035,
          -2.1399219921930035,
          -4.30451831342745,
          -4.30451831342745,
          -5.487720783203819,
          3.0304352678125297,
          3.0304352678125297,
          -0.26765633015704465,
          -0.26765633015704465,
          0.4642906689998323,
          0.4642906689998323,
          1.4212178582659063,
          1.4212178582659063,
          1.9645815174186978,
          1.9645815174186978,
          2.146684316979024,
          1.7762359918841284,
          1.238050554549924,
          1.238050554549924,
          -4.779767840290772,
          -4.779767840290772,
          -3.725938120315976,
          -3.725938120315976,
          0.7270045170335169,
          0.7270045170335169,
          -0.5651041930613674,
          -0.5651041930613674,
          -1.4838830339400209,
          -1.4838830339400209,
          -2.8189716878424105,
          -2.8189716878424105,
          -1.4735804102546042,
          -1.4735804102546042,
          0.6148136336039244,
          -4.135196260973985,
          -3.731541070103652,
          -3.731541070103652,
          -3.103455366943736,
          -3.103455366943736,
          -0.31470605385462475,
          -0.6722536626614686,
          -1.5159039543453356,
          -1.5159039543453356,
          -2.6024174813006917,
          -2.6024174813006917,
          -2.0467432760803352,
          -1.8117973929058506
         ],
         "xaxis": "x",
         "y": [
          0,
          0.8833685236663178,
          -0.8833685236663178,
          1.3670116331735132,
          -1.3670116331735132,
          0,
          2.239576871358473,
          -2.239576871358473,
          0,
          0.8947696629202868,
          -0.8947696629202868,
          1.5739010907186755,
          -1.5739010907186755,
          2.7535859262878986,
          -2.7535859262878986,
          0,
          3.441812536225779,
          -3.441812536225779,
          4.034205514042402,
          -4.034205514042402,
          4.057976642495422,
          -4.057976642495422,
          2.169850623161479,
          -2.169850623161479,
          3.6019756286572187,
          -3.6019756286572187,
          3.1560438780511695,
          -3.1560438780511695,
          4.5202513718341395,
          -4.5202513718341395,
          4.3126936074377165,
          -4.3126936074377165,
          1.7275705595740551,
          -1.7275705595740551,
          0,
          3.906688626891699,
          -3.906688626891699,
          2.71106174079799,
          -2.71106174079799,
          0,
          1.2577331953962392,
          -1.2577331953962392,
          3.1398127855456273,
          -3.1398127855456273,
          1.3803376519326087,
          -1.3803376519326087,
          4.202472436523269,
          -4.202472436523269,
          3.7555916174542734,
          -3.7555916174542734,
          4.078414683387485,
          -4.078414683387485,
          3.8153495524128944,
          -3.8153495524128944,
          2.7927537930882713,
          -2.7927537930882713,
          0,
          0.11434344485266304,
          -0.11434344485266304,
          3.221389389810893,
          -3.221389389810893,
          2.758472797743976,
          -2.758472797743976,
          2.021097822208062,
          -2.021097822208062,
          1.0068654444255596,
          -1.0068654444255596,
          0,
          0,
          1.4480784125417214,
          -1.4480784125417214,
          0.797332348259645,
          -0.797332348259645,
          2.2233727634238307,
          -2.2233727634238307,
          1.4138887194492702,
          -1.4138887194492702,
          2.4604807082646514,
          -2.4604807082646514,
          2.721593711217503,
          -2.721593711217503,
          2.2794860186579977,
          -2.2794860186579977,
          2.25591526240012,
          -2.25591526240012,
          0,
          0,
          0.8503828140895626,
          -0.8503828140895626,
          0.9162594887410463,
          -0.9162594887410463,
          0,
          0,
          0.9482241993677024,
          -0.9482241993677024,
          0.6608765519975637,
          -0.6608765519975637,
          0,
          0
         ],
         "yaxis": "y"
        },
        {
         "legendgroup": "2",
         "marker": {
          "color": "#EF553B"
         },
         "mode": "markers",
         "name": "2",
         "showlegend": true,
         "type": "scatter",
         "x": [
          -9.318812166913297,
          -8.945874937747018,
          -8.150307022262018,
          -8.150307022262018,
          -7.8112459098611,
          -7.8112459098611,
          -7.462298804965957,
          -7.462298804965957,
          -6.432856337937868,
          -6.432856337937868,
          5.1044696111550705,
          5.1044696111550705,
          5.0343256973730375,
          2.3474735413854395,
          2.3474735413854395,
          3.942815424301165,
          3.942815424301165,
          3.6876284899010874,
          3.6876284899010874,
          4.437910221216368,
          -6.253845798168367,
          -6.253845798168367,
          -5.398543027797968,
          -5.398543027797968,
          -6.631784033805131,
          -6.631784033805131,
          -1.6665886163076304,
          -1.6665886163076304,
          -3.9436887499407463,
          -3.9436887499407463,
          -2.768729395436509,
          -2.768729395436509,
          3.9639683350734036,
          2.519693754640102,
          2.519693754640102,
          2.130594914283636,
          2.130594914283636,
          3.5873755228195496,
          3.5873755228195496,
          3.1568157816844344,
          3.1568157816844344,
          -4.21937495663699,
          -4.21937495663699,
          -5.448876832091111,
          -5.448876832091111,
          -5.825779291601587,
          -5.825779291601587,
          1.3483484020756655,
          1.3483484020756655,
          0.664345397056285,
          0.664345397056285,
          -2.403855581851265,
          -2.403855581851265,
          2.7144552869790015,
          -0.6457149304575127,
          -0.6457149304575127,
          -1.4192725477278216,
          -1.4192725477278216,
          1.904354357305253,
          1.904354357305253,
          0.10905226207503302,
          0.10905226207503302,
          0.3332693110017541,
          0.3332693110017541,
          0.9570293866747852,
          0.9570293866747852,
          1.8174705074728288,
          1.8174705074728288,
          -2.8519460966538417,
          -2.8519460966538417,
          -4.084608912955328,
          -4.084608912955328,
          -5.574122023112398,
          -3.8675632643600184,
          -3.8675632643600184,
          -4.706021164541875,
          -4.706021164541875,
          -4.284570828588418,
          -4.284570828588418,
          -4.35389804554538,
          -2.7558732010234435,
          -2.7558732010234435,
          -3.5892651437747283,
          -3.5892651437747283,
          -1.8722387827313949,
          -1.8722387827313949,
          -1.2265172143176724,
          -1.2265172143176724,
          -0.5133677634535555,
          -0.5133677634535555,
          -0.10441605966714056,
          -0.10441605966714056,
          0.3356935997393987,
          0.3356935997393987,
          -2.3955581018290064,
          -2.3955581018290064,
          -2.6244292958494486,
          -1.1739627418139413,
          -0.7065052164938712
         ],
         "xaxis": "x",
         "y": [
          0,
          0,
          2.526124318648057,
          -2.526124318648057,
          1.028855686422011,
          -1.028855686422011,
          1.3487130412008586,
          -1.3487130412008586,
          2.904650229394549,
          -2.904650229394549,
          0.844015331519005,
          -0.844015331519005,
          0,
          4.239219360437536,
          -4.239219360437536,
          2.3314736504041744,
          -2.3314736504041744,
          2.3701994932020862,
          -2.3701994932020862,
          0,
          2.271839369622277,
          -2.271839369622277,
          3.296748355967949,
          -3.296748355967949,
          0.5455973781087736,
          -0.5455973781087736,
          4.759775415396554,
          -4.759775415396554,
          4.090521326118623,
          -4.090521326118623,
          4.553025332607355,
          -4.553025332607355,
          0,
          2.82109792805038,
          -2.82109792805038,
          3.1070750981324506,
          -3.1070750981324506,
          0.5164737744817206,
          -0.5164737744817206,
          1.1986871607940386,
          -1.1986871607940386,
          3.5677676024552754,
          -3.5677676024552754,
          2.0853522671778726,
          -2.0853522671778726,
          1.3037284265747564,
          -1.3037284265747564,
          3.3992487672041944,
          -3.3992487672041944,
          3.6751085603506652,
          -3.6751085603506652,
          3.9097811045087796,
          -3.9097811045087796,
          0,
          3.741288204650418,
          -3.741288204650418,
          3.604481149494613,
          -3.604481149494613,
          1.1582310969442249,
          -1.1582310969442249,
          3.083435191833807,
          -3.083435191833807,
          2.91103595344525,
          -2.91103595344525,
          2.3289634189572457,
          -2.3289634189572457,
          0.07560992057698962,
          -0.07560992057698962,
          3.258937422020282,
          -3.258937422020282,
          2.735293919059842,
          -2.735293919059842,
          0,
          2.2947306548909365,
          -2.2947306548909365,
          0.26595296519678796,
          -0.26595296519678796,
          0.7700847381629108,
          -0.7700847381629108,
          0,
          1.6519344793777275,
          -1.6519344793777275,
          0.7023691737366763,
          -0.7023691737366763,
          1.8744400212109138,
          -1.8744400212109138,
          1.831584545667498,
          -1.831584545667498,
          1.4027665350636724,
          -1.4027665350636724,
          1.040746041307024,
          -1.040746041307024,
          0.20087816971666603,
          -0.20087816971666603,
          0.6331726469406109,
          -0.6331726469406109,
          0,
          0,
          0
         ],
         "yaxis": "y"
        },
        {
         "legendgroup": "3",
         "marker": {
          "color": "#00CC96"
         },
         "mode": "markers",
         "name": "3",
         "showlegend": true,
         "type": "scatter",
         "x": [
          -8.218824136680412,
          -8.218824136680412,
          -8.804158628662885,
          -8.594396840448606,
          -8.594396840448606,
          -8.373903410767756,
          5.298239518363282,
          4.652203498461869,
          4.652203498461869,
          -6.746838938343803,
          -6.746838938343803,
          -7.466532535929754,
          -7.466532535929754,
          -5.217992007513133,
          -5.217992007513133,
          -5.964876487492167,
          -5.964876487492167,
          3.047372750020847,
          3.047372750020847,
          3.7478408299863273,
          3.7478408299863273,
          4.362467543055647,
          -6.850560457453151,
          -6.21665855687757,
          -6.21665855687757,
          -1.4061719566459343,
          -1.4061719566459343,
          3.9361947229134016,
          3.9361947229134016,
          2.7090345095040353,
          2.7090345095040353,
          3.5951697254503943,
          3.3703518711524736,
          3.3703518711524736,
          -3.590867204176976,
          -3.590867204176976,
          -2.411463253573671,
          -2.411463253573671,
          2.843491224372769,
          2.843491224372769,
          0.5149615673136735,
          0.5149615673136735,
          0.37851587602482745,
          0.37851587602482745,
          1.7690414457453258,
          1.7690414457453258,
          -0.8667246383318747,
          -0.8667246383318747,
          2.0244880885033214,
          2.0244880885033214,
          1.8177069328123852,
          1.8177069328123852,
          2.224757109918946,
          2.224757109918946,
          0.7510838243882723,
          0.7510838243882723,
          1.1778639536817377,
          1.1778639536817377,
          -6.021692113943103,
          -6.021692113943103,
          -3.1606846491867664,
          -3.1606846491867664,
          -4.344908953689151,
          -4.344908953689151,
          -5.098465426126444,
          -5.098465426126444,
          -4.6031910882352,
          -4.6031910882352,
          -3.7993245335742087,
          -3.7993245335742087,
          -5.23859332156537,
          -5.23859332156537,
          -5.0871754905770485,
          -5.0871754905770485,
          -0.6207367768589862,
          -0.6207367768589862,
          1.229745698334653,
          1.229745698334653,
          -0.37179828948472393,
          -0.37179828948472393,
          -1.8086093152897549,
          -1.8086093152897549,
          -2.486680257303183,
          -2.486680257303183,
          -3.7655332460183626,
          -3.7655332460183626,
          0.3834548893839111,
          0.3834548893839111,
          0.08526449978564997,
          -0.6601000073619028,
          -1.0354044371156204,
          -2.302992241618214,
          -2.302992241618214,
          -3.4872982504451566,
          -3.2058651514499648,
          -3.2058651514499648,
          -2.209696305768748,
          -2.209696305768748,
          -2.632565397361535
         ],
         "xaxis": "x",
         "y": [
          1.8711283218961363,
          -1.8711283218961363,
          0,
          0.6386870920353338,
          -0.6386870920353338,
          0,
          0,
          1.8262632402188614,
          -1.8262632402188614,
          2.596380538449527,
          -2.596380538449527,
          0.23654331928710648,
          -0.23654331928710648,
          4.215835989425433,
          -4.215835989425433,
          3.158364953636758,
          -3.158364953636758,
          3.5526144049207824,
          -3.5526144049207824,
          2.2311064903466016,
          -2.2311064903466016,
          0,
          0,
          1.9412701410778117,
          -1.9412701410778117,
          4.9369266462980415,
          -4.9369266462980415,
          0.4004859410877327,
          -0.4004859410877327,
          2.9281637799856832,
          -2.9281637799856832,
          0,
          1.2611695493784842,
          -1.2611695493784842,
          4.150966263669241,
          -4.150966263669241,
          4.3323069287265135,
          -4.3323069287265135,
          1.8854954873366916,
          -1.8854954873366916,
          3.9351550371385846,
          -3.9351550371385846,
          3.88457069362217,
          -3.88457069362217,
          2.9751215828327857,
          -2.9751215828327857,
          4.089391392606368,
          -4.089391392606368,
          2.4199358559543747,
          -2.4199358559543747,
          1.9130128956666912,
          -1.9130128956666912,
          0.2372438808486332,
          -0.2372438808486332,
          2.641019446664733,
          -2.641019446664733,
          2.1590680920314185,
          -2.1590680920314185,
          0.7802089715990603,
          -0.7802089715990603,
          3.4773493385451197,
          -3.4773493385451197,
          3.05265260248626,
          -3.05265260248626,
          2.099677686958015,
          -2.099677686958015,
          2.6546460932056397,
          -2.6546460932056397,
          3.0124235863751876,
          -3.0124235863751876,
          1.1230483184122562,
          -1.1230483184122562,
          0.7099977701897867,
          -0.7099977701897867,
          3.0171015470487133,
          -3.0171015470487133,
          0.8134625573331383,
          -0.8134625573331383,
          2.2173977486813405,
          -2.2173977486813405,
          2.7655633149323897,
          -2.7655633149323897,
          2.579453111416975,
          -2.579453111416975,
          1.8771238853990742,
          -1.8771238853990742,
          0.7188123354250503,
          -0.7188123354250503,
          0,
          0,
          0,
          1.376053810420726,
          -1.376053810420726,
          0,
          0.6285136917596122,
          -0.6285136917596122,
          0.39736494078823154,
          -0.39736494078823154,
          0
         ],
         "yaxis": "y"
        },
        {
         "legendgroup": "4",
         "marker": {
          "color": "#AB63FA"
         },
         "mode": "markers",
         "name": "4",
         "showlegend": true,
         "type": "scatter",
         "x": [
          5.787331752512714,
          -9.191257803940319,
          -9.191257803940319,
          5.139991507734725,
          5.139991507734725,
          5.001676346866885,
          5.001676346866885,
          4.321046923094747,
          4.321046923094747,
          3.944204722732561,
          3.944204722732561,
          -2.6924374007052605,
          -2.6924374007052605,
          -7.974881880355774,
          -7.974881880355774,
          -6.435032616261854,
          -6.435032616261854,
          2.978758806641058,
          2.978758806641058,
          3.271217184593409,
          3.271217184593409,
          3.864757211597431,
          2.0492418593238404,
          2.0492418593238404,
          3.4125387126114375,
          -3.121916265572553,
          -3.121916265572553,
          2.8267364489573916,
          2.8267364489573916,
          2.563670422105855,
          2.3756331993043407,
          2.3756331993043407,
          1.1775333552103626,
          1.1775333552103626,
          0.3997760151124244,
          0.3997760151124244,
          0.5806708573690862,
          0.5806708573690862,
          -0.3869585767635026,
          -0.3869585767635026,
          -7.769779264653852,
          -6.488487282738786,
          -6.488487282738786,
          -7.41764720814366,
          -4.175186067876659,
          -4.175186067876659,
          -4.762267688921727,
          -4.762267688921727,
          -2.057858357765888,
          -2.057858357765888,
          -7.005258292094814,
          -6.126231050062631,
          -6.126231050062631,
          1.4749479272919093,
          1.4749479272919093,
          1.0059830304808126,
          1.0059830304808126,
          0.0947632779629903,
          0.0947632779629903,
          -6.418423169240098,
          -6.418423169240098,
          -5.539719331794967,
          -5.539719331794967,
          -3.809981945586127,
          -3.809981945586127,
          -1.7644031680064545,
          -1.7644031680064545,
          -4.904117228422961,
          -4.904117228422961,
          -5.071223217859509,
          -5.071223217859509,
          -5.845618365212228,
          -5.845618365212228,
          -5.2495740680205705,
          -5.2495740680205705,
          -3.28060720818423,
          -3.28060720818423,
          -1.4878639940611367,
          -1.4878639940611367,
          -4.595558069785794,
          -3.728590928533756,
          -3.728590928533756,
          -3.9233529491745993,
          -3.9233529491745993,
          0.6055897943044983,
          0.6055897943044983,
          -2.867391713096249,
          -2.867391713096249,
          -0.4852278554139873,
          -0.4852278554139873,
          -0.3154216798396014,
          -1.1123513640483194,
          -1.1123513640483194,
          -2.452817638309545,
          -2.452817638309545,
          -1.4962743977991297,
          -1.4962743977991297,
          -1.6452140605081655,
          -1.958396764545171
         ],
         "xaxis": "x",
         "y": [
          0,
          1.3877683989719716,
          -1.3877683989719716,
          1.5205462273206243,
          -1.5205462273206243,
          1.022305216855095,
          -1.022305216855095,
          2.266435982529862,
          -2.266435982529862,
          2.866545685507793,
          -2.866545685507793,
          5.452236948278814,
          -5.452236948278814,
          1.0711700591999882,
          -1.0711700591999882,
          3.4815458069236844,
          -3.4815458069236844,
          2.73310813006541,
          -2.73310813006541,
          1.908194126070621,
          -1.908194126070621,
          0,
          3.113655639337452,
          -3.113655639337452,
          0,
          4.673103378877977,
          -4.673103378877977,
          0.7817485359689468,
          -0.7817485359689468,
          0,
          1.0637350737425422,
          -1.0637350737425422,
          2.753078078063293,
          -2.753078078063293,
          3.5580267848619305,
          -3.5580267848619305,
          3.3952091514340874,
          -3.3952091514340874,
          3.9285511131055646,
          -3.9285511131055646,
          0,
          2.574503492365315,
          -2.574503492365315,
          0,
          3.9537961189906987,
          -3.9537961189906987,
          3.58073472805729,
          -3.58073472805729,
          4.110937025044314,
          -4.110937025044314,
          0,
          2.171863653890127,
          -2.171863653890127,
          0.769891402005602,
          -0.769891402005602,
          1.5801048006985552,
          -1.5801048006985552,
          2.634478365986359,
          -2.634478365986359,
          0.7891009248276031,
          -0.7891009248276031,
          2.105388298952417,
          -2.105388298952417,
          3.0988246411314084,
          -3.0988246411314084,
          3.2398339041321407,
          -3.2398339041321407,
          2.35471449082098,
          -2.35471449082098,
          1.8705590051889855,
          -1.8705590051889855,
          0.1641354329178919,
          -0.1641354329178919,
          0.6617125119080919,
          -0.6617125119080919,
          2.6017900684544544,
          -2.6017900684544544,
          2.7936551404867367,
          -2.7936551404867367,
          0,
          1.5099926843861708,
          -1.5099926843861708,
          0.61336528935916,
          -0.61336528935916,
          0.6703360999714316,
          -0.6703360999714316,
          1.6252134780959864,
          -1.6252134780959864,
          1.4743603937287244,
          -1.4743603937287244,
          0,
          1.3784024302550337,
          -1.3784024302550337,
          1.1898118635038513,
          -1.1898118635038513,
          0.9440939850545141,
          -0.9440939850545141,
          0,
          0
         ],
         "yaxis": "y"
        },
        {
         "legendgroup": "5",
         "marker": {
          "color": "#FFA15A"
         },
         "mode": "markers",
         "name": "5",
         "showlegend": true,
         "type": "scatter",
         "x": [
          5.787331780454346,
          -9.051825080729149,
          -9.051825080729149,
          4.36381779221276,
          4.36381779221276,
          4.79007255778552,
          4.79007255778552,
          3.869083988943213,
          3.869083988943213,
          4.578933296021593,
          4.578933296021593,
          4.534795271806907,
          -7.7742894058122305,
          -7.7742894058122305,
          -8.238321039278684,
          -8.019141062935024,
          -8.019141062935024,
          3.8327822821455557,
          2.339814839644072,
          2.339814839644072,
          1.3274502971524378,
          1.3274502971524378,
          3.402479031094515,
          3.402479031094515,
          -7.877367361272988,
          -2.890048656008317,
          -2.890048656008317,
          -5.550145101315708,
          -5.550145101315708,
          -7.371056824325238,
          -7.371056824325238,
          2.3467384294818125,
          2.3467384294818125,
          -1.0478897058288223,
          -1.0478897058288223,
          -3.8989260811182573,
          -3.8989260811182573,
          0.8706648927147148,
          0.8706648927147148,
          2.342690266929732,
          2.342690266929732,
          1.7028465360805234,
          1.7028465360805234,
          -4.759711808639868,
          -4.759711808639868,
          -0.04134014366685686,
          -0.04134014366685686,
          -6.522731661512087,
          -6.522731661512087,
          -0.8394280736731227,
          -0.8394280736731227,
          -5.907915175115557,
          -5.907915175115557,
          -1.943285744701625,
          -1.943285744701625,
          -4.965277010477216,
          -4.965277010477216,
          -5.187267240380836,
          -5.187267240380836,
          -5.756792629347568,
          -5.557723864008089,
          -5.240483363206768,
          -5.240483363206768,
          -4.2098757010491115,
          -4.2098757010491115,
          -3.3136271890422178,
          -3.3136271890422178,
          -5.056571753005845,
          2.076334891233274,
          2.076334891233274,
          0.7534230456111348,
          0.7534230456111348,
          -3.7195208239684137,
          -3.7195208239684137,
          -3.932759812475438,
          -3.932759812475438,
          1.2181051440459933,
          1.2181051440459933,
          -0.8293780549652007,
          -0.8293780549652007,
          0.9943105268576802,
          0.9943105268576802,
          -2.692724621741375,
          -2.692724621741375,
          0.5601546376278752,
          -3.555508718469349,
          -2.9361058857309645,
          -2.9361058857309645,
          -1.7636330099586126,
          -1.7636330099586126,
          -0.41893619505355806,
          -0.41893619505355806,
          -0.5955143125435964,
          -0.5955143125435964,
          -2.3637904773029894,
          -1.7688639746048391,
          -1.7688639746048391,
          -0.9928970373360044,
          -0.600271551272182
         ],
         "xaxis": "x",
         "y": [
          0,
          0.9149579664654384,
          -0.9149579664654384,
          2.346401286912787,
          -2.346401286912787,
          1.00936540496509,
          -1.00936540496509,
          2.6770896184798634,
          -2.6770896184798634,
          0.23671627458715083,
          -0.23671627458715083,
          0,
          2.175076025634277,
          -2.175076025634277,
          0,
          0.9569632300790868,
          -0.9569632300790868,
          0,
          3.512896214410384,
          -3.512896214410384,
          4.209238663551354,
          -4.209238663551354,
          1.2481963881884905,
          -1.2481963881884905,
          0,
          5.081372082231385,
          -5.081372082231385,
          4.068818920230878,
          -4.068818920230878,
          1.0636413475630973,
          -1.0636413475630973,
          2.728660477374006,
          -2.728660477374006,
          4.518833631939654,
          -4.518833631939654,
          4.324107818480612,
          -4.324107818480612,
          3.5417784007166264,
          -3.5417784007166264,
          1.205936438795977,
          -1.205936438795977,
          2.3117467632654547,
          -2.3117467632654547,
          3.588762502357675,
          -3.588762502357675,
          3.4951836579801867,
          -3.4951836579801867,
          1.001929399724951,
          -1.001929399724951,
          3.5132725948477703,
          -3.5132725948477703,
          1.805181564138911,
          -1.805181564138911,
          3.424786822702759,
          -3.424786822702759,
          2.5880811909602013,
          -2.5880811909602013,
          2.1651895176600187,
          -2.1651895176600187,
          0,
          0,
          1.09312844303035,
          -1.09312844303035,
          2.5758395023486997,
          -2.5758395023486997,
          2.9455679849447005,
          -2.9455679849447005,
          0,
          0.28141997890962667,
          -0.28141997890962667,
          2.5088738373843995,
          -2.5088738373843995,
          2.2068243775813565,
          -2.2068243775813565,
          1.640208018751171,
          -1.640208018751171,
          1.4653777813235123,
          -1.4653777813235123,
          2.6171301289704907,
          -2.6171301289704907,
          1.0443807073648828,
          -1.0443807073648828,
          1.8950703547944765,
          -1.8950703547944765,
          0,
          0,
          0.6525887474577605,
          -0.6525887474577605,
          1.5682617013412883,
          -1.5682617013412883,
          1.3669884206982885,
          -1.3669884206982885,
          1.1511028668231431,
          -1.1511028668231431,
          0,
          0.8352182818269338,
          -0.8352182818269338,
          0,
          0
         ],
         "yaxis": "y"
        },
        {
         "legendgroup": "6",
         "marker": {
          "color": "#19D3F3"
         },
         "mode": "markers",
         "name": "6",
         "showlegend": true,
         "type": "scatter",
         "x": [
          5.696417014250177,
          -6.941445039592487,
          -6.941445039592487,
          -8.842186452808674,
          -8.5607624634254,
          -8.5607624634254,
          4.585543917986703,
          4.585543917986703,
          1.9421842761813808,
          1.9421842761813808,
          3.463306439779147,
          3.463306439779147,
          -7.9539601840848855,
          -7.9539601840848855,
          -7.9334048924048535,
          -7.9334048924048535,
          3.914021465911554,
          3.914021465911554,
          -5.430992458250717,
          -5.430992458250717,
          0.48294164552471724,
          0.48294164552471724,
          4.11849778003543,
          4.11849778003543,
          3.8208553302120234,
          3.8208553302120234,
          -6.715725046514208,
          -6.715725046514208,
          -4.652907086876354,
          -4.652907086876354,
          3.6227508572469453,
          3.6227508572469453,
          -7.264858617991601,
          -2.3800471812852395,
          -2.3800471812852395,
          -6.738009344759395,
          -6.738009344759395,
          2.3607408423145806,
          2.3607408423145806,
          -0.2215244915998999,
          -0.2215244915998999,
          1.2111822948276656,
          1.2111822948276656,
          2.796252827306201,
          2.6428706006216633,
          2.6428706006216633,
          1.4450808390431815,
          1.4450808390431815,
          -4.559997804861823,
          -4.559997804861823,
          -5.745569719623389,
          -5.745569719623389,
          -3.178182390514513,
          -3.178182390514513,
          0.6246205293852204,
          0.6246205293852204,
          1.9949447793877093,
          1.9949447793877093,
          0.5948043027474216,
          0.5948043027474216,
          2.05768515643048,
          -5.14404347684437,
          -5.14404347684437,
          -3.4612026845302784,
          -3.4612026845302784,
          -2.361649537991765,
          -2.361649537991765,
          -1.1697299314632796,
          -1.1697299314632796,
          -5.560551288935131,
          -3.7308902807636652,
          -3.7308902807636652,
          -0.7743734753557193,
          -0.7743734753557193,
          -4.04897401965587,
          -4.04897401965587,
          -4.908124376177611,
          -4.6524383458346446,
          -4.6524383458346446,
          -4.429288870332248,
          -3.861376646132688,
          -3.861376646132688,
          -0.7957152858242502,
          -0.7957152858242502,
          -1.883430431247139,
          -1.883430431247139,
          1.2614004605097326,
          0.7988445640107606,
          0.7988445640107606,
          0.17040079904116046,
          -0.5815168739234184,
          -0.5815168739234184,
          -1.3822183547153497,
          -1.3822183547153497,
          -3.255690237707289,
          -3.255690237707289,
          -2.291182733249677,
          -2.5314262544109645,
          -2.5314262544109645
         ],
         "xaxis": "x",
         "y": [
          0,
          3.9921141392034873,
          -3.9921141392034873,
          0,
          0.6518376135138951,
          -0.6518376135138951,
          2.252503671634935,
          -2.252503671634935,
          4.818506085043943,
          -4.818506085043943,
          3.4721345873699714,
          -3.4721345873699714,
          1.9646567853316064,
          -1.9646567853316064,
          1.3509931052917055,
          -1.3509931052917055,
          2.29636125120064,
          -2.29636125120064,
          4.162594690954553,
          -4.162594690954553,
          4.712795492061026,
          -4.712795492061026,
          0.5839559608091756,
          -0.5839559608091756,
          0.9334604100016668,
          -0.9334604100016668,
          2.432416626017832,
          -2.432416626017832,
          4.258669284473641,
          -4.258669284473641,
          0.09634253020892006,
          -0.09634253020892006,
          0,
          4.653554647717078,
          -4.653554647717078,
          0.7081363613235275,
          -0.7081363613235275,
          2.233639288701099,
          -2.233639288701099,
          4.004071749368063,
          -4.004071749368063,
          3.322454352076463,
          -3.322454352076463,
          0,
          0.8114953996609174,
          -0.8114953996609174,
          2.746144988363148,
          -2.746144988363148,
          3.4595721304763503,
          -3.4595721304763503,
          2.1634883480092846,
          -2.1634883480092846,
          3.826903685746072,
          -3.826903685746072,
          3.0560100352420596,
          -3.0560100352420596,
          1.0442990086123738,
          -1.0442990086123738,
          2.635735150179745,
          -2.635735150179745,
          0,
          2.4513876582403586,
          -2.4513876582403586,
          3.2015399201102723,
          -3.2015399201102723,
          3.2594646232101105,
          -3.2594646232101105,
          2.985832876185622,
          -2.985832876185622,
          0,
          2.513483070416574,
          -2.513483070416574,
          2.5516667164343447,
          -2.5516667164343447,
          1.7481483747302777,
          -1.7481483747302777,
          0,
          0.7337695476875014,
          -0.7337695476875014,
          0,
          1.289342013843539,
          -1.289342013843539,
          2.1335946270275503,
          -2.1335946270275503,
          2.082709855421529,
          -2.082709855421529,
          0,
          0.18689504806453533,
          -0.18689504806453533,
          0,
          0.4315759368949267,
          -0.4315759368949267,
          1.0668820828441847,
          -1.0668820828441847,
          0.5514460858577223,
          -0.5514460858577223,
          0,
          0.7509853917804731,
          -0.7509853917804731
         ],
         "yaxis": "y"
        },
        {
         "legendgroup": "7",
         "marker": {
          "color": "#FF6692"
         },
         "mode": "markers",
         "name": "7",
         "showlegend": true,
         "type": "scatter",
         "x": [
          5.909814859042712,
          4.659503125670308,
          4.659503125670308,
          4.684778359548368,
          4.684778359548368,
          1.090020734387193,
          1.090020734387193,
          -8.758943616957417,
          -7.660552789372278,
          -7.660552789372278,
          -8.270396624268358,
          -8.139007925011128,
          -8.139007925011128,
          4.239291889522421,
          4.0770450694395635,
          4.0770450694395635,
          -4.539682130966425,
          -4.539682130966425,
          -7.387305074601963,
          -7.387305074601963,
          -6.29655383208145,
          -6.29655383208145,
          -6.617657833892436,
          -6.617657833892436,
          -6.989253851574176,
          -6.989253851574176,
          2.7520031063639196,
          2.7520031063639196,
          -6.102783865131201,
          -6.102783865131201,
          2.9519380101351236,
          2.9519380101351236,
          1.3168057739351287,
          1.3168057739351287,
          3.4320441666054013,
          3.225078330352335,
          3.225078330352335,
          2.7282189584769396,
          2.7282189584769396,
          -1.9462871883034558,
          -1.9462871883034558,
          0.33492954670973724,
          0.33492954670973724,
          2.902137731705083,
          -0.9280294650974014,
          -0.9280294650974014,
          -4.631915688803994,
          -4.631915688803994,
          -5.179047767388596,
          -5.179047767388596,
          -6.092596363762154,
          -6.092596363762154,
          -2.797138511686006,
          -2.797138511686006,
          -5.370109716681201,
          -5.370109716681201,
          0.5576171784449356,
          0.5576171784449356,
          1.6684493143209693,
          1.6684493143209693,
          0.6795485166139065,
          0.6795485166139065,
          -0.12722914550418427,
          -0.12722914550418427,
          1.720300107056022,
          1.720300107056022,
          1.4425601478288386,
          1.4425601478288386,
          -5.433474175381553,
          -4.376998419919373,
          -4.376998419919373,
          -4.9819523364740546,
          -4.9819523364740546,
          -3.6328324210105523,
          -3.6328324210105523,
          -2.650617546840938,
          -2.650617546840938,
          -0.98488706310525,
          -0.98488706310525,
          -3.882506873672622,
          -3.882506873672622,
          -3.7536831469717025,
          -2.0593519249061956,
          -2.0593519249061956,
          0.21264985482143645,
          0.21264985482143645,
          -2.4446197674132897,
          -2.4446197674132897,
          -0.8862756640237761,
          -0.8862756640237761,
          0.5527575640605262,
          -2.429501101173022,
          -2.429501101173022,
          0.17723845747682646,
          -0.3140901679856086,
          -1.8112051124410127,
          -1.2064380549788802,
          -1.2064380549788802,
          -1.3661399806059074
         ],
         "xaxis": "x",
         "y": [
          0,
          2.9938098208169146,
          -2.9938098208169146,
          1.668857875534209,
          -1.668857875534209,
          5.310533786483603,
          -5.310533786483603,
          0,
          2.6989573351177576,
          -2.6989573351177576,
          0,
          1.0250668657720814,
          -1.0250668657720814,
          0,
          1.3218614909056694,
          -1.3218614909056694,
          4.684531196229535,
          -4.684531196229535,
          0.2650095217834468,
          -0.2650095217834468,
          2.958957380969273,
          -2.958957380969273,
          2.489124168943172,
          -2.489124168943172,
          1.5377435800472963,
          -1.5377435800472963,
          3.200129953310336,
          -3.200129953310336,
          2.5904407744426616,
          -2.5904407744426616,
          2.6160931978434077,
          -2.6160931978434077,
          4.059266210128443,
          -4.059266210128443,
          0,
          1.2277436826810095,
          -1.2277436826810095,
          1.828624476969983,
          -1.828624476969983,
          4.431023408184035,
          -4.431023408184035,
          4.042740403552606,
          -4.042740403552606,
          0,
          4.111986007765988,
          -4.111986007765988,
          3.2659529855054066,
          -3.2659529855054066,
          2.635118480949352,
          -2.635118480949352,
          0.7333167727504284,
          -0.7333167727504284,
          3.675839777191332,
          -3.675839777191332,
          1.7529086717712485,
          -1.7529086717712485,
          3.3453847542218296,
          -3.3453847542218296,
          1.9840274008558387,
          -1.9840274008558387,
          2.489656344834651,
          -2.489656344834651,
          2.8618954275490127,
          -2.8618954275490127,
          0.250840640413452,
          -0.250840640413452,
          1.2354686048462131,
          -1.2354686048462131,
          0,
          2.23141055298511,
          -2.23141055298511,
          0.7011207686044144,
          -0.7011207686044144,
          2.367559834323656,
          -2.367559834323656,
          2.807449251077758,
          -2.807449251077758,
          2.43789727242014,
          -2.43789727242014,
          0.9870383449997864,
          -0.9870383449997864,
          0,
          2.192103926437864,
          -2.192103926437864,
          1.4881850532337102,
          -1.4881850532337102,
          1.403092542346159,
          -1.403092542346159,
          1.5314237165327143,
          -1.5314237165327143,
          0,
          0.3931428563091541,
          -0.3931428563091541,
          0,
          0,
          0,
          0.39372849171059165,
          -0.39372849171059165,
          0
         ],
         "yaxis": "y"
        },
        {
         "legendgroup": "8",
         "marker": {
          "color": "#B6E880"
         },
         "mode": "markers",
         "name": "8",
         "showlegend": true,
         "type": "scatter",
         "x": [
          5.377384281754421,
          5.377384281754421,
          -9.023914066994337,
          -9.023914066994337,
          3.880218298628845,
          3.880218298628845,
          4.150008519948369,
          4.150008519948369,
          4.330318650056801,
          4.330318650056801,
          4.289171216376829,
          4.289171216376829,
          2.594118955567633,
          2.594118955567633,
          3.5764576110535344,
          3.5764576110535344,
          3.6432294784419925,
          -0.32622786200344384,
          -0.32622786200344384,
          -8.102441206757602,
          -6.711537157247601,
          -6.711537157247601,
          -7.558121008184767,
          -7.558121008184767,
          -7.297191294118573,
          -7.297191294118573,
          2.8252691387235753,
          2.8252691387235753,
          0.3496277958996058,
          0.3496277958996058,
          1.3764042115984376,
          1.3764042115984376,
          -6.549824562349556,
          -6.549824562349556,
          -5.421841862336029,
          -5.421841862336029,
          1.9740288459881674,
          1.9740288459881674,
          -5.516823563908295,
          -5.516823563908295,
          -3.1048738467827106,
          -3.1048738467827106,
          -6.769416043280324,
          -6.769416043280324,
          -6.7239329025060135,
          -4.42884932742732,
          -4.42884932742732,
          -5.962990842429563,
          -5.962990842429563,
          2.3969246717577994,
          2.0610638655765547,
          1.358159282225789,
          1.358159282225789,
          -0.07817464280721942,
          -0.07817464280721942,
          -0.6095799870957682,
          -0.6095799870957682,
          -3.1915692134947933,
          -3.1915692134947933,
          -1.8015761623260174,
          -1.8015761623260174,
          -5.179386855780057,
          -5.179386855780057,
          1.4029347785371802,
          1.4029347785371802,
          0.6401117275951503,
          0.6401117275951503,
          -4.115616297056368,
          -4.115616297056368,
          -5.30659083675755,
          -5.30659083675755,
          -4.51279412055343,
          -4.51279412055343,
          -2.5770230218685923,
          -2.5770230218685923,
          0.7072276600109451,
          0.7072276600109451,
          -0.18788615892707194,
          -0.18788615892707194,
          -1.494992239247586,
          -1.494992239247586,
          -0.9829069973362146,
          -0.9829069973362146,
          -3.729707222350653,
          -3.729707222350653,
          -4.341665353393011,
          -4.140435589073319,
          -1.9382882392755474,
          -1.9382882392755474,
          -2.561298252561731,
          -2.561298252561731,
          -2.313584209196084,
          -2.313584209196084,
          -3.1072969526573577,
          -3.1072969526573577,
          -0.005965833632072241,
          -0.8279015453053824,
          -0.8279015453053824,
          -1.5183575727597416
         ],
         "xaxis": "x",
         "y": [
          0.26271485745304407,
          -0.26271485745304407,
          0.768349761082916,
          -0.768349761082916,
          2.7196206267691703,
          -2.7196206267691703,
          2.048260811551306,
          -2.048260811551306,
          1.4042640504314172,
          -1.4042640504314172,
          0.28446311839329363,
          -0.28446311839329363,
          3.3227677958485136,
          -3.3227677958485136,
          1.0289875279716996,
          -1.0289875279716996,
          0,
          4.889045133273685,
          -4.889045133273685,
          0,
          3.1382328777809154,
          -3.1382328777809154,
          0.8859046463649509,
          -0.8859046463649509,
          1.6613545464253956,
          -1.6613545464253956,
          1.555037027958291,
          -1.555037027958291,
          4.154679831246415,
          -4.154679831246415,
          3.3424051010585987,
          -3.3424051010585987,
          2.4487500592011293,
          -2.4487500592011293,
          3.6899614908176392,
          -3.6899614908176392,
          2.339344985736695,
          -2.339344985736695,
          3.247464991772183,
          -3.247464991772183,
          4.307230239580613,
          -4.307230239580613,
          0.5099097930317439,
          -0.5099097930317439,
          0,
          3.3863171936833263,
          -3.3863171936833263,
          1.272065822207677,
          -1.272065822207677,
          0,
          0,
          2.0877494681402418,
          -2.0877494681402418,
          3.328464144353215,
          -3.328464144353215,
          3.4807367847128217,
          -3.4807367847128217,
          3.5933437889783364,
          -3.5933437889783364,
          3.6538036295149516,
          -3.6538036295149516,
          2.1813466869841305,
          -2.1813466869841305,
          0.48346012449581516,
          -0.48346012449581516,
          2.2154655514471284,
          -2.2154655514471284,
          2.721782620940312,
          -2.721782620940312,
          0.7499921165559545,
          -0.7499921165559545,
          1.9966502903982724,
          -1.9966502903982724,
          3.04250890010081,
          -3.04250890010081,
          1.3428734248742118,
          -1.3428734248742118,
          1.2847810736956455,
          -1.2847810736956455,
          2.34691416997561,
          -2.34691416997561,
          2.0350847690799383,
          -2.0350847690799383,
          1.27377090465269,
          -1.27377090465269,
          0,
          0,
          1.908995345124517,
          -1.908995345124517,
          1.7407465659457861,
          -1.7407465659457861,
          1.3507334259656114,
          -1.3507334259656114,
          0.1810263971000164,
          -0.1810263971000164,
          0,
          0.6032471657767188,
          -0.6032471657767188,
          0
         ],
         "yaxis": "y"
        },
        {
         "legendgroup": "9",
         "marker": {
          "color": "#FF97FF"
         },
         "mode": "markers",
         "name": "9",
         "showlegend": true,
         "type": "scatter",
         "x": [
          -8.847043443256728,
          -8.54558642255974,
          -8.54558642255974,
          -8.211983653403095,
          -8.211983653403095,
          5.566185516027986,
          5.566185516027986,
          5.47204990341167,
          -7.16886629162597,
          -7.16886629162597,
          4.687353988871465,
          4.687353988871465,
          -7.233784962851571,
          -7.233784962851571,
          3.9700919801182426,
          3.9700919801182426,
          -4.386440749498124,
          -4.386440749498124,
          2.6276432742796136,
          2.6276432742796136,
          3.0828846963399954,
          3.0828846963399954,
          1.5129475540847297,
          1.5129475540847297,
          3.988353263439167,
          3.6818226507823626,
          3.6818226507823626,
          -5.707130758552356,
          -5.707130758552356,
          -6.1024073363494775,
          -6.1024073363494775,
          -4.6817443328198145,
          -4.6817443328198145,
          -6.363005248554181,
          -6.363005248554181,
          -6.589596533222499,
          3.6228496784216344,
          3.1470131009333504,
          3.1470131009333504,
          -6.018487809076277,
          -6.018487809076277,
          -6.027581939111158,
          -0.7265747634052253,
          -0.7265747634052253,
          1.3597536779037103,
          1.3597536779037103,
          0.08650220108898585,
          0.08650220108898585,
          -1.9464228465581939,
          -1.9464228465581939,
          -5.054443313216339,
          -5.054443313216339,
          -4.521782767649047,
          -4.521782767649047,
          -4.208419751461501,
          -4.208419751461501,
          -0.5106546255864235,
          -0.5106546255864235,
          -2.2865939754718876,
          -2.2865939754718876,
          -4.960026968685565,
          -4.960026968685565,
          -4.340273095099786,
          -4.340273095099786,
          -3.760997749891893,
          -3.760997749891893,
          -3.0118340731478224,
          -3.0118340731478224,
          1.412205263822941,
          1.412205263822941,
          1.8120742383514985,
          1.8120742383514985,
          0.4737788755536234,
          0.4737788755536234,
          1.517844680485028,
          1.517844680485028,
          1.6493824097311571,
          1.6493824097311571,
          -3.522876091860994,
          -3.522876091860994,
          -1.8828723791294142,
          -1.8828723791294142,
          -0.9955050040208261,
          -0.9955050040208261,
          0.105726942289553,
          0.105726942289553,
          1.1058368762455448,
          -2.2159050115491845,
          -2.2159050115491845,
          -2.768022580239931,
          -2.768022580239931,
          -2.65808214670643,
          -2.65808214670643,
          -1.2176538972730158,
          -1.2176538972730158,
          -0.2539232183829311,
          -0.2539232183829311,
          0.07661887035427212,
          -1.3371138014388746
         ],
         "xaxis": "x",
         "y": [
          0,
          1.390398428545839,
          -1.390398428545839,
          2.0308159951736964,
          -2.0308159951736964,
          1.164514836693002,
          -1.164514836693002,
          0,
          2.926691018026317,
          -2.926691018026317,
          0.909894979548681,
          -0.909894979548681,
          2.1722035508714397,
          -2.1722035508714397,
          1.9513363365585537,
          -1.9513363365585537,
          4.778536093530906,
          -4.778536093530906,
          3.3483623793184547,
          -3.3483623793184547,
          2.454746467078661,
          -2.454746467078661,
          3.9218119191581953,
          -3.9218119191581953,
          0,
          0.7571585766116903,
          -0.7571585766116903,
          3.4822626772629484,
          -3.4822626772629484,
          2.668522848513073,
          -2.668522848513073,
          3.898388396073249,
          -3.898388396073249,
          1.4315160965289624,
          -1.4315160965289624,
          0,
          0,
          0.5248981637225991,
          -0.5248981637225991,
          0.5156599449928249,
          -0.5156599449928249,
          0,
          4.3533480403994576,
          -4.3533480403994576,
          3.1525717823277057,
          -3.1525717823277057,
          3.8405432795280836,
          -3.8405432795280836,
          4.080037257658361,
          -4.080037257658361,
          2.4078876621918472,
          -2.4078876621918472,
          2.8909417280054472,
          -2.8909417280054472,
          3.1700290761143637,
          -3.1700290761143637,
          3.7736881710685495,
          -3.7736881710685495,
          3.7568553927393884,
          -3.7568553927393884,
          0.2807581387424509,
          -0.2807581387424509,
          1.8579836174030726,
          -1.8579836174030726,
          2.5916727817631786,
          -2.5916727817631786,
          2.996174363695398,
          -2.996174363695398,
          2.458760274089774,
          -2.458760274089774,
          1.3230175971469453,
          -1.3230175971469453,
          2.326545062902406,
          -2.326545062902406,
          0.9309149908485985,
          -0.9309149908485985,
          0.4885855894716532,
          -0.4885855894716532,
          1.2727201684691136,
          -1.2727201684691136,
          2.3804976918920047,
          -2.3804976918920047,
          2.397869591439094,
          -2.397869591439094,
          1.8528692399944684,
          -1.8528692399944684,
          0,
          1.980504228422201,
          -1.980504228422201,
          0.8919437642106213,
          -0.8919437642106213,
          0.4660341072000526,
          -0.4660341072000526,
          1.429007235051677,
          -1.429007235051677,
          0.6613352055202139,
          -0.6613352055202139,
          0,
          0
         ],
         "yaxis": "y"
        },
        {
         "legendgroup": "10",
         "marker": {
          "color": "#FECB52"
         },
         "mode": "markers",
         "name": "10",
         "showlegend": true,
         "type": "scatter",
         "x": [
          6.285626395366887,
          -9.216777618636467,
          -9.216777618636467,
          -9.048198865936737,
          -8.35028237134594,
          -8.019844369032512,
          -8.019844369032512,
          -6.982393162865656,
          -6.982393162865656,
          5.115881224740289,
          4.16798349358842,
          4.16798349358842,
          4.777643499215953,
          4.777643499215953,
          3.658966646835918,
          3.658966646835918,
          -6.099717296532674,
          -6.099717296532674,
          2.5253176157422175,
          2.5253176157422175,
          4.211493384953952,
          4.211493384953952,
          3.7696711289452995,
          3.7696711289452995,
          -4.13761886456989,
          -4.13761886456989,
          -6.710460703546539,
          -6.710460703546539,
          -2.574987786573284,
          -2.574987786573284,
          -6.421737749179845,
          -6.421737749179845,
          -5.557857520458953,
          -5.557857520458953,
          2.8248918832683505,
          2.8248918832683505,
          -0.4560101737755065,
          -0.4560101737755065,
          2.2447693960461557,
          2.2447693960461557,
          1.0074237487255302,
          1.0074237487255302,
          2.8242583556746026,
          -5.689572725942582,
          -5.689572725942582,
          -2.9257972055415657,
          -2.9257972055415657,
          -3.920295114250774,
          -3.920295114250774,
          -4.714396479305322,
          -4.714396479305322,
          -1.3676430627447187,
          -1.3676430627447187,
          -2.173835033887181,
          -2.173835033887181,
          0.7780946145387797,
          0.7780946145387797,
          2.073326901495906,
          2.073326901495906,
          -5.650966496603842,
          -5.650966496603842,
          -4.693207400106025,
          -4.693207400106025,
          -4.989464360777543,
          -4.989464360777543,
          -3.6154698548290907,
          -3.6154698548290907,
          1.7666837026764024,
          1.7666837026764024,
          0.9763370491401842,
          0.9763370491401842,
          -3.7428942292518843,
          -3.7428942292518843,
          -3.8584357715036073,
          -3.8584357715036073,
          -3.8351730216934294,
          -0.28651802837691914,
          -0.28651802837691914,
          -1.440687173325374,
          -1.440687173325374,
          -1.906818208055235,
          -1.906818208055235,
          -2.3387905565637843,
          -2.3387905565637843,
          0.9964071920791906,
          -0.230015432345599,
          -0.230015432345599,
          -2.5689099483161053,
          0.14795135115662217,
          0.14795135115662217,
          -0.2259988210729283,
          -0.2259988210729283,
          -0.7990703431806023,
          -0.7990703431806023,
          -1.6330234459936495,
          -1.6330234459936495,
          -0.1170237226737207,
          -0.607225838178451,
          -0.607225838178451
         ],
         "xaxis": "x",
         "y": [
          0,
          0.5776013201532099,
          -0.5776013201532099,
          0,
          0,
          1.5688266914945765,
          -1.5688266914945765,
          2.6772296025918156,
          -2.6772296025918156,
          0,
          2.5894067034244808,
          -2.5894067034244808,
          0.8954948789836925,
          -0.8954948789836925,
          3.015394764101178,
          -3.015394764101178,
          3.160243629569259,
          -3.160243629569259,
          3.829585599969244,
          -3.829585599969244,
          0.46962279113350475,
          -0.46962279113350475,
          0.945841126588538,
          -0.945841126588538,
          4.454640670790705,
          -4.454640670790705,
          0.5025233598393104,
          -0.5025233598393104,
          4.520718729191101,
          -4.520718729191101,
          0.7919189001280891,
          -0.7919189001280891,
          2.5326669504054182,
          -2.5326669504054182,
          2.1610343665729843,
          -2.1610343665729843,
          4.228732617126054,
          -4.228732617126054,
          2.635031755518578,
          -2.635031755518578,
          3.6381239588083285,
          -3.6381239588083285,
          0,
          1.6827123693067743,
          -1.6827123693067743,
          3.8117614548040537,
          -3.8117614548040537,
          3.227579266762264,
          -3.227579266762264,
          2.5163365722419373,
          -2.5163365722419373,
          3.9455064759325635,
          -3.9455064759325635,
          3.6949652912595647,
          -3.6949652912595647,
          3.2132218932121965,
          -3.2132218932121965,
          1.684615698903726,
          -1.684615698903726,
          0.04871896003228109,
          -0.04871896003228109,
          1.6129232731192222,
          -1.6129232731192222,
          0.36131371552102315,
          -0.36131371552102315,
          2.506194992688921,
          -2.506194992688921,
          0.7958781595309182,
          -0.7958781595309182,
          2.331423096177617,
          -2.331423096177617,
          1.754670544887284,
          -1.754670544887284,
          1.061154013103649,
          -1.061154013103649,
          0,
          2.741561161347604,
          -2.741561161347604,
          2.7059756141968183,
          -2.7059756141968183,
          2.250645416188162,
          -2.250645416188162,
          1.4538565792756706,
          -1.4538565792756706,
          0,
          2.0332054759662226,
          -2.0332054759662226,
          0,
          1.373086909119158,
          -1.373086909119158,
          1.5111021169562466,
          -1.5111021169562466,
          1.3529859132628055,
          -1.3529859132628055,
          0.27271025481764666,
          -0.27271025481764666,
          0,
          0.2873365750286148,
          -0.2873365750286148
         ],
         "yaxis": "y"
        },
        {
         "legendgroup": "1",
         "marker": {
          "color": "#636EFA"
         },
         "mode": "markers",
         "name": "1",
         "showlegend": false,
         "type": "scatter",
         "x": [
          66.7009265012763
         ],
         "xaxis": "x2",
         "y": [
          0
         ],
         "yaxis": "y2"
        },
        {
         "legendgroup": "2",
         "marker": {
          "color": "#EF553B"
         },
         "mode": "markers",
         "name": "2",
         "showlegend": false,
         "type": "scatter",
         "x": [
          66.12350110118227
         ],
         "xaxis": "x2",
         "y": [
          0
         ],
         "yaxis": "y2"
        },
        {
         "legendgroup": "3",
         "marker": {
          "color": "#00CC96"
         },
         "mode": "markers",
         "name": "3",
         "showlegend": false,
         "type": "scatter",
         "x": [
          67.00121915088187
         ],
         "xaxis": "x2",
         "y": [
          0
         ],
         "yaxis": "y2"
        },
        {
         "legendgroup": "4",
         "marker": {
          "color": "#AB63FA"
         },
         "mode": "markers",
         "name": "4",
         "showlegend": false,
         "type": "scatter",
         "x": [
          66.28354179423934
         ],
         "xaxis": "x2",
         "y": [
          0
         ],
         "yaxis": "y2"
        },
        {
         "legendgroup": "5",
         "marker": {
          "color": "#FFA15A"
         },
         "mode": "markers",
         "name": "5",
         "showlegend": false,
         "type": "scatter",
         "x": [
          65.71405282880097
         ],
         "xaxis": "x2",
         "y": [
          0
         ],
         "yaxis": "y2"
        },
        {
         "legendgroup": "6",
         "marker": {
          "color": "#19D3F3"
         },
         "mode": "markers",
         "name": "6",
         "showlegend": false,
         "type": "scatter",
         "x": [
          67.36206303191265
         ],
         "xaxis": "x2",
         "y": [
          0
         ],
         "yaxis": "y2"
        },
        {
         "legendgroup": "7",
         "marker": {
          "color": "#FF6692"
         },
         "mode": "markers",
         "name": "7",
         "showlegend": false,
         "type": "scatter",
         "x": [
          64.97402053474148
         ],
         "xaxis": "x2",
         "y": [
          0
         ],
         "yaxis": "y2"
        },
        {
         "legendgroup": "8",
         "marker": {
          "color": "#B6E880"
         },
         "mode": "markers",
         "name": "8",
         "showlegend": false,
         "type": "scatter",
         "x": [
          65.44426727773444
         ],
         "xaxis": "x2",
         "y": [
          0
         ],
         "yaxis": "y2"
        },
        {
         "legendgroup": "9",
         "marker": {
          "color": "#FF97FF"
         },
         "mode": "markers",
         "name": "9",
         "showlegend": false,
         "type": "scatter",
         "x": [
          65.67380867308268
         ],
         "xaxis": "x2",
         "y": [
          0
         ],
         "yaxis": "y2"
        },
        {
         "legendgroup": "10",
         "marker": {
          "color": "#FECB52"
         },
         "mode": "markers",
         "name": "10",
         "showlegend": false,
         "type": "scatter",
         "x": [
          64.81136758346139
         ],
         "xaxis": "x2",
         "y": [
          0
         ],
         "yaxis": "y2"
        },
        {
         "marker": {
          "color": "red",
          "size": 15,
          "symbol": "star"
         },
         "mode": "markers",
         "showlegend": false,
         "type": "scatter",
         "x": [
          64.21767939066781
         ],
         "xaxis": "x2",
         "y": [
          0
         ],
         "yaxis": "y2"
        }
       ],
       "layout": {
        "annotations": [
         {
          "font": {
           "size": 16
          },
          "showarrow": false,
          "text": "Ellipse",
          "x": 0.245,
          "xanchor": "center",
          "xref": "paper",
          "y": 1,
          "yanchor": "bottom",
          "yref": "paper"
         },
         {
          "font": {
           "size": 16
          },
          "showarrow": false,
          "text": "Oulier",
          "x": 0.755,
          "xanchor": "center",
          "xref": "paper",
          "y": 1,
          "yanchor": "bottom",
          "yref": "paper"
         },
         {
          "arrowhead": 2,
          "arrowsize": 1.5,
          "arrowwidth": 1,
          "showarrow": true,
          "text": "Predicted Outlier",
          "x": 64.21767939066781,
          "xref": "x2",
          "y": 0,
          "yref": "y2"
         }
        ],
        "height": 600,
        "legend": {
         "title": {
          "text": "Run"
         }
        },
        "shapes": [
         {
          "line": {
           "color": "black",
           "width": 2.5
          },
          "type": "circle",
          "x0": -9.890507923069448,
          "x1": 6.572979046490301,
          "xref": "x",
          "y0": -4.605818235791895,
          "y1": 4.605818235791895,
          "yref": "y"
         },
         {
          "line": {
           "color": "grey",
           "width": 1
          },
          "type": "line",
          "x0": 0.5,
          "x1": 0.508,
          "xref": "paper",
          "y0": 0.485,
          "y1": 0.515,
          "yref": "paper"
         },
         {
          "line": {
           "color": "grey",
           "width": 1
          },
          "type": "line",
          "x0": 0.492,
          "x1": 0.5,
          "xref": "paper",
          "y0": 0.485,
          "y1": 0.515,
          "yref": "paper"
         }
        ],
        "template": {
         "data": {
          "bar": [
           {
            "error_x": {
             "color": "#2a3f5f"
            },
            "error_y": {
             "color": "#2a3f5f"
            },
            "marker": {
             "line": {
              "color": "#E5ECF6",
              "width": 0.5
             },
             "pattern": {
              "fillmode": "overlay",
              "size": 10,
              "solidity": 0.2
             }
            },
            "type": "bar"
           }
          ],
          "barpolar": [
           {
            "marker": {
             "line": {
              "color": "#E5ECF6",
              "width": 0.5
             },
             "pattern": {
              "fillmode": "overlay",
              "size": 10,
              "solidity": 0.2
             }
            },
            "type": "barpolar"
           }
          ],
          "carpet": [
           {
            "aaxis": {
             "endlinecolor": "#2a3f5f",
             "gridcolor": "white",
             "linecolor": "white",
             "minorgridcolor": "white",
             "startlinecolor": "#2a3f5f"
            },
            "baxis": {
             "endlinecolor": "#2a3f5f",
             "gridcolor": "white",
             "linecolor": "white",
             "minorgridcolor": "white",
             "startlinecolor": "#2a3f5f"
            },
            "type": "carpet"
           }
          ],
          "choropleth": [
           {
            "colorbar": {
             "outlinewidth": 0,
             "ticks": ""
            },
            "type": "choropleth"
           }
          ],
          "contour": [
           {
            "colorbar": {
             "outlinewidth": 0,
             "ticks": ""
            },
            "colorscale": [
             [
              0,
              "#0d0887"
             ],
             [
              0.1111111111111111,
              "#46039f"
             ],
             [
              0.2222222222222222,
              "#7201a8"
             ],
             [
              0.3333333333333333,
              "#9c179e"
             ],
             [
              0.4444444444444444,
              "#bd3786"
             ],
             [
              0.5555555555555556,
              "#d8576b"
             ],
             [
              0.6666666666666666,
              "#ed7953"
             ],
             [
              0.7777777777777778,
              "#fb9f3a"
             ],
             [
              0.8888888888888888,
              "#fdca26"
             ],
             [
              1,
              "#f0f921"
             ]
            ],
            "type": "contour"
           }
          ],
          "contourcarpet": [
           {
            "colorbar": {
             "outlinewidth": 0,
             "ticks": ""
            },
            "type": "contourcarpet"
           }
          ],
          "heatmap": [
           {
            "colorbar": {
             "outlinewidth": 0,
             "ticks": ""
            },
            "colorscale": [
             [
              0,
              "#0d0887"
             ],
             [
              0.1111111111111111,
              "#46039f"
             ],
             [
              0.2222222222222222,
              "#7201a8"
             ],
             [
              0.3333333333333333,
              "#9c179e"
             ],
             [
              0.4444444444444444,
              "#bd3786"
             ],
             [
              0.5555555555555556,
              "#d8576b"
             ],
             [
              0.6666666666666666,
              "#ed7953"
             ],
             [
              0.7777777777777778,
              "#fb9f3a"
             ],
             [
              0.8888888888888888,
              "#fdca26"
             ],
             [
              1,
              "#f0f921"
             ]
            ],
            "type": "heatmap"
           }
          ],
          "heatmapgl": [
           {
            "colorbar": {
             "outlinewidth": 0,
             "ticks": ""
            },
            "colorscale": [
             [
              0,
              "#0d0887"
             ],
             [
              0.1111111111111111,
              "#46039f"
             ],
             [
              0.2222222222222222,
              "#7201a8"
             ],
             [
              0.3333333333333333,
              "#9c179e"
             ],
             [
              0.4444444444444444,
              "#bd3786"
             ],
             [
              0.5555555555555556,
              "#d8576b"
             ],
             [
              0.6666666666666666,
              "#ed7953"
             ],
             [
              0.7777777777777778,
              "#fb9f3a"
             ],
             [
              0.8888888888888888,
              "#fdca26"
             ],
             [
              1,
              "#f0f921"
             ]
            ],
            "type": "heatmapgl"
           }
          ],
          "histogram": [
           {
            "marker": {
             "pattern": {
              "fillmode": "overlay",
              "size": 10,
              "solidity": 0.2
             }
            },
            "type": "histogram"
           }
          ],
          "histogram2d": [
           {
            "colorbar": {
             "outlinewidth": 0,
             "ticks": ""
            },
            "colorscale": [
             [
              0,
              "#0d0887"
             ],
             [
              0.1111111111111111,
              "#46039f"
             ],
             [
              0.2222222222222222,
              "#7201a8"
             ],
             [
              0.3333333333333333,
              "#9c179e"
             ],
             [
              0.4444444444444444,
              "#bd3786"
             ],
             [
              0.5555555555555556,
              "#d8576b"
             ],
             [
              0.6666666666666666,
              "#ed7953"
             ],
             [
              0.7777777777777778,
              "#fb9f3a"
             ],
             [
              0.8888888888888888,
              "#fdca26"
             ],
             [
              1,
              "#f0f921"
             ]
            ],
            "type": "histogram2d"
           }
          ],
          "histogram2dcontour": [
           {
            "colorbar": {
             "outlinewidth": 0,
             "ticks": ""
            },
            "colorscale": [
             [
              0,
              "#0d0887"
             ],
             [
              0.1111111111111111,
              "#46039f"
             ],
             [
              0.2222222222222222,
              "#7201a8"
             ],
             [
              0.3333333333333333,
              "#9c179e"
             ],
             [
              0.4444444444444444,
              "#bd3786"
             ],
             [
              0.5555555555555556,
              "#d8576b"
             ],
             [
              0.6666666666666666,
              "#ed7953"
             ],
             [
              0.7777777777777778,
              "#fb9f3a"
             ],
             [
              0.8888888888888888,
              "#fdca26"
             ],
             [
              1,
              "#f0f921"
             ]
            ],
            "type": "histogram2dcontour"
           }
          ],
          "mesh3d": [
           {
            "colorbar": {
             "outlinewidth": 0,
             "ticks": ""
            },
            "type": "mesh3d"
           }
          ],
          "parcoords": [
           {
            "line": {
             "colorbar": {
              "outlinewidth": 0,
              "ticks": ""
             }
            },
            "type": "parcoords"
           }
          ],
          "pie": [
           {
            "automargin": true,
            "type": "pie"
           }
          ],
          "scatter": [
           {
            "fillpattern": {
             "fillmode": "overlay",
             "size": 10,
             "solidity": 0.2
            },
            "type": "scatter"
           }
          ],
          "scatter3d": [
           {
            "line": {
             "colorbar": {
              "outlinewidth": 0,
              "ticks": ""
             }
            },
            "marker": {
             "colorbar": {
              "outlinewidth": 0,
              "ticks": ""
             }
            },
            "type": "scatter3d"
           }
          ],
          "scattercarpet": [
           {
            "marker": {
             "colorbar": {
              "outlinewidth": 0,
              "ticks": ""
             }
            },
            "type": "scattercarpet"
           }
          ],
          "scattergeo": [
           {
            "marker": {
             "colorbar": {
              "outlinewidth": 0,
              "ticks": ""
             }
            },
            "type": "scattergeo"
           }
          ],
          "scattergl": [
           {
            "marker": {
             "colorbar": {
              "outlinewidth": 0,
              "ticks": ""
             }
            },
            "type": "scattergl"
           }
          ],
          "scattermapbox": [
           {
            "marker": {
             "colorbar": {
              "outlinewidth": 0,
              "ticks": ""
             }
            },
            "type": "scattermapbox"
           }
          ],
          "scatterpolar": [
           {
            "marker": {
             "colorbar": {
              "outlinewidth": 0,
              "ticks": ""
             }
            },
            "type": "scatterpolar"
           }
          ],
          "scatterpolargl": [
           {
            "marker": {
             "colorbar": {
              "outlinewidth": 0,
              "ticks": ""
             }
            },
            "type": "scatterpolargl"
           }
          ],
          "scatterternary": [
           {
            "marker": {
             "colorbar": {
              "outlinewidth": 0,
              "ticks": ""
             }
            },
            "type": "scatterternary"
           }
          ],
          "surface": [
           {
            "colorbar": {
             "outlinewidth": 0,
             "ticks": ""
            },
            "colorscale": [
             [
              0,
              "#0d0887"
             ],
             [
              0.1111111111111111,
              "#46039f"
             ],
             [
              0.2222222222222222,
              "#7201a8"
             ],
             [
              0.3333333333333333,
              "#9c179e"
             ],
             [
              0.4444444444444444,
              "#bd3786"
             ],
             [
              0.5555555555555556,
              "#d8576b"
             ],
             [
              0.6666666666666666,
              "#ed7953"
             ],
             [
              0.7777777777777778,
              "#fb9f3a"
             ],
             [
              0.8888888888888888,
              "#fdca26"
             ],
             [
              1,
              "#f0f921"
             ]
            ],
            "type": "surface"
           }
          ],
          "table": [
           {
            "cells": {
             "fill": {
              "color": "#EBF0F8"
             },
             "line": {
              "color": "white"
             }
            },
            "header": {
             "fill": {
              "color": "#C8D4E3"
             },
             "line": {
              "color": "white"
             }
            },
            "type": "table"
           }
          ]
         },
         "layout": {
          "annotationdefaults": {
           "arrowcolor": "#2a3f5f",
           "arrowhead": 0,
           "arrowwidth": 1
          },
          "autotypenumbers": "strict",
          "coloraxis": {
           "colorbar": {
            "outlinewidth": 0,
            "ticks": ""
           }
          },
          "colorscale": {
           "diverging": [
            [
             0,
             "#8e0152"
            ],
            [
             0.1,
             "#c51b7d"
            ],
            [
             0.2,
             "#de77ae"
            ],
            [
             0.3,
             "#f1b6da"
            ],
            [
             0.4,
             "#fde0ef"
            ],
            [
             0.5,
             "#f7f7f7"
            ],
            [
             0.6,
             "#e6f5d0"
            ],
            [
             0.7,
             "#b8e186"
            ],
            [
             0.8,
             "#7fbc41"
            ],
            [
             0.9,
             "#4d9221"
            ],
            [
             1,
             "#276419"
            ]
           ],
           "sequential": [
            [
             0,
             "#0d0887"
            ],
            [
             0.1111111111111111,
             "#46039f"
            ],
            [
             0.2222222222222222,
             "#7201a8"
            ],
            [
             0.3333333333333333,
             "#9c179e"
            ],
            [
             0.4444444444444444,
             "#bd3786"
            ],
            [
             0.5555555555555556,
             "#d8576b"
            ],
            [
             0.6666666666666666,
             "#ed7953"
            ],
            [
             0.7777777777777778,
             "#fb9f3a"
            ],
            [
             0.8888888888888888,
             "#fdca26"
            ],
            [
             1,
             "#f0f921"
            ]
           ],
           "sequentialminus": [
            [
             0,
             "#0d0887"
            ],
            [
             0.1111111111111111,
             "#46039f"
            ],
            [
             0.2222222222222222,
             "#7201a8"
            ],
            [
             0.3333333333333333,
             "#9c179e"
            ],
            [
             0.4444444444444444,
             "#bd3786"
            ],
            [
             0.5555555555555556,
             "#d8576b"
            ],
            [
             0.6666666666666666,
             "#ed7953"
            ],
            [
             0.7777777777777778,
             "#fb9f3a"
            ],
            [
             0.8888888888888888,
             "#fdca26"
            ],
            [
             1,
             "#f0f921"
            ]
           ]
          },
          "colorway": [
           "#636efa",
           "#EF553B",
           "#00cc96",
           "#ab63fa",
           "#FFA15A",
           "#19d3f3",
           "#FF6692",
           "#B6E880",
           "#FF97FF",
           "#FECB52"
          ],
          "font": {
           "color": "#2a3f5f"
          },
          "geo": {
           "bgcolor": "white",
           "lakecolor": "white",
           "landcolor": "#E5ECF6",
           "showlakes": true,
           "showland": true,
           "subunitcolor": "white"
          },
          "hoverlabel": {
           "align": "left"
          },
          "hovermode": "closest",
          "mapbox": {
           "style": "light"
          },
          "paper_bgcolor": "white",
          "plot_bgcolor": "#E5ECF6",
          "polar": {
           "angularaxis": {
            "gridcolor": "white",
            "linecolor": "white",
            "ticks": ""
           },
           "bgcolor": "#E5ECF6",
           "radialaxis": {
            "gridcolor": "white",
            "linecolor": "white",
            "ticks": ""
           }
          },
          "scene": {
           "xaxis": {
            "backgroundcolor": "#E5ECF6",
            "gridcolor": "white",
            "gridwidth": 2,
            "linecolor": "white",
            "showbackground": true,
            "ticks": "",
            "zerolinecolor": "white"
           },
           "yaxis": {
            "backgroundcolor": "#E5ECF6",
            "gridcolor": "white",
            "gridwidth": 2,
            "linecolor": "white",
            "showbackground": true,
            "ticks": "",
            "zerolinecolor": "white"
           },
           "zaxis": {
            "backgroundcolor": "#E5ECF6",
            "gridcolor": "white",
            "gridwidth": 2,
            "linecolor": "white",
            "showbackground": true,
            "ticks": "",
            "zerolinecolor": "white"
           }
          },
          "shapedefaults": {
           "line": {
            "color": "#2a3f5f"
           }
          },
          "ternary": {
           "aaxis": {
            "gridcolor": "white",
            "linecolor": "white",
            "ticks": ""
           },
           "baxis": {
            "gridcolor": "white",
            "linecolor": "white",
            "ticks": ""
           },
           "bgcolor": "#E5ECF6",
           "caxis": {
            "gridcolor": "white",
            "linecolor": "white",
            "ticks": ""
           }
          },
          "title": {
           "x": 0.05
          },
          "xaxis": {
           "automargin": true,
           "gridcolor": "white",
           "linecolor": "white",
           "ticks": "",
           "title": {
            "standoff": 15
           },
           "zerolinecolor": "white",
           "zerolinewidth": 2
          },
          "yaxis": {
           "automargin": true,
           "gridcolor": "white",
           "linecolor": "white",
           "ticks": "",
           "title": {
            "standoff": 15
           },
           "zerolinecolor": "white",
           "zerolinewidth": 2
          }
         }
        },
        "title": {
         "text": "The Elliptical Law with non-zero mean of M <br><sup>Eigenvalues in the complex plane, numerical estimate</sup>"
        },
        "width": 1000,
        "xaxis": {
         "anchor": "y",
         "domain": [
          0,
          0.49
         ],
         "range": [
          -12,
          12
         ],
         "title": {
          "text": "Re(λ)"
         }
        },
        "xaxis2": {
         "anchor": "y2",
         "domain": [
          0.51,
          1
         ],
         "range": [
          62,
          70
         ],
         "title": {
          "text": "Re(λ)"
         }
        },
        "yaxis": {
         "anchor": "x",
         "domain": [
          0,
          1
         ],
         "range": [
          -12,
          12
         ],
         "title": {
          "text": "Im(λ)"
         }
        },
        "yaxis2": {
         "anchor": "x2",
         "domain": [
          0,
          1
         ],
         "range": [
          -12,
          12
         ],
         "showticklabels": false
        }
       }
      }
     },
     "metadata": {},
     "output_type": "display_data"
    }
   ],
   "source": [
    "# plot data\n",
    "df1 = appended_data[appended_data['re']<20]\n",
    "df2 = appended_data[appended_data['re']>20]\n",
    "\n",
    "# organize datafames with different x-axes in a dict\n",
    "dfs = {'df1': df1,\n",
    "       'df2': df2\n",
    "}\n",
    "\n",
    "# subplot setup\n",
    "colors = px.colors.qualitative.Plotly\n",
    "fig = make_subplots(rows=1, cols=len(dfs.keys()), horizontal_spacing = 0.02, subplot_titles=(\"Ellipse\", \"Oulier\"))\n",
    "fig.update_layout(title = \"Broken / discontinued / gapped x-axis\")\n",
    "\n",
    "# Assign columns from dataframes in dict to the correct subplot\n",
    "for i, dfd in enumerate(dfs, start =1):\n",
    "    for j, run in enumerate(dfs[dfd]['run'].unique()):\n",
    "        df_ = dfs[dfd]\n",
    "        df_ = df_[df_['run']==run]\n",
    "        fig.add_trace(go.Scatter(x=df_['re'],\n",
    "                        y=df_['im'],\n",
    "                        mode = 'markers',\n",
    "                        name=run,\n",
    "                        marker_color=colors[j],\n",
    "                        legendgroup = run,\n",
    "                        showlegend = True if i == 1 else False,\n",
    "                        ), row=1, col=i)\n",
    "\n",
    "# ellipse\n",
    "fig.add_shape(type=\"circle\",\n",
    "    xref=\"x\", yref=\"y\",\n",
    "    x0=x0, y0=y0, x1=x1, y1=y1,\n",
    "    line_color=\"black\",\n",
    "    line_width = 2.5\n",
    ")\n",
    "\n",
    "# predicted outlier \n",
    "fig.add_trace(go.Scatter(x=[out_lambda], y=[0], \n",
    "                        mode = 'markers',\n",
    "                        marker_color = 'red',\n",
    "                        marker_symbol = 'star',\n",
    "                        showlegend=False,\n",
    "                        marker_size = 15), row=1, col=2)\n",
    "\n",
    "fig.add_annotation(x=out_lambda, y=0,\n",
    "            text=\"Predicted Outlier\",\n",
    "            showarrow=True,\n",
    "            arrowhead=2,\n",
    "            arrowsize=1.5,\n",
    "            arrowwidth=1,\n",
    "            row=1, col=2)\n",
    "\n",
    "# make the plot nice\n",
    "fig.update_yaxes(range=[-12, 12], )\n",
    "fig.update_yaxes(showticklabels=False, row=1, col=2)\n",
    "\n",
    "fig.update_xaxes(range=[-12, 12], title_text='Re(λ)', row=1, col=1)\n",
    "fig.update_xaxes(range=[62, 70], title_text='Re(λ)', row=1, col=2)\n",
    "\n",
    "# a little aesthetic adjustment\n",
    "fig.add_shape(type=\"line\",\n",
    "    x0=0.50, y0=0.5-0.015, x1=0.508, y1=0.5+0.015,\n",
    "    line=dict(color=\"grey\",width=1),\n",
    "    xref = 'paper',\n",
    "    yref = 'paper'\n",
    ")\n",
    "\n",
    "fig.add_shape(type=\"line\",\n",
    "    x0=0.492, y0=0.5-0.015, x1=0.5, y1=0.5+0.015,\n",
    "    line=dict(color=\"grey\",width=1),\n",
    "    xref = 'paper',\n",
    "    yref = 'paper'\n",
    ")\n",
    "\n",
    "# layout\n",
    "fig.update_layout(\n",
    "    height=600, width=1000, \n",
    "    title_text=\"The Elliptical Law with non-zero mean of M <br><sup>Eigenvalues in the complex plane, numerical estimate</sup>\", \n",
    "    yaxis_title=\"Im(λ)\",\n",
    "    legend_title=\"Run\")\n",
    "\n",
    "if savegit: \n",
    "    path = \"images/hw04_ellipticallaw_numerical.png\"\n",
    "    fig.write_image(path)\n",
    "    display(Image(path))\n",
    "    \n",
    "else:\n",
    "    fig.show()\n",
    "    "
   ]
  },
  {
   "cell_type": "markdown",
   "metadata": {},
   "source": [
    "## Analytical expectations\n",
    "The above quantities can be computed analytically, in particular considering the case $\\mathcal{D}=\\mathcal{N}(0, \\sigma^2)$. In this case the values of $M_{ij}$ and $M_{ji}$ are drawn independently from a half-normal distribution. \n",
    "\n",
    "The expected value of $M_{ij}$ can be easily obtained from the expected value of the half-normal distribution, indeed:\n",
    "$$\n",
    "    \\mathbb{E}[M_{ij}] = C \\cdot\\mathbb{E}[X]\\bigr|_{X\\sim |\\mathcal{N}(0, \\sigma^2)|} = C \\cdot \\frac{2\\sigma}{\\sqrt{2\\pi}}\n",
    "$$\n",
    "\n",
    "Similarly, it is possible to compute $\\mathbb{E}[M_{ij}, M_{ji}]$:\n",
    "$$\n",
    "    \\mathbb{E}[M_{ij}, M_{ji}] = C \\cdot\\mathbb{E}^2[X]\\bigr|_{X\\sim |\\mathcal{N}(0, \\sigma^2)|} = C \\cdot \\frac{2\\sigma^2}{\\pi}\n",
    "$$\n",
    "\n",
    "Finally, we can get also the variance of $M_{ij}$:\n",
    "$$\n",
    "    Var(M_{ij}) = \\mathbb{E}[M^2_{ij}] - \\mathbb{E}^2[M_{ij}] = C\\left[\\sigma^2-C\\cdot\\frac{2\\sigma^2}{\\pi}\\right] = C\\sigma^2\\left(1-\\frac{2C}{\\pi}\\right)\n",
    "$$\n",
    "\n",
    "Having all these quantities, we can derive the correlation $\\rho$ and the semi-axes of the ellipse:\n",
    "$$\n",
    "\\begin{align}\n",
    "    &\\rho = \\frac{\\mathbb{E}[M_{ij}, M_{ji}] - \\mathbb{E}^2[M_{ij}]}{Var(M_{ij})} = \\frac{C \\cdot\\frac{2\\sigma^2}{\\pi} - C^2 \\cdot\\frac{2\\sigma^2}{\\pi}}{C\\cdot\\sigma^2 \\left(1-\\frac{2C}{\\pi} \\right)} = \\frac{1 - C}{\\frac{\\pi}{2}-C}\\\\\n",
    "    &a = \\sqrt{SV}(1 +\\rho) = \\sqrt{SC\\sigma^2 \\left( 1 - \\frac{2C}{\\pi} \\right)} \\cdot\\left(1 + \\frac{1-C}{\\frac{\\pi}{2}-C}\\right) \\\\\n",
    "    &b = \\sqrt{SV}(1 -\\rho) = \\sqrt{SC\\sigma^2 \\left( 1 - \\frac{2C}{\\pi} \\right)} \\cdot\\left(1 - \\frac{1-C}{\\frac{\\pi}{2}-C}\\right) \n",
    "\\end{align}\n",
    "$$\n",
    "\n",
    "Finally, the eigenvalue that comes from the fact that the interaction matrix has non-zero mean can be computed as:\n",
    "$$\n",
    "    Re(\\lambda) = -d+(S-1)\\mathbb{E}[M_ij] = -d+C(S-1)\\frac{2\\sigma}{\\sqrt{2\\pi}}\n",
    "$$  \n",
    "\n",
    "\n",
    "\n",
    "\n",
    "   "
   ]
  },
  {
   "cell_type": "code",
   "execution_count": null,
   "metadata": {},
   "outputs": [
    {
     "name": "stdout",
     "output_type": "stream",
     "text": [
      "The expected center of the ellipse is: (-1.68, 0)\n",
      "Outlier eigenvalue: 66.14\n"
     ]
    }
   ],
   "source": [
    "np.random.seed(1245) # same as above\n",
    "\n",
    "# build N random matrices, with mutualistic structure\n",
    "N = 10\n",
    "appended_data   = []\n",
    "\n",
    "for i in range(N):\n",
    "    df_eig = pd.DataFrame(columns=['re', 'im', 'run'])\n",
    "    \n",
    "    M = randommatrix(S, d, C, mutualistic=True)\n",
    "    eig_M, _ = np.linalg.eig(M)\n",
    "    df_eig['re'] = np.real(eig_M)\n",
    "    df_eig['im'] = np.imag(eig_M)\n",
    "    df_eig['run'] = [str(i+1)]*len(eig_M)\n",
    "    \n",
    "    appended_data.append(df_eig)\n",
    "    \n",
    "appended_data = pd.concat(appended_data)\n",
    "\n",
    "# variance and rho\n",
    "V = C*sigma**2*(1-(2*C)/np.pi)\n",
    "rho =(1-C)/((np.pi/2)-C)\n",
    "\n",
    "# ellipse data\n",
    "center = [-d-C*(2*sigma)/np.sqrt(2*np.pi), 0]\n",
    "print('The expected center of the ellipse is: (%.2f, %i)' %(center[0], center[1]))\n",
    "\n",
    "x0, y0, x1, y1 = my_ellipse(center, S, V, rho)\n",
    "\n",
    "# estimate outlier\n",
    "out_lambda =  -d + (S-1)*C*(2*sigma)/(np.sqrt(2*np.pi))\n",
    "print('Outlier eigenvalue: %.2f' %out_lambda)\n"
   ]
  },
  {
   "cell_type": "code",
   "execution_count": null,
   "metadata": {},
   "outputs": [
    {
     "data": {
      "application/vnd.plotly.v1+json": {
       "config": {
        "plotlyServerURL": "https://plot.ly"
       },
       "data": [
        {
         "legendgroup": "1",
         "marker": {
          "color": "#636EFA"
         },
         "mode": "markers",
         "name": "1",
         "showlegend": true,
         "type": "scatter",
         "x": [
          -8.897034852380665,
          -8.50727233091813,
          -8.50727233091813,
          4.833398160493152,
          4.833398160493152,
          4.962589633192558,
          4.380808280547657,
          4.380808280547657,
          4.673256509222725,
          4.48470852022099,
          4.48470852022099,
          -7.82732449856823,
          -7.82732449856823,
          -7.07736317813389,
          -7.07736317813389,
          -7.7836121958654125,
          -6.233003600246494,
          -6.233003600246494,
          -5.594633127485229,
          -5.594633127485229,
          2.0831333449540983,
          2.0831333449540983,
          3.5781395746195535,
          3.5781395746195535,
          2.3132424313109117,
          2.3132424313109117,
          2.4406830699676774,
          2.4406830699676774,
          -2.9857050662621236,
          -2.9857050662621236,
          -3.892858254069618,
          -3.892858254069618,
          -6.574470315766803,
          -6.574470315766803,
          -7.022730367508687,
          -4.40835815717937,
          -4.40835815717937,
          -5.654268301617874,
          -5.654268301617874,
          -6.5649671061239445,
          -6.2305835920502926,
          -6.2305835920502926,
          -4.958477613397251,
          -4.958477613397251,
          3.373639710937804,
          3.373639710937804,
          -0.5700037108834236,
          -0.5700037108834236,
          0.7745426132064593,
          0.7745426132064593,
          -2.149766866883917,
          -2.149766866883917,
          -2.1399219921930035,
          -2.1399219921930035,
          -4.30451831342745,
          -4.30451831342745,
          -5.487720783203819,
          3.0304352678125297,
          3.0304352678125297,
          -0.26765633015704465,
          -0.26765633015704465,
          0.4642906689998323,
          0.4642906689998323,
          1.4212178582659063,
          1.4212178582659063,
          1.9645815174186978,
          1.9645815174186978,
          2.146684316979024,
          1.7762359918841284,
          1.238050554549924,
          1.238050554549924,
          -4.779767840290772,
          -4.779767840290772,
          -3.725938120315976,
          -3.725938120315976,
          0.7270045170335169,
          0.7270045170335169,
          -0.5651041930613674,
          -0.5651041930613674,
          -1.4838830339400209,
          -1.4838830339400209,
          -2.8189716878424105,
          -2.8189716878424105,
          -1.4735804102546042,
          -1.4735804102546042,
          0.6148136336039244,
          -4.135196260973985,
          -3.731541070103652,
          -3.731541070103652,
          -3.103455366943736,
          -3.103455366943736,
          -0.31470605385462475,
          -0.6722536626614686,
          -1.5159039543453356,
          -1.5159039543453356,
          -2.6024174813006917,
          -2.6024174813006917,
          -2.0467432760803352,
          -1.8117973929058506
         ],
         "xaxis": "x",
         "y": [
          0,
          0.8833685236663178,
          -0.8833685236663178,
          1.3670116331735132,
          -1.3670116331735132,
          0,
          2.239576871358473,
          -2.239576871358473,
          0,
          0.8947696629202868,
          -0.8947696629202868,
          1.5739010907186755,
          -1.5739010907186755,
          2.7535859262878986,
          -2.7535859262878986,
          0,
          3.441812536225779,
          -3.441812536225779,
          4.034205514042402,
          -4.034205514042402,
          4.057976642495422,
          -4.057976642495422,
          2.169850623161479,
          -2.169850623161479,
          3.6019756286572187,
          -3.6019756286572187,
          3.1560438780511695,
          -3.1560438780511695,
          4.5202513718341395,
          -4.5202513718341395,
          4.3126936074377165,
          -4.3126936074377165,
          1.7275705595740551,
          -1.7275705595740551,
          0,
          3.906688626891699,
          -3.906688626891699,
          2.71106174079799,
          -2.71106174079799,
          0,
          1.2577331953962392,
          -1.2577331953962392,
          3.1398127855456273,
          -3.1398127855456273,
          1.3803376519326087,
          -1.3803376519326087,
          4.202472436523269,
          -4.202472436523269,
          3.7555916174542734,
          -3.7555916174542734,
          4.078414683387485,
          -4.078414683387485,
          3.8153495524128944,
          -3.8153495524128944,
          2.7927537930882713,
          -2.7927537930882713,
          0,
          0.11434344485266304,
          -0.11434344485266304,
          3.221389389810893,
          -3.221389389810893,
          2.758472797743976,
          -2.758472797743976,
          2.021097822208062,
          -2.021097822208062,
          1.0068654444255596,
          -1.0068654444255596,
          0,
          0,
          1.4480784125417214,
          -1.4480784125417214,
          0.797332348259645,
          -0.797332348259645,
          2.2233727634238307,
          -2.2233727634238307,
          1.4138887194492702,
          -1.4138887194492702,
          2.4604807082646514,
          -2.4604807082646514,
          2.721593711217503,
          -2.721593711217503,
          2.2794860186579977,
          -2.2794860186579977,
          2.25591526240012,
          -2.25591526240012,
          0,
          0,
          0.8503828140895626,
          -0.8503828140895626,
          0.9162594887410463,
          -0.9162594887410463,
          0,
          0,
          0.9482241993677024,
          -0.9482241993677024,
          0.6608765519975637,
          -0.6608765519975637,
          0,
          0
         ],
         "yaxis": "y"
        },
        {
         "legendgroup": "2",
         "marker": {
          "color": "#EF553B"
         },
         "mode": "markers",
         "name": "2",
         "showlegend": true,
         "type": "scatter",
         "x": [
          -9.318812166913297,
          -8.945874937747018,
          -8.150307022262018,
          -8.150307022262018,
          -7.8112459098611,
          -7.8112459098611,
          -7.462298804965957,
          -7.462298804965957,
          -6.432856337937868,
          -6.432856337937868,
          5.1044696111550705,
          5.1044696111550705,
          5.0343256973730375,
          2.3474735413854395,
          2.3474735413854395,
          3.942815424301165,
          3.942815424301165,
          3.6876284899010874,
          3.6876284899010874,
          4.437910221216368,
          -6.253845798168367,
          -6.253845798168367,
          -5.398543027797968,
          -5.398543027797968,
          -6.631784033805131,
          -6.631784033805131,
          -1.6665886163076304,
          -1.6665886163076304,
          -3.9436887499407463,
          -3.9436887499407463,
          -2.768729395436509,
          -2.768729395436509,
          3.9639683350734036,
          2.519693754640102,
          2.519693754640102,
          2.130594914283636,
          2.130594914283636,
          3.5873755228195496,
          3.5873755228195496,
          3.1568157816844344,
          3.1568157816844344,
          -4.21937495663699,
          -4.21937495663699,
          -5.448876832091111,
          -5.448876832091111,
          -5.825779291601587,
          -5.825779291601587,
          1.3483484020756655,
          1.3483484020756655,
          0.664345397056285,
          0.664345397056285,
          -2.403855581851265,
          -2.403855581851265,
          2.7144552869790015,
          -0.6457149304575127,
          -0.6457149304575127,
          -1.4192725477278216,
          -1.4192725477278216,
          1.904354357305253,
          1.904354357305253,
          0.10905226207503302,
          0.10905226207503302,
          0.3332693110017541,
          0.3332693110017541,
          0.9570293866747852,
          0.9570293866747852,
          1.8174705074728288,
          1.8174705074728288,
          -2.8519460966538417,
          -2.8519460966538417,
          -4.084608912955328,
          -4.084608912955328,
          -5.574122023112398,
          -3.8675632643600184,
          -3.8675632643600184,
          -4.706021164541875,
          -4.706021164541875,
          -4.284570828588418,
          -4.284570828588418,
          -4.35389804554538,
          -2.7558732010234435,
          -2.7558732010234435,
          -3.5892651437747283,
          -3.5892651437747283,
          -1.8722387827313949,
          -1.8722387827313949,
          -1.2265172143176724,
          -1.2265172143176724,
          -0.5133677634535555,
          -0.5133677634535555,
          -0.10441605966714056,
          -0.10441605966714056,
          0.3356935997393987,
          0.3356935997393987,
          -2.3955581018290064,
          -2.3955581018290064,
          -2.6244292958494486,
          -1.1739627418139413,
          -0.7065052164938712
         ],
         "xaxis": "x",
         "y": [
          0,
          0,
          2.526124318648057,
          -2.526124318648057,
          1.028855686422011,
          -1.028855686422011,
          1.3487130412008586,
          -1.3487130412008586,
          2.904650229394549,
          -2.904650229394549,
          0.844015331519005,
          -0.844015331519005,
          0,
          4.239219360437536,
          -4.239219360437536,
          2.3314736504041744,
          -2.3314736504041744,
          2.3701994932020862,
          -2.3701994932020862,
          0,
          2.271839369622277,
          -2.271839369622277,
          3.296748355967949,
          -3.296748355967949,
          0.5455973781087736,
          -0.5455973781087736,
          4.759775415396554,
          -4.759775415396554,
          4.090521326118623,
          -4.090521326118623,
          4.553025332607355,
          -4.553025332607355,
          0,
          2.82109792805038,
          -2.82109792805038,
          3.1070750981324506,
          -3.1070750981324506,
          0.5164737744817206,
          -0.5164737744817206,
          1.1986871607940386,
          -1.1986871607940386,
          3.5677676024552754,
          -3.5677676024552754,
          2.0853522671778726,
          -2.0853522671778726,
          1.3037284265747564,
          -1.3037284265747564,
          3.3992487672041944,
          -3.3992487672041944,
          3.6751085603506652,
          -3.6751085603506652,
          3.9097811045087796,
          -3.9097811045087796,
          0,
          3.741288204650418,
          -3.741288204650418,
          3.604481149494613,
          -3.604481149494613,
          1.1582310969442249,
          -1.1582310969442249,
          3.083435191833807,
          -3.083435191833807,
          2.91103595344525,
          -2.91103595344525,
          2.3289634189572457,
          -2.3289634189572457,
          0.07560992057698962,
          -0.07560992057698962,
          3.258937422020282,
          -3.258937422020282,
          2.735293919059842,
          -2.735293919059842,
          0,
          2.2947306548909365,
          -2.2947306548909365,
          0.26595296519678796,
          -0.26595296519678796,
          0.7700847381629108,
          -0.7700847381629108,
          0,
          1.6519344793777275,
          -1.6519344793777275,
          0.7023691737366763,
          -0.7023691737366763,
          1.8744400212109138,
          -1.8744400212109138,
          1.831584545667498,
          -1.831584545667498,
          1.4027665350636724,
          -1.4027665350636724,
          1.040746041307024,
          -1.040746041307024,
          0.20087816971666603,
          -0.20087816971666603,
          0.6331726469406109,
          -0.6331726469406109,
          0,
          0,
          0
         ],
         "yaxis": "y"
        },
        {
         "legendgroup": "3",
         "marker": {
          "color": "#00CC96"
         },
         "mode": "markers",
         "name": "3",
         "showlegend": true,
         "type": "scatter",
         "x": [
          -8.218824136680412,
          -8.218824136680412,
          -8.804158628662885,
          -8.594396840448606,
          -8.594396840448606,
          -8.373903410767756,
          5.298239518363282,
          4.652203498461869,
          4.652203498461869,
          -6.746838938343803,
          -6.746838938343803,
          -7.466532535929754,
          -7.466532535929754,
          -5.217992007513133,
          -5.217992007513133,
          -5.964876487492167,
          -5.964876487492167,
          3.047372750020847,
          3.047372750020847,
          3.7478408299863273,
          3.7478408299863273,
          4.362467543055647,
          -6.850560457453151,
          -6.21665855687757,
          -6.21665855687757,
          -1.4061719566459343,
          -1.4061719566459343,
          3.9361947229134016,
          3.9361947229134016,
          2.7090345095040353,
          2.7090345095040353,
          3.5951697254503943,
          3.3703518711524736,
          3.3703518711524736,
          -3.590867204176976,
          -3.590867204176976,
          -2.411463253573671,
          -2.411463253573671,
          2.843491224372769,
          2.843491224372769,
          0.5149615673136735,
          0.5149615673136735,
          0.37851587602482745,
          0.37851587602482745,
          1.7690414457453258,
          1.7690414457453258,
          -0.8667246383318747,
          -0.8667246383318747,
          2.0244880885033214,
          2.0244880885033214,
          1.8177069328123852,
          1.8177069328123852,
          2.224757109918946,
          2.224757109918946,
          0.7510838243882723,
          0.7510838243882723,
          1.1778639536817377,
          1.1778639536817377,
          -6.021692113943103,
          -6.021692113943103,
          -3.1606846491867664,
          -3.1606846491867664,
          -4.344908953689151,
          -4.344908953689151,
          -5.098465426126444,
          -5.098465426126444,
          -4.6031910882352,
          -4.6031910882352,
          -3.7993245335742087,
          -3.7993245335742087,
          -5.23859332156537,
          -5.23859332156537,
          -5.0871754905770485,
          -5.0871754905770485,
          -0.6207367768589862,
          -0.6207367768589862,
          1.229745698334653,
          1.229745698334653,
          -0.37179828948472393,
          -0.37179828948472393,
          -1.8086093152897549,
          -1.8086093152897549,
          -2.486680257303183,
          -2.486680257303183,
          -3.7655332460183626,
          -3.7655332460183626,
          0.3834548893839111,
          0.3834548893839111,
          0.08526449978564997,
          -0.6601000073619028,
          -1.0354044371156204,
          -2.302992241618214,
          -2.302992241618214,
          -3.4872982504451566,
          -3.2058651514499648,
          -3.2058651514499648,
          -2.209696305768748,
          -2.209696305768748,
          -2.632565397361535
         ],
         "xaxis": "x",
         "y": [
          1.8711283218961363,
          -1.8711283218961363,
          0,
          0.6386870920353338,
          -0.6386870920353338,
          0,
          0,
          1.8262632402188614,
          -1.8262632402188614,
          2.596380538449527,
          -2.596380538449527,
          0.23654331928710648,
          -0.23654331928710648,
          4.215835989425433,
          -4.215835989425433,
          3.158364953636758,
          -3.158364953636758,
          3.5526144049207824,
          -3.5526144049207824,
          2.2311064903466016,
          -2.2311064903466016,
          0,
          0,
          1.9412701410778117,
          -1.9412701410778117,
          4.9369266462980415,
          -4.9369266462980415,
          0.4004859410877327,
          -0.4004859410877327,
          2.9281637799856832,
          -2.9281637799856832,
          0,
          1.2611695493784842,
          -1.2611695493784842,
          4.150966263669241,
          -4.150966263669241,
          4.3323069287265135,
          -4.3323069287265135,
          1.8854954873366916,
          -1.8854954873366916,
          3.9351550371385846,
          -3.9351550371385846,
          3.88457069362217,
          -3.88457069362217,
          2.9751215828327857,
          -2.9751215828327857,
          4.089391392606368,
          -4.089391392606368,
          2.4199358559543747,
          -2.4199358559543747,
          1.9130128956666912,
          -1.9130128956666912,
          0.2372438808486332,
          -0.2372438808486332,
          2.641019446664733,
          -2.641019446664733,
          2.1590680920314185,
          -2.1590680920314185,
          0.7802089715990603,
          -0.7802089715990603,
          3.4773493385451197,
          -3.4773493385451197,
          3.05265260248626,
          -3.05265260248626,
          2.099677686958015,
          -2.099677686958015,
          2.6546460932056397,
          -2.6546460932056397,
          3.0124235863751876,
          -3.0124235863751876,
          1.1230483184122562,
          -1.1230483184122562,
          0.7099977701897867,
          -0.7099977701897867,
          3.0171015470487133,
          -3.0171015470487133,
          0.8134625573331383,
          -0.8134625573331383,
          2.2173977486813405,
          -2.2173977486813405,
          2.7655633149323897,
          -2.7655633149323897,
          2.579453111416975,
          -2.579453111416975,
          1.8771238853990742,
          -1.8771238853990742,
          0.7188123354250503,
          -0.7188123354250503,
          0,
          0,
          0,
          1.376053810420726,
          -1.376053810420726,
          0,
          0.6285136917596122,
          -0.6285136917596122,
          0.39736494078823154,
          -0.39736494078823154,
          0
         ],
         "yaxis": "y"
        },
        {
         "legendgroup": "4",
         "marker": {
          "color": "#AB63FA"
         },
         "mode": "markers",
         "name": "4",
         "showlegend": true,
         "type": "scatter",
         "x": [
          5.787331752512714,
          -9.191257803940319,
          -9.191257803940319,
          5.139991507734725,
          5.139991507734725,
          5.001676346866885,
          5.001676346866885,
          4.321046923094747,
          4.321046923094747,
          3.944204722732561,
          3.944204722732561,
          -2.6924374007052605,
          -2.6924374007052605,
          -7.974881880355774,
          -7.974881880355774,
          -6.435032616261854,
          -6.435032616261854,
          2.978758806641058,
          2.978758806641058,
          3.271217184593409,
          3.271217184593409,
          3.864757211597431,
          2.0492418593238404,
          2.0492418593238404,
          3.4125387126114375,
          -3.121916265572553,
          -3.121916265572553,
          2.8267364489573916,
          2.8267364489573916,
          2.563670422105855,
          2.3756331993043407,
          2.3756331993043407,
          1.1775333552103626,
          1.1775333552103626,
          0.3997760151124244,
          0.3997760151124244,
          0.5806708573690862,
          0.5806708573690862,
          -0.3869585767635026,
          -0.3869585767635026,
          -7.769779264653852,
          -6.488487282738786,
          -6.488487282738786,
          -7.41764720814366,
          -4.175186067876659,
          -4.175186067876659,
          -4.762267688921727,
          -4.762267688921727,
          -2.057858357765888,
          -2.057858357765888,
          -7.005258292094814,
          -6.126231050062631,
          -6.126231050062631,
          1.4749479272919093,
          1.4749479272919093,
          1.0059830304808126,
          1.0059830304808126,
          0.0947632779629903,
          0.0947632779629903,
          -6.418423169240098,
          -6.418423169240098,
          -5.539719331794967,
          -5.539719331794967,
          -3.809981945586127,
          -3.809981945586127,
          -1.7644031680064545,
          -1.7644031680064545,
          -4.904117228422961,
          -4.904117228422961,
          -5.071223217859509,
          -5.071223217859509,
          -5.845618365212228,
          -5.845618365212228,
          -5.2495740680205705,
          -5.2495740680205705,
          -3.28060720818423,
          -3.28060720818423,
          -1.4878639940611367,
          -1.4878639940611367,
          -4.595558069785794,
          -3.728590928533756,
          -3.728590928533756,
          -3.9233529491745993,
          -3.9233529491745993,
          0.6055897943044983,
          0.6055897943044983,
          -2.867391713096249,
          -2.867391713096249,
          -0.4852278554139873,
          -0.4852278554139873,
          -0.3154216798396014,
          -1.1123513640483194,
          -1.1123513640483194,
          -2.452817638309545,
          -2.452817638309545,
          -1.4962743977991297,
          -1.4962743977991297,
          -1.6452140605081655,
          -1.958396764545171
         ],
         "xaxis": "x",
         "y": [
          0,
          1.3877683989719716,
          -1.3877683989719716,
          1.5205462273206243,
          -1.5205462273206243,
          1.022305216855095,
          -1.022305216855095,
          2.266435982529862,
          -2.266435982529862,
          2.866545685507793,
          -2.866545685507793,
          5.452236948278814,
          -5.452236948278814,
          1.0711700591999882,
          -1.0711700591999882,
          3.4815458069236844,
          -3.4815458069236844,
          2.73310813006541,
          -2.73310813006541,
          1.908194126070621,
          -1.908194126070621,
          0,
          3.113655639337452,
          -3.113655639337452,
          0,
          4.673103378877977,
          -4.673103378877977,
          0.7817485359689468,
          -0.7817485359689468,
          0,
          1.0637350737425422,
          -1.0637350737425422,
          2.753078078063293,
          -2.753078078063293,
          3.5580267848619305,
          -3.5580267848619305,
          3.3952091514340874,
          -3.3952091514340874,
          3.9285511131055646,
          -3.9285511131055646,
          0,
          2.574503492365315,
          -2.574503492365315,
          0,
          3.9537961189906987,
          -3.9537961189906987,
          3.58073472805729,
          -3.58073472805729,
          4.110937025044314,
          -4.110937025044314,
          0,
          2.171863653890127,
          -2.171863653890127,
          0.769891402005602,
          -0.769891402005602,
          1.5801048006985552,
          -1.5801048006985552,
          2.634478365986359,
          -2.634478365986359,
          0.7891009248276031,
          -0.7891009248276031,
          2.105388298952417,
          -2.105388298952417,
          3.0988246411314084,
          -3.0988246411314084,
          3.2398339041321407,
          -3.2398339041321407,
          2.35471449082098,
          -2.35471449082098,
          1.8705590051889855,
          -1.8705590051889855,
          0.1641354329178919,
          -0.1641354329178919,
          0.6617125119080919,
          -0.6617125119080919,
          2.6017900684544544,
          -2.6017900684544544,
          2.7936551404867367,
          -2.7936551404867367,
          0,
          1.5099926843861708,
          -1.5099926843861708,
          0.61336528935916,
          -0.61336528935916,
          0.6703360999714316,
          -0.6703360999714316,
          1.6252134780959864,
          -1.6252134780959864,
          1.4743603937287244,
          -1.4743603937287244,
          0,
          1.3784024302550337,
          -1.3784024302550337,
          1.1898118635038513,
          -1.1898118635038513,
          0.9440939850545141,
          -0.9440939850545141,
          0,
          0
         ],
         "yaxis": "y"
        },
        {
         "legendgroup": "5",
         "marker": {
          "color": "#FFA15A"
         },
         "mode": "markers",
         "name": "5",
         "showlegend": true,
         "type": "scatter",
         "x": [
          5.787331780454346,
          -9.051825080729149,
          -9.051825080729149,
          4.36381779221276,
          4.36381779221276,
          4.79007255778552,
          4.79007255778552,
          3.869083988943213,
          3.869083988943213,
          4.578933296021593,
          4.578933296021593,
          4.534795271806907,
          -7.7742894058122305,
          -7.7742894058122305,
          -8.238321039278684,
          -8.019141062935024,
          -8.019141062935024,
          3.8327822821455557,
          2.339814839644072,
          2.339814839644072,
          1.3274502971524378,
          1.3274502971524378,
          3.402479031094515,
          3.402479031094515,
          -7.877367361272988,
          -2.890048656008317,
          -2.890048656008317,
          -5.550145101315708,
          -5.550145101315708,
          -7.371056824325238,
          -7.371056824325238,
          2.3467384294818125,
          2.3467384294818125,
          -1.0478897058288223,
          -1.0478897058288223,
          -3.8989260811182573,
          -3.8989260811182573,
          0.8706648927147148,
          0.8706648927147148,
          2.342690266929732,
          2.342690266929732,
          1.7028465360805234,
          1.7028465360805234,
          -4.759711808639868,
          -4.759711808639868,
          -0.04134014366685686,
          -0.04134014366685686,
          -6.522731661512087,
          -6.522731661512087,
          -0.8394280736731227,
          -0.8394280736731227,
          -5.907915175115557,
          -5.907915175115557,
          -1.943285744701625,
          -1.943285744701625,
          -4.965277010477216,
          -4.965277010477216,
          -5.187267240380836,
          -5.187267240380836,
          -5.756792629347568,
          -5.557723864008089,
          -5.240483363206768,
          -5.240483363206768,
          -4.2098757010491115,
          -4.2098757010491115,
          -3.3136271890422178,
          -3.3136271890422178,
          -5.056571753005845,
          2.076334891233274,
          2.076334891233274,
          0.7534230456111348,
          0.7534230456111348,
          -3.7195208239684137,
          -3.7195208239684137,
          -3.932759812475438,
          -3.932759812475438,
          1.2181051440459933,
          1.2181051440459933,
          -0.8293780549652007,
          -0.8293780549652007,
          0.9943105268576802,
          0.9943105268576802,
          -2.692724621741375,
          -2.692724621741375,
          0.5601546376278752,
          -3.555508718469349,
          -2.9361058857309645,
          -2.9361058857309645,
          -1.7636330099586126,
          -1.7636330099586126,
          -0.41893619505355806,
          -0.41893619505355806,
          -0.5955143125435964,
          -0.5955143125435964,
          -2.3637904773029894,
          -1.7688639746048391,
          -1.7688639746048391,
          -0.9928970373360044,
          -0.600271551272182
         ],
         "xaxis": "x",
         "y": [
          0,
          0.9149579664654384,
          -0.9149579664654384,
          2.346401286912787,
          -2.346401286912787,
          1.00936540496509,
          -1.00936540496509,
          2.6770896184798634,
          -2.6770896184798634,
          0.23671627458715083,
          -0.23671627458715083,
          0,
          2.175076025634277,
          -2.175076025634277,
          0,
          0.9569632300790868,
          -0.9569632300790868,
          0,
          3.512896214410384,
          -3.512896214410384,
          4.209238663551354,
          -4.209238663551354,
          1.2481963881884905,
          -1.2481963881884905,
          0,
          5.081372082231385,
          -5.081372082231385,
          4.068818920230878,
          -4.068818920230878,
          1.0636413475630973,
          -1.0636413475630973,
          2.728660477374006,
          -2.728660477374006,
          4.518833631939654,
          -4.518833631939654,
          4.324107818480612,
          -4.324107818480612,
          3.5417784007166264,
          -3.5417784007166264,
          1.205936438795977,
          -1.205936438795977,
          2.3117467632654547,
          -2.3117467632654547,
          3.588762502357675,
          -3.588762502357675,
          3.4951836579801867,
          -3.4951836579801867,
          1.001929399724951,
          -1.001929399724951,
          3.5132725948477703,
          -3.5132725948477703,
          1.805181564138911,
          -1.805181564138911,
          3.424786822702759,
          -3.424786822702759,
          2.5880811909602013,
          -2.5880811909602013,
          2.1651895176600187,
          -2.1651895176600187,
          0,
          0,
          1.09312844303035,
          -1.09312844303035,
          2.5758395023486997,
          -2.5758395023486997,
          2.9455679849447005,
          -2.9455679849447005,
          0,
          0.28141997890962667,
          -0.28141997890962667,
          2.5088738373843995,
          -2.5088738373843995,
          2.2068243775813565,
          -2.2068243775813565,
          1.640208018751171,
          -1.640208018751171,
          1.4653777813235123,
          -1.4653777813235123,
          2.6171301289704907,
          -2.6171301289704907,
          1.0443807073648828,
          -1.0443807073648828,
          1.8950703547944765,
          -1.8950703547944765,
          0,
          0,
          0.6525887474577605,
          -0.6525887474577605,
          1.5682617013412883,
          -1.5682617013412883,
          1.3669884206982885,
          -1.3669884206982885,
          1.1511028668231431,
          -1.1511028668231431,
          0,
          0.8352182818269338,
          -0.8352182818269338,
          0,
          0
         ],
         "yaxis": "y"
        },
        {
         "legendgroup": "6",
         "marker": {
          "color": "#19D3F3"
         },
         "mode": "markers",
         "name": "6",
         "showlegend": true,
         "type": "scatter",
         "x": [
          5.696417014250177,
          -6.941445039592487,
          -6.941445039592487,
          -8.842186452808674,
          -8.5607624634254,
          -8.5607624634254,
          4.585543917986703,
          4.585543917986703,
          1.9421842761813808,
          1.9421842761813808,
          3.463306439779147,
          3.463306439779147,
          -7.9539601840848855,
          -7.9539601840848855,
          -7.9334048924048535,
          -7.9334048924048535,
          3.914021465911554,
          3.914021465911554,
          -5.430992458250717,
          -5.430992458250717,
          0.48294164552471724,
          0.48294164552471724,
          4.11849778003543,
          4.11849778003543,
          3.8208553302120234,
          3.8208553302120234,
          -6.715725046514208,
          -6.715725046514208,
          -4.652907086876354,
          -4.652907086876354,
          3.6227508572469453,
          3.6227508572469453,
          -7.264858617991601,
          -2.3800471812852395,
          -2.3800471812852395,
          -6.738009344759395,
          -6.738009344759395,
          2.3607408423145806,
          2.3607408423145806,
          -0.2215244915998999,
          -0.2215244915998999,
          1.2111822948276656,
          1.2111822948276656,
          2.796252827306201,
          2.6428706006216633,
          2.6428706006216633,
          1.4450808390431815,
          1.4450808390431815,
          -4.559997804861823,
          -4.559997804861823,
          -5.745569719623389,
          -5.745569719623389,
          -3.178182390514513,
          -3.178182390514513,
          0.6246205293852204,
          0.6246205293852204,
          1.9949447793877093,
          1.9949447793877093,
          0.5948043027474216,
          0.5948043027474216,
          2.05768515643048,
          -5.14404347684437,
          -5.14404347684437,
          -3.4612026845302784,
          -3.4612026845302784,
          -2.361649537991765,
          -2.361649537991765,
          -1.1697299314632796,
          -1.1697299314632796,
          -5.560551288935131,
          -3.7308902807636652,
          -3.7308902807636652,
          -0.7743734753557193,
          -0.7743734753557193,
          -4.04897401965587,
          -4.04897401965587,
          -4.908124376177611,
          -4.6524383458346446,
          -4.6524383458346446,
          -4.429288870332248,
          -3.861376646132688,
          -3.861376646132688,
          -0.7957152858242502,
          -0.7957152858242502,
          -1.883430431247139,
          -1.883430431247139,
          1.2614004605097326,
          0.7988445640107606,
          0.7988445640107606,
          0.17040079904116046,
          -0.5815168739234184,
          -0.5815168739234184,
          -1.3822183547153497,
          -1.3822183547153497,
          -3.255690237707289,
          -3.255690237707289,
          -2.291182733249677,
          -2.5314262544109645,
          -2.5314262544109645
         ],
         "xaxis": "x",
         "y": [
          0,
          3.9921141392034873,
          -3.9921141392034873,
          0,
          0.6518376135138951,
          -0.6518376135138951,
          2.252503671634935,
          -2.252503671634935,
          4.818506085043943,
          -4.818506085043943,
          3.4721345873699714,
          -3.4721345873699714,
          1.9646567853316064,
          -1.9646567853316064,
          1.3509931052917055,
          -1.3509931052917055,
          2.29636125120064,
          -2.29636125120064,
          4.162594690954553,
          -4.162594690954553,
          4.712795492061026,
          -4.712795492061026,
          0.5839559608091756,
          -0.5839559608091756,
          0.9334604100016668,
          -0.9334604100016668,
          2.432416626017832,
          -2.432416626017832,
          4.258669284473641,
          -4.258669284473641,
          0.09634253020892006,
          -0.09634253020892006,
          0,
          4.653554647717078,
          -4.653554647717078,
          0.7081363613235275,
          -0.7081363613235275,
          2.233639288701099,
          -2.233639288701099,
          4.004071749368063,
          -4.004071749368063,
          3.322454352076463,
          -3.322454352076463,
          0,
          0.8114953996609174,
          -0.8114953996609174,
          2.746144988363148,
          -2.746144988363148,
          3.4595721304763503,
          -3.4595721304763503,
          2.1634883480092846,
          -2.1634883480092846,
          3.826903685746072,
          -3.826903685746072,
          3.0560100352420596,
          -3.0560100352420596,
          1.0442990086123738,
          -1.0442990086123738,
          2.635735150179745,
          -2.635735150179745,
          0,
          2.4513876582403586,
          -2.4513876582403586,
          3.2015399201102723,
          -3.2015399201102723,
          3.2594646232101105,
          -3.2594646232101105,
          2.985832876185622,
          -2.985832876185622,
          0,
          2.513483070416574,
          -2.513483070416574,
          2.5516667164343447,
          -2.5516667164343447,
          1.7481483747302777,
          -1.7481483747302777,
          0,
          0.7337695476875014,
          -0.7337695476875014,
          0,
          1.289342013843539,
          -1.289342013843539,
          2.1335946270275503,
          -2.1335946270275503,
          2.082709855421529,
          -2.082709855421529,
          0,
          0.18689504806453533,
          -0.18689504806453533,
          0,
          0.4315759368949267,
          -0.4315759368949267,
          1.0668820828441847,
          -1.0668820828441847,
          0.5514460858577223,
          -0.5514460858577223,
          0,
          0.7509853917804731,
          -0.7509853917804731
         ],
         "yaxis": "y"
        },
        {
         "legendgroup": "7",
         "marker": {
          "color": "#FF6692"
         },
         "mode": "markers",
         "name": "7",
         "showlegend": true,
         "type": "scatter",
         "x": [
          5.909814859042712,
          4.659503125670308,
          4.659503125670308,
          4.684778359548368,
          4.684778359548368,
          1.090020734387193,
          1.090020734387193,
          -8.758943616957417,
          -7.660552789372278,
          -7.660552789372278,
          -8.270396624268358,
          -8.139007925011128,
          -8.139007925011128,
          4.239291889522421,
          4.0770450694395635,
          4.0770450694395635,
          -4.539682130966425,
          -4.539682130966425,
          -7.387305074601963,
          -7.387305074601963,
          -6.29655383208145,
          -6.29655383208145,
          -6.617657833892436,
          -6.617657833892436,
          -6.989253851574176,
          -6.989253851574176,
          2.7520031063639196,
          2.7520031063639196,
          -6.102783865131201,
          -6.102783865131201,
          2.9519380101351236,
          2.9519380101351236,
          1.3168057739351287,
          1.3168057739351287,
          3.4320441666054013,
          3.225078330352335,
          3.225078330352335,
          2.7282189584769396,
          2.7282189584769396,
          -1.9462871883034558,
          -1.9462871883034558,
          0.33492954670973724,
          0.33492954670973724,
          2.902137731705083,
          -0.9280294650974014,
          -0.9280294650974014,
          -4.631915688803994,
          -4.631915688803994,
          -5.179047767388596,
          -5.179047767388596,
          -6.092596363762154,
          -6.092596363762154,
          -2.797138511686006,
          -2.797138511686006,
          -5.370109716681201,
          -5.370109716681201,
          0.5576171784449356,
          0.5576171784449356,
          1.6684493143209693,
          1.6684493143209693,
          0.6795485166139065,
          0.6795485166139065,
          -0.12722914550418427,
          -0.12722914550418427,
          1.720300107056022,
          1.720300107056022,
          1.4425601478288386,
          1.4425601478288386,
          -5.433474175381553,
          -4.376998419919373,
          -4.376998419919373,
          -4.9819523364740546,
          -4.9819523364740546,
          -3.6328324210105523,
          -3.6328324210105523,
          -2.650617546840938,
          -2.650617546840938,
          -0.98488706310525,
          -0.98488706310525,
          -3.882506873672622,
          -3.882506873672622,
          -3.7536831469717025,
          -2.0593519249061956,
          -2.0593519249061956,
          0.21264985482143645,
          0.21264985482143645,
          -2.4446197674132897,
          -2.4446197674132897,
          -0.8862756640237761,
          -0.8862756640237761,
          0.5527575640605262,
          -2.429501101173022,
          -2.429501101173022,
          0.17723845747682646,
          -0.3140901679856086,
          -1.8112051124410127,
          -1.2064380549788802,
          -1.2064380549788802,
          -1.3661399806059074
         ],
         "xaxis": "x",
         "y": [
          0,
          2.9938098208169146,
          -2.9938098208169146,
          1.668857875534209,
          -1.668857875534209,
          5.310533786483603,
          -5.310533786483603,
          0,
          2.6989573351177576,
          -2.6989573351177576,
          0,
          1.0250668657720814,
          -1.0250668657720814,
          0,
          1.3218614909056694,
          -1.3218614909056694,
          4.684531196229535,
          -4.684531196229535,
          0.2650095217834468,
          -0.2650095217834468,
          2.958957380969273,
          -2.958957380969273,
          2.489124168943172,
          -2.489124168943172,
          1.5377435800472963,
          -1.5377435800472963,
          3.200129953310336,
          -3.200129953310336,
          2.5904407744426616,
          -2.5904407744426616,
          2.6160931978434077,
          -2.6160931978434077,
          4.059266210128443,
          -4.059266210128443,
          0,
          1.2277436826810095,
          -1.2277436826810095,
          1.828624476969983,
          -1.828624476969983,
          4.431023408184035,
          -4.431023408184035,
          4.042740403552606,
          -4.042740403552606,
          0,
          4.111986007765988,
          -4.111986007765988,
          3.2659529855054066,
          -3.2659529855054066,
          2.635118480949352,
          -2.635118480949352,
          0.7333167727504284,
          -0.7333167727504284,
          3.675839777191332,
          -3.675839777191332,
          1.7529086717712485,
          -1.7529086717712485,
          3.3453847542218296,
          -3.3453847542218296,
          1.9840274008558387,
          -1.9840274008558387,
          2.489656344834651,
          -2.489656344834651,
          2.8618954275490127,
          -2.8618954275490127,
          0.250840640413452,
          -0.250840640413452,
          1.2354686048462131,
          -1.2354686048462131,
          0,
          2.23141055298511,
          -2.23141055298511,
          0.7011207686044144,
          -0.7011207686044144,
          2.367559834323656,
          -2.367559834323656,
          2.807449251077758,
          -2.807449251077758,
          2.43789727242014,
          -2.43789727242014,
          0.9870383449997864,
          -0.9870383449997864,
          0,
          2.192103926437864,
          -2.192103926437864,
          1.4881850532337102,
          -1.4881850532337102,
          1.403092542346159,
          -1.403092542346159,
          1.5314237165327143,
          -1.5314237165327143,
          0,
          0.3931428563091541,
          -0.3931428563091541,
          0,
          0,
          0,
          0.39372849171059165,
          -0.39372849171059165,
          0
         ],
         "yaxis": "y"
        },
        {
         "legendgroup": "8",
         "marker": {
          "color": "#B6E880"
         },
         "mode": "markers",
         "name": "8",
         "showlegend": true,
         "type": "scatter",
         "x": [
          5.377384281754421,
          5.377384281754421,
          -9.023914066994337,
          -9.023914066994337,
          3.880218298628845,
          3.880218298628845,
          4.150008519948369,
          4.150008519948369,
          4.330318650056801,
          4.330318650056801,
          4.289171216376829,
          4.289171216376829,
          2.594118955567633,
          2.594118955567633,
          3.5764576110535344,
          3.5764576110535344,
          3.6432294784419925,
          -0.32622786200344384,
          -0.32622786200344384,
          -8.102441206757602,
          -6.711537157247601,
          -6.711537157247601,
          -7.558121008184767,
          -7.558121008184767,
          -7.297191294118573,
          -7.297191294118573,
          2.8252691387235753,
          2.8252691387235753,
          0.3496277958996058,
          0.3496277958996058,
          1.3764042115984376,
          1.3764042115984376,
          -6.549824562349556,
          -6.549824562349556,
          -5.421841862336029,
          -5.421841862336029,
          1.9740288459881674,
          1.9740288459881674,
          -5.516823563908295,
          -5.516823563908295,
          -3.1048738467827106,
          -3.1048738467827106,
          -6.769416043280324,
          -6.769416043280324,
          -6.7239329025060135,
          -4.42884932742732,
          -4.42884932742732,
          -5.962990842429563,
          -5.962990842429563,
          2.3969246717577994,
          2.0610638655765547,
          1.358159282225789,
          1.358159282225789,
          -0.07817464280721942,
          -0.07817464280721942,
          -0.6095799870957682,
          -0.6095799870957682,
          -3.1915692134947933,
          -3.1915692134947933,
          -1.8015761623260174,
          -1.8015761623260174,
          -5.179386855780057,
          -5.179386855780057,
          1.4029347785371802,
          1.4029347785371802,
          0.6401117275951503,
          0.6401117275951503,
          -4.115616297056368,
          -4.115616297056368,
          -5.30659083675755,
          -5.30659083675755,
          -4.51279412055343,
          -4.51279412055343,
          -2.5770230218685923,
          -2.5770230218685923,
          0.7072276600109451,
          0.7072276600109451,
          -0.18788615892707194,
          -0.18788615892707194,
          -1.494992239247586,
          -1.494992239247586,
          -0.9829069973362146,
          -0.9829069973362146,
          -3.729707222350653,
          -3.729707222350653,
          -4.341665353393011,
          -4.140435589073319,
          -1.9382882392755474,
          -1.9382882392755474,
          -2.561298252561731,
          -2.561298252561731,
          -2.313584209196084,
          -2.313584209196084,
          -3.1072969526573577,
          -3.1072969526573577,
          -0.005965833632072241,
          -0.8279015453053824,
          -0.8279015453053824,
          -1.5183575727597416
         ],
         "xaxis": "x",
         "y": [
          0.26271485745304407,
          -0.26271485745304407,
          0.768349761082916,
          -0.768349761082916,
          2.7196206267691703,
          -2.7196206267691703,
          2.048260811551306,
          -2.048260811551306,
          1.4042640504314172,
          -1.4042640504314172,
          0.28446311839329363,
          -0.28446311839329363,
          3.3227677958485136,
          -3.3227677958485136,
          1.0289875279716996,
          -1.0289875279716996,
          0,
          4.889045133273685,
          -4.889045133273685,
          0,
          3.1382328777809154,
          -3.1382328777809154,
          0.8859046463649509,
          -0.8859046463649509,
          1.6613545464253956,
          -1.6613545464253956,
          1.555037027958291,
          -1.555037027958291,
          4.154679831246415,
          -4.154679831246415,
          3.3424051010585987,
          -3.3424051010585987,
          2.4487500592011293,
          -2.4487500592011293,
          3.6899614908176392,
          -3.6899614908176392,
          2.339344985736695,
          -2.339344985736695,
          3.247464991772183,
          -3.247464991772183,
          4.307230239580613,
          -4.307230239580613,
          0.5099097930317439,
          -0.5099097930317439,
          0,
          3.3863171936833263,
          -3.3863171936833263,
          1.272065822207677,
          -1.272065822207677,
          0,
          0,
          2.0877494681402418,
          -2.0877494681402418,
          3.328464144353215,
          -3.328464144353215,
          3.4807367847128217,
          -3.4807367847128217,
          3.5933437889783364,
          -3.5933437889783364,
          3.6538036295149516,
          -3.6538036295149516,
          2.1813466869841305,
          -2.1813466869841305,
          0.48346012449581516,
          -0.48346012449581516,
          2.2154655514471284,
          -2.2154655514471284,
          2.721782620940312,
          -2.721782620940312,
          0.7499921165559545,
          -0.7499921165559545,
          1.9966502903982724,
          -1.9966502903982724,
          3.04250890010081,
          -3.04250890010081,
          1.3428734248742118,
          -1.3428734248742118,
          1.2847810736956455,
          -1.2847810736956455,
          2.34691416997561,
          -2.34691416997561,
          2.0350847690799383,
          -2.0350847690799383,
          1.27377090465269,
          -1.27377090465269,
          0,
          0,
          1.908995345124517,
          -1.908995345124517,
          1.7407465659457861,
          -1.7407465659457861,
          1.3507334259656114,
          -1.3507334259656114,
          0.1810263971000164,
          -0.1810263971000164,
          0,
          0.6032471657767188,
          -0.6032471657767188,
          0
         ],
         "yaxis": "y"
        },
        {
         "legendgroup": "9",
         "marker": {
          "color": "#FF97FF"
         },
         "mode": "markers",
         "name": "9",
         "showlegend": true,
         "type": "scatter",
         "x": [
          -8.847043443256728,
          -8.54558642255974,
          -8.54558642255974,
          -8.211983653403095,
          -8.211983653403095,
          5.566185516027986,
          5.566185516027986,
          5.47204990341167,
          -7.16886629162597,
          -7.16886629162597,
          4.687353988871465,
          4.687353988871465,
          -7.233784962851571,
          -7.233784962851571,
          3.9700919801182426,
          3.9700919801182426,
          -4.386440749498124,
          -4.386440749498124,
          2.6276432742796136,
          2.6276432742796136,
          3.0828846963399954,
          3.0828846963399954,
          1.5129475540847297,
          1.5129475540847297,
          3.988353263439167,
          3.6818226507823626,
          3.6818226507823626,
          -5.707130758552356,
          -5.707130758552356,
          -6.1024073363494775,
          -6.1024073363494775,
          -4.6817443328198145,
          -4.6817443328198145,
          -6.363005248554181,
          -6.363005248554181,
          -6.589596533222499,
          3.6228496784216344,
          3.1470131009333504,
          3.1470131009333504,
          -6.018487809076277,
          -6.018487809076277,
          -6.027581939111158,
          -0.7265747634052253,
          -0.7265747634052253,
          1.3597536779037103,
          1.3597536779037103,
          0.08650220108898585,
          0.08650220108898585,
          -1.9464228465581939,
          -1.9464228465581939,
          -5.054443313216339,
          -5.054443313216339,
          -4.521782767649047,
          -4.521782767649047,
          -4.208419751461501,
          -4.208419751461501,
          -0.5106546255864235,
          -0.5106546255864235,
          -2.2865939754718876,
          -2.2865939754718876,
          -4.960026968685565,
          -4.960026968685565,
          -4.340273095099786,
          -4.340273095099786,
          -3.760997749891893,
          -3.760997749891893,
          -3.0118340731478224,
          -3.0118340731478224,
          1.412205263822941,
          1.412205263822941,
          1.8120742383514985,
          1.8120742383514985,
          0.4737788755536234,
          0.4737788755536234,
          1.517844680485028,
          1.517844680485028,
          1.6493824097311571,
          1.6493824097311571,
          -3.522876091860994,
          -3.522876091860994,
          -1.8828723791294142,
          -1.8828723791294142,
          -0.9955050040208261,
          -0.9955050040208261,
          0.105726942289553,
          0.105726942289553,
          1.1058368762455448,
          -2.2159050115491845,
          -2.2159050115491845,
          -2.768022580239931,
          -2.768022580239931,
          -2.65808214670643,
          -2.65808214670643,
          -1.2176538972730158,
          -1.2176538972730158,
          -0.2539232183829311,
          -0.2539232183829311,
          0.07661887035427212,
          -1.3371138014388746
         ],
         "xaxis": "x",
         "y": [
          0,
          1.390398428545839,
          -1.390398428545839,
          2.0308159951736964,
          -2.0308159951736964,
          1.164514836693002,
          -1.164514836693002,
          0,
          2.926691018026317,
          -2.926691018026317,
          0.909894979548681,
          -0.909894979548681,
          2.1722035508714397,
          -2.1722035508714397,
          1.9513363365585537,
          -1.9513363365585537,
          4.778536093530906,
          -4.778536093530906,
          3.3483623793184547,
          -3.3483623793184547,
          2.454746467078661,
          -2.454746467078661,
          3.9218119191581953,
          -3.9218119191581953,
          0,
          0.7571585766116903,
          -0.7571585766116903,
          3.4822626772629484,
          -3.4822626772629484,
          2.668522848513073,
          -2.668522848513073,
          3.898388396073249,
          -3.898388396073249,
          1.4315160965289624,
          -1.4315160965289624,
          0,
          0,
          0.5248981637225991,
          -0.5248981637225991,
          0.5156599449928249,
          -0.5156599449928249,
          0,
          4.3533480403994576,
          -4.3533480403994576,
          3.1525717823277057,
          -3.1525717823277057,
          3.8405432795280836,
          -3.8405432795280836,
          4.080037257658361,
          -4.080037257658361,
          2.4078876621918472,
          -2.4078876621918472,
          2.8909417280054472,
          -2.8909417280054472,
          3.1700290761143637,
          -3.1700290761143637,
          3.7736881710685495,
          -3.7736881710685495,
          3.7568553927393884,
          -3.7568553927393884,
          0.2807581387424509,
          -0.2807581387424509,
          1.8579836174030726,
          -1.8579836174030726,
          2.5916727817631786,
          -2.5916727817631786,
          2.996174363695398,
          -2.996174363695398,
          2.458760274089774,
          -2.458760274089774,
          1.3230175971469453,
          -1.3230175971469453,
          2.326545062902406,
          -2.326545062902406,
          0.9309149908485985,
          -0.9309149908485985,
          0.4885855894716532,
          -0.4885855894716532,
          1.2727201684691136,
          -1.2727201684691136,
          2.3804976918920047,
          -2.3804976918920047,
          2.397869591439094,
          -2.397869591439094,
          1.8528692399944684,
          -1.8528692399944684,
          0,
          1.980504228422201,
          -1.980504228422201,
          0.8919437642106213,
          -0.8919437642106213,
          0.4660341072000526,
          -0.4660341072000526,
          1.429007235051677,
          -1.429007235051677,
          0.6613352055202139,
          -0.6613352055202139,
          0,
          0
         ],
         "yaxis": "y"
        },
        {
         "legendgroup": "10",
         "marker": {
          "color": "#FECB52"
         },
         "mode": "markers",
         "name": "10",
         "showlegend": true,
         "type": "scatter",
         "x": [
          6.285626395366887,
          -9.216777618636467,
          -9.216777618636467,
          -9.048198865936737,
          -8.35028237134594,
          -8.019844369032512,
          -8.019844369032512,
          -6.982393162865656,
          -6.982393162865656,
          5.115881224740289,
          4.16798349358842,
          4.16798349358842,
          4.777643499215953,
          4.777643499215953,
          3.658966646835918,
          3.658966646835918,
          -6.099717296532674,
          -6.099717296532674,
          2.5253176157422175,
          2.5253176157422175,
          4.211493384953952,
          4.211493384953952,
          3.7696711289452995,
          3.7696711289452995,
          -4.13761886456989,
          -4.13761886456989,
          -6.710460703546539,
          -6.710460703546539,
          -2.574987786573284,
          -2.574987786573284,
          -6.421737749179845,
          -6.421737749179845,
          -5.557857520458953,
          -5.557857520458953,
          2.8248918832683505,
          2.8248918832683505,
          -0.4560101737755065,
          -0.4560101737755065,
          2.2447693960461557,
          2.2447693960461557,
          1.0074237487255302,
          1.0074237487255302,
          2.8242583556746026,
          -5.689572725942582,
          -5.689572725942582,
          -2.9257972055415657,
          -2.9257972055415657,
          -3.920295114250774,
          -3.920295114250774,
          -4.714396479305322,
          -4.714396479305322,
          -1.3676430627447187,
          -1.3676430627447187,
          -2.173835033887181,
          -2.173835033887181,
          0.7780946145387797,
          0.7780946145387797,
          2.073326901495906,
          2.073326901495906,
          -5.650966496603842,
          -5.650966496603842,
          -4.693207400106025,
          -4.693207400106025,
          -4.989464360777543,
          -4.989464360777543,
          -3.6154698548290907,
          -3.6154698548290907,
          1.7666837026764024,
          1.7666837026764024,
          0.9763370491401842,
          0.9763370491401842,
          -3.7428942292518843,
          -3.7428942292518843,
          -3.8584357715036073,
          -3.8584357715036073,
          -3.8351730216934294,
          -0.28651802837691914,
          -0.28651802837691914,
          -1.440687173325374,
          -1.440687173325374,
          -1.906818208055235,
          -1.906818208055235,
          -2.3387905565637843,
          -2.3387905565637843,
          0.9964071920791906,
          -0.230015432345599,
          -0.230015432345599,
          -2.5689099483161053,
          0.14795135115662217,
          0.14795135115662217,
          -0.2259988210729283,
          -0.2259988210729283,
          -0.7990703431806023,
          -0.7990703431806023,
          -1.6330234459936495,
          -1.6330234459936495,
          -0.1170237226737207,
          -0.607225838178451,
          -0.607225838178451
         ],
         "xaxis": "x",
         "y": [
          0,
          0.5776013201532099,
          -0.5776013201532099,
          0,
          0,
          1.5688266914945765,
          -1.5688266914945765,
          2.6772296025918156,
          -2.6772296025918156,
          0,
          2.5894067034244808,
          -2.5894067034244808,
          0.8954948789836925,
          -0.8954948789836925,
          3.015394764101178,
          -3.015394764101178,
          3.160243629569259,
          -3.160243629569259,
          3.829585599969244,
          -3.829585599969244,
          0.46962279113350475,
          -0.46962279113350475,
          0.945841126588538,
          -0.945841126588538,
          4.454640670790705,
          -4.454640670790705,
          0.5025233598393104,
          -0.5025233598393104,
          4.520718729191101,
          -4.520718729191101,
          0.7919189001280891,
          -0.7919189001280891,
          2.5326669504054182,
          -2.5326669504054182,
          2.1610343665729843,
          -2.1610343665729843,
          4.228732617126054,
          -4.228732617126054,
          2.635031755518578,
          -2.635031755518578,
          3.6381239588083285,
          -3.6381239588083285,
          0,
          1.6827123693067743,
          -1.6827123693067743,
          3.8117614548040537,
          -3.8117614548040537,
          3.227579266762264,
          -3.227579266762264,
          2.5163365722419373,
          -2.5163365722419373,
          3.9455064759325635,
          -3.9455064759325635,
          3.6949652912595647,
          -3.6949652912595647,
          3.2132218932121965,
          -3.2132218932121965,
          1.684615698903726,
          -1.684615698903726,
          0.04871896003228109,
          -0.04871896003228109,
          1.6129232731192222,
          -1.6129232731192222,
          0.36131371552102315,
          -0.36131371552102315,
          2.506194992688921,
          -2.506194992688921,
          0.7958781595309182,
          -0.7958781595309182,
          2.331423096177617,
          -2.331423096177617,
          1.754670544887284,
          -1.754670544887284,
          1.061154013103649,
          -1.061154013103649,
          0,
          2.741561161347604,
          -2.741561161347604,
          2.7059756141968183,
          -2.7059756141968183,
          2.250645416188162,
          -2.250645416188162,
          1.4538565792756706,
          -1.4538565792756706,
          0,
          2.0332054759662226,
          -2.0332054759662226,
          0,
          1.373086909119158,
          -1.373086909119158,
          1.5111021169562466,
          -1.5111021169562466,
          1.3529859132628055,
          -1.3529859132628055,
          0.27271025481764666,
          -0.27271025481764666,
          0,
          0.2873365750286148,
          -0.2873365750286148
         ],
         "yaxis": "y"
        },
        {
         "legendgroup": "1",
         "marker": {
          "color": "#636EFA"
         },
         "mode": "markers",
         "name": "1",
         "showlegend": false,
         "type": "scatter",
         "x": [
          66.7009265012763
         ],
         "xaxis": "x2",
         "y": [
          0
         ],
         "yaxis": "y2"
        },
        {
         "legendgroup": "2",
         "marker": {
          "color": "#EF553B"
         },
         "mode": "markers",
         "name": "2",
         "showlegend": false,
         "type": "scatter",
         "x": [
          66.12350110118227
         ],
         "xaxis": "x2",
         "y": [
          0
         ],
         "yaxis": "y2"
        },
        {
         "legendgroup": "3",
         "marker": {
          "color": "#00CC96"
         },
         "mode": "markers",
         "name": "3",
         "showlegend": false,
         "type": "scatter",
         "x": [
          67.00121915088187
         ],
         "xaxis": "x2",
         "y": [
          0
         ],
         "yaxis": "y2"
        },
        {
         "legendgroup": "4",
         "marker": {
          "color": "#AB63FA"
         },
         "mode": "markers",
         "name": "4",
         "showlegend": false,
         "type": "scatter",
         "x": [
          66.28354179423934
         ],
         "xaxis": "x2",
         "y": [
          0
         ],
         "yaxis": "y2"
        },
        {
         "legendgroup": "5",
         "marker": {
          "color": "#FFA15A"
         },
         "mode": "markers",
         "name": "5",
         "showlegend": false,
         "type": "scatter",
         "x": [
          65.71405282880097
         ],
         "xaxis": "x2",
         "y": [
          0
         ],
         "yaxis": "y2"
        },
        {
         "legendgroup": "6",
         "marker": {
          "color": "#19D3F3"
         },
         "mode": "markers",
         "name": "6",
         "showlegend": false,
         "type": "scatter",
         "x": [
          67.36206303191265
         ],
         "xaxis": "x2",
         "y": [
          0
         ],
         "yaxis": "y2"
        },
        {
         "legendgroup": "7",
         "marker": {
          "color": "#FF6692"
         },
         "mode": "markers",
         "name": "7",
         "showlegend": false,
         "type": "scatter",
         "x": [
          64.97402053474148
         ],
         "xaxis": "x2",
         "y": [
          0
         ],
         "yaxis": "y2"
        },
        {
         "legendgroup": "8",
         "marker": {
          "color": "#B6E880"
         },
         "mode": "markers",
         "name": "8",
         "showlegend": false,
         "type": "scatter",
         "x": [
          65.44426727773444
         ],
         "xaxis": "x2",
         "y": [
          0
         ],
         "yaxis": "y2"
        },
        {
         "legendgroup": "9",
         "marker": {
          "color": "#FF97FF"
         },
         "mode": "markers",
         "name": "9",
         "showlegend": false,
         "type": "scatter",
         "x": [
          65.67380867308268
         ],
         "xaxis": "x2",
         "y": [
          0
         ],
         "yaxis": "y2"
        },
        {
         "legendgroup": "10",
         "marker": {
          "color": "#FECB52"
         },
         "mode": "markers",
         "name": "10",
         "showlegend": false,
         "type": "scatter",
         "x": [
          64.81136758346139
         ],
         "xaxis": "x2",
         "y": [
          0
         ],
         "yaxis": "y2"
        },
        {
         "marker": {
          "color": "red",
          "size": 15,
          "symbol": "star"
         },
         "mode": "markers",
         "showlegend": false,
         "type": "scatter",
         "x": [
          66.14198579156113
         ],
         "xaxis": "x2",
         "y": [
          0
         ],
         "yaxis": "y2"
        }
       ],
       "layout": {
        "annotations": [
         {
          "font": {
           "size": 16
          },
          "showarrow": false,
          "text": "Ellipse",
          "x": 0.245,
          "xanchor": "center",
          "xref": "paper",
          "y": 1,
          "yanchor": "bottom",
          "yref": "paper"
         },
         {
          "font": {
           "size": 16
          },
          "showarrow": false,
          "text": "Oulier",
          "x": 0.755,
          "xanchor": "center",
          "xref": "paper",
          "y": 1,
          "yanchor": "bottom",
          "yref": "paper"
         },
         {
          "arrowhead": 2,
          "arrowsize": 1.5,
          "arrowwidth": 1,
          "showarrow": true,
          "text": "Predicted Outlier",
          "x": 66.14198579156113,
          "xref": "x2",
          "y": 0,
          "yref": "y2"
         }
        ],
        "height": 600,
        "legend": {
         "title": {
          "text": "Run"
         }
        },
        "shapes": [
         {
          "line": {
           "color": "black",
           "width": 2.5
          },
          "type": "circle",
          "x0": -9.223212061761796,
          "x1": 5.866808308396924,
          "xref": "x",
          "y0": -4.945661765851423,
          "y1": 4.945661765851423,
          "yref": "y"
         },
         {
          "line": {
           "color": "grey",
           "width": 1
          },
          "type": "line",
          "x0": 0.5,
          "x1": 0.508,
          "xref": "paper",
          "y0": 0.485,
          "y1": 0.515,
          "yref": "paper"
         },
         {
          "line": {
           "color": "grey",
           "width": 1
          },
          "type": "line",
          "x0": 0.492,
          "x1": 0.5,
          "xref": "paper",
          "y0": 0.485,
          "y1": 0.515,
          "yref": "paper"
         }
        ],
        "template": {
         "data": {
          "bar": [
           {
            "error_x": {
             "color": "#2a3f5f"
            },
            "error_y": {
             "color": "#2a3f5f"
            },
            "marker": {
             "line": {
              "color": "#E5ECF6",
              "width": 0.5
             },
             "pattern": {
              "fillmode": "overlay",
              "size": 10,
              "solidity": 0.2
             }
            },
            "type": "bar"
           }
          ],
          "barpolar": [
           {
            "marker": {
             "line": {
              "color": "#E5ECF6",
              "width": 0.5
             },
             "pattern": {
              "fillmode": "overlay",
              "size": 10,
              "solidity": 0.2
             }
            },
            "type": "barpolar"
           }
          ],
          "carpet": [
           {
            "aaxis": {
             "endlinecolor": "#2a3f5f",
             "gridcolor": "white",
             "linecolor": "white",
             "minorgridcolor": "white",
             "startlinecolor": "#2a3f5f"
            },
            "baxis": {
             "endlinecolor": "#2a3f5f",
             "gridcolor": "white",
             "linecolor": "white",
             "minorgridcolor": "white",
             "startlinecolor": "#2a3f5f"
            },
            "type": "carpet"
           }
          ],
          "choropleth": [
           {
            "colorbar": {
             "outlinewidth": 0,
             "ticks": ""
            },
            "type": "choropleth"
           }
          ],
          "contour": [
           {
            "colorbar": {
             "outlinewidth": 0,
             "ticks": ""
            },
            "colorscale": [
             [
              0,
              "#0d0887"
             ],
             [
              0.1111111111111111,
              "#46039f"
             ],
             [
              0.2222222222222222,
              "#7201a8"
             ],
             [
              0.3333333333333333,
              "#9c179e"
             ],
             [
              0.4444444444444444,
              "#bd3786"
             ],
             [
              0.5555555555555556,
              "#d8576b"
             ],
             [
              0.6666666666666666,
              "#ed7953"
             ],
             [
              0.7777777777777778,
              "#fb9f3a"
             ],
             [
              0.8888888888888888,
              "#fdca26"
             ],
             [
              1,
              "#f0f921"
             ]
            ],
            "type": "contour"
           }
          ],
          "contourcarpet": [
           {
            "colorbar": {
             "outlinewidth": 0,
             "ticks": ""
            },
            "type": "contourcarpet"
           }
          ],
          "heatmap": [
           {
            "colorbar": {
             "outlinewidth": 0,
             "ticks": ""
            },
            "colorscale": [
             [
              0,
              "#0d0887"
             ],
             [
              0.1111111111111111,
              "#46039f"
             ],
             [
              0.2222222222222222,
              "#7201a8"
             ],
             [
              0.3333333333333333,
              "#9c179e"
             ],
             [
              0.4444444444444444,
              "#bd3786"
             ],
             [
              0.5555555555555556,
              "#d8576b"
             ],
             [
              0.6666666666666666,
              "#ed7953"
             ],
             [
              0.7777777777777778,
              "#fb9f3a"
             ],
             [
              0.8888888888888888,
              "#fdca26"
             ],
             [
              1,
              "#f0f921"
             ]
            ],
            "type": "heatmap"
           }
          ],
          "heatmapgl": [
           {
            "colorbar": {
             "outlinewidth": 0,
             "ticks": ""
            },
            "colorscale": [
             [
              0,
              "#0d0887"
             ],
             [
              0.1111111111111111,
              "#46039f"
             ],
             [
              0.2222222222222222,
              "#7201a8"
             ],
             [
              0.3333333333333333,
              "#9c179e"
             ],
             [
              0.4444444444444444,
              "#bd3786"
             ],
             [
              0.5555555555555556,
              "#d8576b"
             ],
             [
              0.6666666666666666,
              "#ed7953"
             ],
             [
              0.7777777777777778,
              "#fb9f3a"
             ],
             [
              0.8888888888888888,
              "#fdca26"
             ],
             [
              1,
              "#f0f921"
             ]
            ],
            "type": "heatmapgl"
           }
          ],
          "histogram": [
           {
            "marker": {
             "pattern": {
              "fillmode": "overlay",
              "size": 10,
              "solidity": 0.2
             }
            },
            "type": "histogram"
           }
          ],
          "histogram2d": [
           {
            "colorbar": {
             "outlinewidth": 0,
             "ticks": ""
            },
            "colorscale": [
             [
              0,
              "#0d0887"
             ],
             [
              0.1111111111111111,
              "#46039f"
             ],
             [
              0.2222222222222222,
              "#7201a8"
             ],
             [
              0.3333333333333333,
              "#9c179e"
             ],
             [
              0.4444444444444444,
              "#bd3786"
             ],
             [
              0.5555555555555556,
              "#d8576b"
             ],
             [
              0.6666666666666666,
              "#ed7953"
             ],
             [
              0.7777777777777778,
              "#fb9f3a"
             ],
             [
              0.8888888888888888,
              "#fdca26"
             ],
             [
              1,
              "#f0f921"
             ]
            ],
            "type": "histogram2d"
           }
          ],
          "histogram2dcontour": [
           {
            "colorbar": {
             "outlinewidth": 0,
             "ticks": ""
            },
            "colorscale": [
             [
              0,
              "#0d0887"
             ],
             [
              0.1111111111111111,
              "#46039f"
             ],
             [
              0.2222222222222222,
              "#7201a8"
             ],
             [
              0.3333333333333333,
              "#9c179e"
             ],
             [
              0.4444444444444444,
              "#bd3786"
             ],
             [
              0.5555555555555556,
              "#d8576b"
             ],
             [
              0.6666666666666666,
              "#ed7953"
             ],
             [
              0.7777777777777778,
              "#fb9f3a"
             ],
             [
              0.8888888888888888,
              "#fdca26"
             ],
             [
              1,
              "#f0f921"
             ]
            ],
            "type": "histogram2dcontour"
           }
          ],
          "mesh3d": [
           {
            "colorbar": {
             "outlinewidth": 0,
             "ticks": ""
            },
            "type": "mesh3d"
           }
          ],
          "parcoords": [
           {
            "line": {
             "colorbar": {
              "outlinewidth": 0,
              "ticks": ""
             }
            },
            "type": "parcoords"
           }
          ],
          "pie": [
           {
            "automargin": true,
            "type": "pie"
           }
          ],
          "scatter": [
           {
            "fillpattern": {
             "fillmode": "overlay",
             "size": 10,
             "solidity": 0.2
            },
            "type": "scatter"
           }
          ],
          "scatter3d": [
           {
            "line": {
             "colorbar": {
              "outlinewidth": 0,
              "ticks": ""
             }
            },
            "marker": {
             "colorbar": {
              "outlinewidth": 0,
              "ticks": ""
             }
            },
            "type": "scatter3d"
           }
          ],
          "scattercarpet": [
           {
            "marker": {
             "colorbar": {
              "outlinewidth": 0,
              "ticks": ""
             }
            },
            "type": "scattercarpet"
           }
          ],
          "scattergeo": [
           {
            "marker": {
             "colorbar": {
              "outlinewidth": 0,
              "ticks": ""
             }
            },
            "type": "scattergeo"
           }
          ],
          "scattergl": [
           {
            "marker": {
             "colorbar": {
              "outlinewidth": 0,
              "ticks": ""
             }
            },
            "type": "scattergl"
           }
          ],
          "scattermapbox": [
           {
            "marker": {
             "colorbar": {
              "outlinewidth": 0,
              "ticks": ""
             }
            },
            "type": "scattermapbox"
           }
          ],
          "scatterpolar": [
           {
            "marker": {
             "colorbar": {
              "outlinewidth": 0,
              "ticks": ""
             }
            },
            "type": "scatterpolar"
           }
          ],
          "scatterpolargl": [
           {
            "marker": {
             "colorbar": {
              "outlinewidth": 0,
              "ticks": ""
             }
            },
            "type": "scatterpolargl"
           }
          ],
          "scatterternary": [
           {
            "marker": {
             "colorbar": {
              "outlinewidth": 0,
              "ticks": ""
             }
            },
            "type": "scatterternary"
           }
          ],
          "surface": [
           {
            "colorbar": {
             "outlinewidth": 0,
             "ticks": ""
            },
            "colorscale": [
             [
              0,
              "#0d0887"
             ],
             [
              0.1111111111111111,
              "#46039f"
             ],
             [
              0.2222222222222222,
              "#7201a8"
             ],
             [
              0.3333333333333333,
              "#9c179e"
             ],
             [
              0.4444444444444444,
              "#bd3786"
             ],
             [
              0.5555555555555556,
              "#d8576b"
             ],
             [
              0.6666666666666666,
              "#ed7953"
             ],
             [
              0.7777777777777778,
              "#fb9f3a"
             ],
             [
              0.8888888888888888,
              "#fdca26"
             ],
             [
              1,
              "#f0f921"
             ]
            ],
            "type": "surface"
           }
          ],
          "table": [
           {
            "cells": {
             "fill": {
              "color": "#EBF0F8"
             },
             "line": {
              "color": "white"
             }
            },
            "header": {
             "fill": {
              "color": "#C8D4E3"
             },
             "line": {
              "color": "white"
             }
            },
            "type": "table"
           }
          ]
         },
         "layout": {
          "annotationdefaults": {
           "arrowcolor": "#2a3f5f",
           "arrowhead": 0,
           "arrowwidth": 1
          },
          "autotypenumbers": "strict",
          "coloraxis": {
           "colorbar": {
            "outlinewidth": 0,
            "ticks": ""
           }
          },
          "colorscale": {
           "diverging": [
            [
             0,
             "#8e0152"
            ],
            [
             0.1,
             "#c51b7d"
            ],
            [
             0.2,
             "#de77ae"
            ],
            [
             0.3,
             "#f1b6da"
            ],
            [
             0.4,
             "#fde0ef"
            ],
            [
             0.5,
             "#f7f7f7"
            ],
            [
             0.6,
             "#e6f5d0"
            ],
            [
             0.7,
             "#b8e186"
            ],
            [
             0.8,
             "#7fbc41"
            ],
            [
             0.9,
             "#4d9221"
            ],
            [
             1,
             "#276419"
            ]
           ],
           "sequential": [
            [
             0,
             "#0d0887"
            ],
            [
             0.1111111111111111,
             "#46039f"
            ],
            [
             0.2222222222222222,
             "#7201a8"
            ],
            [
             0.3333333333333333,
             "#9c179e"
            ],
            [
             0.4444444444444444,
             "#bd3786"
            ],
            [
             0.5555555555555556,
             "#d8576b"
            ],
            [
             0.6666666666666666,
             "#ed7953"
            ],
            [
             0.7777777777777778,
             "#fb9f3a"
            ],
            [
             0.8888888888888888,
             "#fdca26"
            ],
            [
             1,
             "#f0f921"
            ]
           ],
           "sequentialminus": [
            [
             0,
             "#0d0887"
            ],
            [
             0.1111111111111111,
             "#46039f"
            ],
            [
             0.2222222222222222,
             "#7201a8"
            ],
            [
             0.3333333333333333,
             "#9c179e"
            ],
            [
             0.4444444444444444,
             "#bd3786"
            ],
            [
             0.5555555555555556,
             "#d8576b"
            ],
            [
             0.6666666666666666,
             "#ed7953"
            ],
            [
             0.7777777777777778,
             "#fb9f3a"
            ],
            [
             0.8888888888888888,
             "#fdca26"
            ],
            [
             1,
             "#f0f921"
            ]
           ]
          },
          "colorway": [
           "#636efa",
           "#EF553B",
           "#00cc96",
           "#ab63fa",
           "#FFA15A",
           "#19d3f3",
           "#FF6692",
           "#B6E880",
           "#FF97FF",
           "#FECB52"
          ],
          "font": {
           "color": "#2a3f5f"
          },
          "geo": {
           "bgcolor": "white",
           "lakecolor": "white",
           "landcolor": "#E5ECF6",
           "showlakes": true,
           "showland": true,
           "subunitcolor": "white"
          },
          "hoverlabel": {
           "align": "left"
          },
          "hovermode": "closest",
          "mapbox": {
           "style": "light"
          },
          "paper_bgcolor": "white",
          "plot_bgcolor": "#E5ECF6",
          "polar": {
           "angularaxis": {
            "gridcolor": "white",
            "linecolor": "white",
            "ticks": ""
           },
           "bgcolor": "#E5ECF6",
           "radialaxis": {
            "gridcolor": "white",
            "linecolor": "white",
            "ticks": ""
           }
          },
          "scene": {
           "xaxis": {
            "backgroundcolor": "#E5ECF6",
            "gridcolor": "white",
            "gridwidth": 2,
            "linecolor": "white",
            "showbackground": true,
            "ticks": "",
            "zerolinecolor": "white"
           },
           "yaxis": {
            "backgroundcolor": "#E5ECF6",
            "gridcolor": "white",
            "gridwidth": 2,
            "linecolor": "white",
            "showbackground": true,
            "ticks": "",
            "zerolinecolor": "white"
           },
           "zaxis": {
            "backgroundcolor": "#E5ECF6",
            "gridcolor": "white",
            "gridwidth": 2,
            "linecolor": "white",
            "showbackground": true,
            "ticks": "",
            "zerolinecolor": "white"
           }
          },
          "shapedefaults": {
           "line": {
            "color": "#2a3f5f"
           }
          },
          "ternary": {
           "aaxis": {
            "gridcolor": "white",
            "linecolor": "white",
            "ticks": ""
           },
           "baxis": {
            "gridcolor": "white",
            "linecolor": "white",
            "ticks": ""
           },
           "bgcolor": "#E5ECF6",
           "caxis": {
            "gridcolor": "white",
            "linecolor": "white",
            "ticks": ""
           }
          },
          "title": {
           "x": 0.05
          },
          "xaxis": {
           "automargin": true,
           "gridcolor": "white",
           "linecolor": "white",
           "ticks": "",
           "title": {
            "standoff": 15
           },
           "zerolinecolor": "white",
           "zerolinewidth": 2
          },
          "yaxis": {
           "automargin": true,
           "gridcolor": "white",
           "linecolor": "white",
           "ticks": "",
           "title": {
            "standoff": 15
           },
           "zerolinecolor": "white",
           "zerolinewidth": 2
          }
         }
        },
        "title": {
         "text": "The Elliptical Law with non-zero mean of M <br><sup>Eigenvalues in the complex plane, analytical calculation</sup>"
        },
        "width": 1000,
        "xaxis": {
         "anchor": "y",
         "domain": [
          0,
          0.49
         ],
         "range": [
          -12,
          12
         ],
         "title": {
          "text": "Re(λ)"
         }
        },
        "xaxis2": {
         "anchor": "y2",
         "domain": [
          0.51,
          1
         ],
         "range": [
          62,
          70
         ],
         "title": {
          "text": "Re(λ)"
         }
        },
        "yaxis": {
         "anchor": "x",
         "domain": [
          0,
          1
         ],
         "range": [
          -12,
          12
         ],
         "title": {
          "text": "Im(λ)"
         }
        },
        "yaxis2": {
         "anchor": "x2",
         "domain": [
          0,
          1
         ],
         "range": [
          -12,
          12
         ],
         "showticklabels": false
        }
       }
      }
     },
     "metadata": {},
     "output_type": "display_data"
    }
   ],
   "source": [
    "# plot data\n",
    "df1 = appended_data[appended_data['re']<20]\n",
    "df2 = appended_data[appended_data['re']>20]\n",
    "\n",
    "# organize datafames with different x-axes in a dict\n",
    "dfs = {'df1': df1,\n",
    "       'df2': df2\n",
    "}\n",
    "\n",
    "# subplot setup\n",
    "colors = px.colors.qualitative.Plotly\n",
    "fig = make_subplots(rows=1, cols=len(dfs.keys()), horizontal_spacing = 0.02, subplot_titles=(\"Ellipse\", \"Oulier\"))\n",
    "fig.update_layout(title = \"Broken / discontinued / gapped x-axis\")\n",
    "\n",
    "# Assign columns from dataframes in dict to the correct subplot\n",
    "for i, dfd in enumerate(dfs, start =1):\n",
    "    for j, run in enumerate(dfs[dfd]['run'].unique()):\n",
    "        df_ = dfs[dfd]\n",
    "        df_ = df_[df_['run']==run]\n",
    "        fig.add_trace(go.Scatter(x=df_['re'],\n",
    "                        y=df_['im'],\n",
    "                        mode = 'markers',\n",
    "                        name=run,\n",
    "                        marker_color=colors[j],\n",
    "                        legendgroup = run,\n",
    "                        showlegend = True if i == 1 else False,\n",
    "                        ), row=1, col=i)\n",
    "\n",
    "# ellipse\n",
    "fig.add_shape(type=\"circle\",\n",
    "    xref=\"x\", yref=\"y\",\n",
    "    x0=x0, y0=y0, x1=x1, y1=y1,\n",
    "    line_color=\"black\",\n",
    "    line_width = 2.5\n",
    ")\n",
    "\n",
    "# predicted outlier \n",
    "fig.add_trace(go.Scatter(x=[out_lambda], y=[0], \n",
    "                        mode = 'markers',\n",
    "                        marker_color = 'red',\n",
    "                        marker_symbol = 'star',\n",
    "                        showlegend=False,\n",
    "                        marker_size = 15), row=1, col=2)\n",
    "\n",
    "fig.add_annotation(x=out_lambda, y=0,\n",
    "            text=\"Predicted Outlier\",\n",
    "            showarrow=True,\n",
    "            arrowhead=2,\n",
    "            arrowsize=1.5,\n",
    "            arrowwidth=1,\n",
    "            row=1, col=2)\n",
    "\n",
    "# make the plot nice\n",
    "fig.update_yaxes(range=[-12, 12], )\n",
    "fig.update_yaxes(showticklabels=False, row=1, col=2)\n",
    "\n",
    "fig.update_xaxes(range=[-12, 12], title_text='Re(λ)', row=1, col=1)\n",
    "fig.update_xaxes(range=[62, 70], title_text='Re(λ)', row=1, col=2)\n",
    "\n",
    "# a little aesthetic adjustment\n",
    "fig.add_shape(type=\"line\",\n",
    "    x0=0.50, y0=0.5-0.015, x1=0.508, y1=0.5+0.015,\n",
    "    line=dict(color=\"grey\",width=1),\n",
    "    xref = 'paper',\n",
    "    yref = 'paper'\n",
    ")\n",
    "\n",
    "fig.add_shape(type=\"line\",\n",
    "    x0=0.492, y0=0.5-0.015, x1=0.5, y1=0.5+0.015,\n",
    "    line=dict(color=\"grey\",width=1),\n",
    "    xref = 'paper',\n",
    "    yref = 'paper'\n",
    ")\n",
    "\n",
    "# layout\n",
    "fig.update_layout(\n",
    "    height=600, width=1000, \n",
    "    title_text=\"The Elliptical Law with non-zero mean of M <br><sup>Eigenvalues in the complex plane, analytical calculation</sup>\", \n",
    "    yaxis_title=\"Im(λ)\",\n",
    "    legend_title=\"Run\")\n",
    "\n",
    "if savegit: \n",
    "    path = \"images/hw04_ellipticallaw_analytical.png\"\n",
    "    fig.write_image(path)\n",
    "    display(Image(path))\n",
    "    \n",
    "else:\n",
    "    fig.show()\n",
    "    "
   ]
  },
  {
   "cell_type": "markdown",
   "metadata": {},
   "source": [
    "## Scaling of the Maximum Eighenvalue\n",
    "In the general setting where $V=Var(M_{ij})$ and $C\\mu=\\mathbb{E}[M_{ij}]$, the maximum eigenvalue $\\lambda_{max}$ is given by:\n",
    "$$\n",
    "    \\lambda_{max} = max\\left\\{\\sqrt{SV}(1\\pm\\rho)-C\\mu-d \\quad , \\quad (S-1)C\\mu-d \\right\\}\n",
    "$$\n",
    "\n",
    "In the mutualistic case, using the quantities derived above and the fact that $\\rho>0$, this expression becomes:\n",
    "$$\n",
    "    \\lambda_{max} = max\\left\\{\\sqrt{SC\\sigma^2\\left(1-\\frac{2C}{\\pi}\\right)}\\left(1+\\frac{1 - C}{\\frac{\\pi}{2}-C}\\right)-C \\frac{2\\sigma}{\\sqrt{2\\pi}}-d \\quad , \\quad (S-1)C \\frac{2\\sigma}{\\sqrt{2\\pi}}-d \\right\\}\n",
    "$$\n",
    "\n",
    "As can be seen from the plots above, the second term should prevail over the first, leading to a linear scale of $\\lambda_{max}$ with the number of species $S$."
   ]
  },
  {
   "cell_type": "code",
   "execution_count": null,
   "metadata": {},
   "outputs": [],
   "source": [
    "def predict_lambda_max(species):\n",
    "    ellipse_ = np.sqrt(species*C*sigma**2*(1-2*C/np.pi))*(1+(1-C)/(np.pi/2-C))-C*2*sigma/np.sqrt(2*np.pi)-d\n",
    "    outlier_ = (species-1)*C*2*sigma/np.sqrt(2*np.pi)-d\n",
    "    \n",
    "    return np.max([ellipse_, outlier_])"
   ]
  },
  {
   "cell_type": "code",
   "execution_count": null,
   "metadata": {},
   "outputs": [
    {
     "data": {
      "text/html": [
       "<div>\n",
       "<style scoped>\n",
       "    .dataframe tbody tr th:only-of-type {\n",
       "        vertical-align: middle;\n",
       "    }\n",
       "\n",
       "    .dataframe tbody tr th {\n",
       "        vertical-align: top;\n",
       "    }\n",
       "\n",
       "    .dataframe thead th {\n",
       "        text-align: right;\n",
       "    }\n",
       "</style>\n",
       "<table border=\"1\" class=\"dataframe\">\n",
       "  <thead>\n",
       "    <tr style=\"text-align: right;\">\n",
       "      <th></th>\n",
       "      <th>Maxeig</th>\n",
       "      <th>Predicted</th>\n",
       "      <th>S</th>\n",
       "    </tr>\n",
       "  </thead>\n",
       "  <tbody>\n",
       "    <tr>\n",
       "      <th>0</th>\n",
       "      <td>12.30</td>\n",
       "      <td>11.89</td>\n",
       "      <td>20</td>\n",
       "    </tr>\n",
       "    <tr>\n",
       "      <th>1</th>\n",
       "      <td>18.73</td>\n",
       "      <td>18.67</td>\n",
       "      <td>30</td>\n",
       "    </tr>\n",
       "    <tr>\n",
       "      <th>2</th>\n",
       "      <td>25.60</td>\n",
       "      <td>25.45</td>\n",
       "      <td>40</td>\n",
       "    </tr>\n",
       "    <tr>\n",
       "      <th>3</th>\n",
       "      <td>32.31</td>\n",
       "      <td>32.23</td>\n",
       "      <td>50</td>\n",
       "    </tr>\n",
       "    <tr>\n",
       "      <th>4</th>\n",
       "      <td>38.84</td>\n",
       "      <td>39.01</td>\n",
       "      <td>60</td>\n",
       "    </tr>\n",
       "    <tr>\n",
       "      <th>5</th>\n",
       "      <td>45.94</td>\n",
       "      <td>45.80</td>\n",
       "      <td>70</td>\n",
       "    </tr>\n",
       "    <tr>\n",
       "      <th>6</th>\n",
       "      <td>52.71</td>\n",
       "      <td>52.58</td>\n",
       "      <td>80</td>\n",
       "    </tr>\n",
       "    <tr>\n",
       "      <th>7</th>\n",
       "      <td>59.38</td>\n",
       "      <td>59.36</td>\n",
       "      <td>90</td>\n",
       "    </tr>\n",
       "    <tr>\n",
       "      <th>8</th>\n",
       "      <td>66.43</td>\n",
       "      <td>66.14</td>\n",
       "      <td>100</td>\n",
       "    </tr>\n",
       "  </tbody>\n",
       "</table>\n",
       "</div>"
      ],
      "text/plain": [
       "   Maxeig  Predicted    S\n",
       "0   12.30      11.89   20\n",
       "1   18.73      18.67   30\n",
       "2   25.60      25.45   40\n",
       "3   32.31      32.23   50\n",
       "4   38.84      39.01   60\n",
       "5   45.94      45.80   70\n",
       "6   52.71      52.58   80\n",
       "7   59.38      59.36   90\n",
       "8   66.43      66.14  100"
      ]
     },
     "metadata": {},
     "output_type": "display_data"
    },
    {
     "data": {
      "application/vnd.plotly.v1+json": {
       "config": {
        "plotlyServerURL": "https://plot.ly"
       },
       "data": [
        {
         "marker": {
          "color": "dodgerblue",
          "line": {
           "color": "Black",
           "width": 1
          },
          "size": 14,
          "symbol": "x-dot"
         },
         "mode": "markers",
         "name": "Numerical Points",
         "showlegend": true,
         "type": "scatter",
         "x": [
          "20",
          "30",
          "40",
          "50",
          "60",
          "70",
          "80",
          "90",
          "100"
         ],
         "y": [
          12.300722075892391,
          18.73386364977556,
          25.595320124759365,
          32.30741106117027,
          38.83935218070538,
          45.936438963939864,
          52.70873307137955,
          59.37505547927774,
          66.42658489823668
         ]
        },
        {
         "marker": {
          "color": "goldenrod",
          "line": {
           "color": "Black",
           "width": 1
          },
          "size": 10,
          "symbol": "circle-dot"
         },
         "mode": "markers",
         "name": "Predicted Points",
         "showlegend": true,
         "type": "scatter",
         "x": [
          "20",
          "30",
          "40",
          "50",
          "60",
          "70",
          "80",
          "90",
          "100"
         ],
         "y": [
          11.885835656966275,
          18.667854423790633,
          25.449873190614987,
          32.231891957439345,
          39.0139107242637,
          45.79592949108806,
          52.57794825791241,
          59.35996702473676,
          66.14198579156113
         ]
        }
       ],
       "layout": {
        "height": 600,
        "template": {
         "data": {
          "bar": [
           {
            "error_x": {
             "color": "#2a3f5f"
            },
            "error_y": {
             "color": "#2a3f5f"
            },
            "marker": {
             "line": {
              "color": "#E5ECF6",
              "width": 0.5
             },
             "pattern": {
              "fillmode": "overlay",
              "size": 10,
              "solidity": 0.2
             }
            },
            "type": "bar"
           }
          ],
          "barpolar": [
           {
            "marker": {
             "line": {
              "color": "#E5ECF6",
              "width": 0.5
             },
             "pattern": {
              "fillmode": "overlay",
              "size": 10,
              "solidity": 0.2
             }
            },
            "type": "barpolar"
           }
          ],
          "carpet": [
           {
            "aaxis": {
             "endlinecolor": "#2a3f5f",
             "gridcolor": "white",
             "linecolor": "white",
             "minorgridcolor": "white",
             "startlinecolor": "#2a3f5f"
            },
            "baxis": {
             "endlinecolor": "#2a3f5f",
             "gridcolor": "white",
             "linecolor": "white",
             "minorgridcolor": "white",
             "startlinecolor": "#2a3f5f"
            },
            "type": "carpet"
           }
          ],
          "choropleth": [
           {
            "colorbar": {
             "outlinewidth": 0,
             "ticks": ""
            },
            "type": "choropleth"
           }
          ],
          "contour": [
           {
            "colorbar": {
             "outlinewidth": 0,
             "ticks": ""
            },
            "colorscale": [
             [
              0,
              "#0d0887"
             ],
             [
              0.1111111111111111,
              "#46039f"
             ],
             [
              0.2222222222222222,
              "#7201a8"
             ],
             [
              0.3333333333333333,
              "#9c179e"
             ],
             [
              0.4444444444444444,
              "#bd3786"
             ],
             [
              0.5555555555555556,
              "#d8576b"
             ],
             [
              0.6666666666666666,
              "#ed7953"
             ],
             [
              0.7777777777777778,
              "#fb9f3a"
             ],
             [
              0.8888888888888888,
              "#fdca26"
             ],
             [
              1,
              "#f0f921"
             ]
            ],
            "type": "contour"
           }
          ],
          "contourcarpet": [
           {
            "colorbar": {
             "outlinewidth": 0,
             "ticks": ""
            },
            "type": "contourcarpet"
           }
          ],
          "heatmap": [
           {
            "colorbar": {
             "outlinewidth": 0,
             "ticks": ""
            },
            "colorscale": [
             [
              0,
              "#0d0887"
             ],
             [
              0.1111111111111111,
              "#46039f"
             ],
             [
              0.2222222222222222,
              "#7201a8"
             ],
             [
              0.3333333333333333,
              "#9c179e"
             ],
             [
              0.4444444444444444,
              "#bd3786"
             ],
             [
              0.5555555555555556,
              "#d8576b"
             ],
             [
              0.6666666666666666,
              "#ed7953"
             ],
             [
              0.7777777777777778,
              "#fb9f3a"
             ],
             [
              0.8888888888888888,
              "#fdca26"
             ],
             [
              1,
              "#f0f921"
             ]
            ],
            "type": "heatmap"
           }
          ],
          "heatmapgl": [
           {
            "colorbar": {
             "outlinewidth": 0,
             "ticks": ""
            },
            "colorscale": [
             [
              0,
              "#0d0887"
             ],
             [
              0.1111111111111111,
              "#46039f"
             ],
             [
              0.2222222222222222,
              "#7201a8"
             ],
             [
              0.3333333333333333,
              "#9c179e"
             ],
             [
              0.4444444444444444,
              "#bd3786"
             ],
             [
              0.5555555555555556,
              "#d8576b"
             ],
             [
              0.6666666666666666,
              "#ed7953"
             ],
             [
              0.7777777777777778,
              "#fb9f3a"
             ],
             [
              0.8888888888888888,
              "#fdca26"
             ],
             [
              1,
              "#f0f921"
             ]
            ],
            "type": "heatmapgl"
           }
          ],
          "histogram": [
           {
            "marker": {
             "pattern": {
              "fillmode": "overlay",
              "size": 10,
              "solidity": 0.2
             }
            },
            "type": "histogram"
           }
          ],
          "histogram2d": [
           {
            "colorbar": {
             "outlinewidth": 0,
             "ticks": ""
            },
            "colorscale": [
             [
              0,
              "#0d0887"
             ],
             [
              0.1111111111111111,
              "#46039f"
             ],
             [
              0.2222222222222222,
              "#7201a8"
             ],
             [
              0.3333333333333333,
              "#9c179e"
             ],
             [
              0.4444444444444444,
              "#bd3786"
             ],
             [
              0.5555555555555556,
              "#d8576b"
             ],
             [
              0.6666666666666666,
              "#ed7953"
             ],
             [
              0.7777777777777778,
              "#fb9f3a"
             ],
             [
              0.8888888888888888,
              "#fdca26"
             ],
             [
              1,
              "#f0f921"
             ]
            ],
            "type": "histogram2d"
           }
          ],
          "histogram2dcontour": [
           {
            "colorbar": {
             "outlinewidth": 0,
             "ticks": ""
            },
            "colorscale": [
             [
              0,
              "#0d0887"
             ],
             [
              0.1111111111111111,
              "#46039f"
             ],
             [
              0.2222222222222222,
              "#7201a8"
             ],
             [
              0.3333333333333333,
              "#9c179e"
             ],
             [
              0.4444444444444444,
              "#bd3786"
             ],
             [
              0.5555555555555556,
              "#d8576b"
             ],
             [
              0.6666666666666666,
              "#ed7953"
             ],
             [
              0.7777777777777778,
              "#fb9f3a"
             ],
             [
              0.8888888888888888,
              "#fdca26"
             ],
             [
              1,
              "#f0f921"
             ]
            ],
            "type": "histogram2dcontour"
           }
          ],
          "mesh3d": [
           {
            "colorbar": {
             "outlinewidth": 0,
             "ticks": ""
            },
            "type": "mesh3d"
           }
          ],
          "parcoords": [
           {
            "line": {
             "colorbar": {
              "outlinewidth": 0,
              "ticks": ""
             }
            },
            "type": "parcoords"
           }
          ],
          "pie": [
           {
            "automargin": true,
            "type": "pie"
           }
          ],
          "scatter": [
           {
            "fillpattern": {
             "fillmode": "overlay",
             "size": 10,
             "solidity": 0.2
            },
            "type": "scatter"
           }
          ],
          "scatter3d": [
           {
            "line": {
             "colorbar": {
              "outlinewidth": 0,
              "ticks": ""
             }
            },
            "marker": {
             "colorbar": {
              "outlinewidth": 0,
              "ticks": ""
             }
            },
            "type": "scatter3d"
           }
          ],
          "scattercarpet": [
           {
            "marker": {
             "colorbar": {
              "outlinewidth": 0,
              "ticks": ""
             }
            },
            "type": "scattercarpet"
           }
          ],
          "scattergeo": [
           {
            "marker": {
             "colorbar": {
              "outlinewidth": 0,
              "ticks": ""
             }
            },
            "type": "scattergeo"
           }
          ],
          "scattergl": [
           {
            "marker": {
             "colorbar": {
              "outlinewidth": 0,
              "ticks": ""
             }
            },
            "type": "scattergl"
           }
          ],
          "scattermapbox": [
           {
            "marker": {
             "colorbar": {
              "outlinewidth": 0,
              "ticks": ""
             }
            },
            "type": "scattermapbox"
           }
          ],
          "scatterpolar": [
           {
            "marker": {
             "colorbar": {
              "outlinewidth": 0,
              "ticks": ""
             }
            },
            "type": "scatterpolar"
           }
          ],
          "scatterpolargl": [
           {
            "marker": {
             "colorbar": {
              "outlinewidth": 0,
              "ticks": ""
             }
            },
            "type": "scatterpolargl"
           }
          ],
          "scatterternary": [
           {
            "marker": {
             "colorbar": {
              "outlinewidth": 0,
              "ticks": ""
             }
            },
            "type": "scatterternary"
           }
          ],
          "surface": [
           {
            "colorbar": {
             "outlinewidth": 0,
             "ticks": ""
            },
            "colorscale": [
             [
              0,
              "#0d0887"
             ],
             [
              0.1111111111111111,
              "#46039f"
             ],
             [
              0.2222222222222222,
              "#7201a8"
             ],
             [
              0.3333333333333333,
              "#9c179e"
             ],
             [
              0.4444444444444444,
              "#bd3786"
             ],
             [
              0.5555555555555556,
              "#d8576b"
             ],
             [
              0.6666666666666666,
              "#ed7953"
             ],
             [
              0.7777777777777778,
              "#fb9f3a"
             ],
             [
              0.8888888888888888,
              "#fdca26"
             ],
             [
              1,
              "#f0f921"
             ]
            ],
            "type": "surface"
           }
          ],
          "table": [
           {
            "cells": {
             "fill": {
              "color": "#EBF0F8"
             },
             "line": {
              "color": "white"
             }
            },
            "header": {
             "fill": {
              "color": "#C8D4E3"
             },
             "line": {
              "color": "white"
             }
            },
            "type": "table"
           }
          ]
         },
         "layout": {
          "annotationdefaults": {
           "arrowcolor": "#2a3f5f",
           "arrowhead": 0,
           "arrowwidth": 1
          },
          "autotypenumbers": "strict",
          "coloraxis": {
           "colorbar": {
            "outlinewidth": 0,
            "ticks": ""
           }
          },
          "colorscale": {
           "diverging": [
            [
             0,
             "#8e0152"
            ],
            [
             0.1,
             "#c51b7d"
            ],
            [
             0.2,
             "#de77ae"
            ],
            [
             0.3,
             "#f1b6da"
            ],
            [
             0.4,
             "#fde0ef"
            ],
            [
             0.5,
             "#f7f7f7"
            ],
            [
             0.6,
             "#e6f5d0"
            ],
            [
             0.7,
             "#b8e186"
            ],
            [
             0.8,
             "#7fbc41"
            ],
            [
             0.9,
             "#4d9221"
            ],
            [
             1,
             "#276419"
            ]
           ],
           "sequential": [
            [
             0,
             "#0d0887"
            ],
            [
             0.1111111111111111,
             "#46039f"
            ],
            [
             0.2222222222222222,
             "#7201a8"
            ],
            [
             0.3333333333333333,
             "#9c179e"
            ],
            [
             0.4444444444444444,
             "#bd3786"
            ],
            [
             0.5555555555555556,
             "#d8576b"
            ],
            [
             0.6666666666666666,
             "#ed7953"
            ],
            [
             0.7777777777777778,
             "#fb9f3a"
            ],
            [
             0.8888888888888888,
             "#fdca26"
            ],
            [
             1,
             "#f0f921"
            ]
           ],
           "sequentialminus": [
            [
             0,
             "#0d0887"
            ],
            [
             0.1111111111111111,
             "#46039f"
            ],
            [
             0.2222222222222222,
             "#7201a8"
            ],
            [
             0.3333333333333333,
             "#9c179e"
            ],
            [
             0.4444444444444444,
             "#bd3786"
            ],
            [
             0.5555555555555556,
             "#d8576b"
            ],
            [
             0.6666666666666666,
             "#ed7953"
            ],
            [
             0.7777777777777778,
             "#fb9f3a"
            ],
            [
             0.8888888888888888,
             "#fdca26"
            ],
            [
             1,
             "#f0f921"
            ]
           ]
          },
          "colorway": [
           "#636efa",
           "#EF553B",
           "#00cc96",
           "#ab63fa",
           "#FFA15A",
           "#19d3f3",
           "#FF6692",
           "#B6E880",
           "#FF97FF",
           "#FECB52"
          ],
          "font": {
           "color": "#2a3f5f"
          },
          "geo": {
           "bgcolor": "white",
           "lakecolor": "white",
           "landcolor": "#E5ECF6",
           "showlakes": true,
           "showland": true,
           "subunitcolor": "white"
          },
          "hoverlabel": {
           "align": "left"
          },
          "hovermode": "closest",
          "mapbox": {
           "style": "light"
          },
          "paper_bgcolor": "white",
          "plot_bgcolor": "#E5ECF6",
          "polar": {
           "angularaxis": {
            "gridcolor": "white",
            "linecolor": "white",
            "ticks": ""
           },
           "bgcolor": "#E5ECF6",
           "radialaxis": {
            "gridcolor": "white",
            "linecolor": "white",
            "ticks": ""
           }
          },
          "scene": {
           "xaxis": {
            "backgroundcolor": "#E5ECF6",
            "gridcolor": "white",
            "gridwidth": 2,
            "linecolor": "white",
            "showbackground": true,
            "ticks": "",
            "zerolinecolor": "white"
           },
           "yaxis": {
            "backgroundcolor": "#E5ECF6",
            "gridcolor": "white",
            "gridwidth": 2,
            "linecolor": "white",
            "showbackground": true,
            "ticks": "",
            "zerolinecolor": "white"
           },
           "zaxis": {
            "backgroundcolor": "#E5ECF6",
            "gridcolor": "white",
            "gridwidth": 2,
            "linecolor": "white",
            "showbackground": true,
            "ticks": "",
            "zerolinecolor": "white"
           }
          },
          "shapedefaults": {
           "line": {
            "color": "#2a3f5f"
           }
          },
          "ternary": {
           "aaxis": {
            "gridcolor": "white",
            "linecolor": "white",
            "ticks": ""
           },
           "baxis": {
            "gridcolor": "white",
            "linecolor": "white",
            "ticks": ""
           },
           "bgcolor": "#E5ECF6",
           "caxis": {
            "gridcolor": "white",
            "linecolor": "white",
            "ticks": ""
           }
          },
          "title": {
           "x": 0.05
          },
          "xaxis": {
           "automargin": true,
           "gridcolor": "white",
           "linecolor": "white",
           "ticks": "",
           "title": {
            "standoff": 15
           },
           "zerolinecolor": "white",
           "zerolinewidth": 2
          },
          "yaxis": {
           "automargin": true,
           "gridcolor": "white",
           "linecolor": "white",
           "ticks": "",
           "title": {
            "standoff": 15
           },
           "zerolinecolor": "white",
           "zerolinewidth": 2
          }
         }
        },
        "title": {
         "text": "Scaling of the Max Real Eigenvalue with S"
        },
        "width": 1000,
        "xaxis": {
         "title": {
          "text": "S"
         }
        },
        "yaxis": {
         "title": {
          "text": "Max Re(λ)"
         }
        }
       }
      }
     },
     "metadata": {},
     "output_type": "display_data"
    }
   ],
   "source": [
    "np.random.seed(1245)\n",
    "\n",
    "# setting\n",
    "S_vec = np.arange(20, 110, 10).astype(int)  # number of species\n",
    "N = 10                                      # number of iterations for each # species (take the average value)\n",
    "\n",
    "df_max_re = pd.DataFrame(columns=['Maxeig', 'Predicted', 'S'])\n",
    "\n",
    "# build the random matrices and find the max real eigenvalue\n",
    "for s in S_vec:\n",
    "    max_eig = []\n",
    "    for i in range(N):\n",
    "        M = randommatrix(s, d, C, mutualistic=True)\n",
    "        eig_M, _ = np.linalg.eig(M)\n",
    "        \n",
    "        max_eig.append(np.max(np.real(eig_M)))\n",
    "        \n",
    "    lambda_pred = predict_lambda_max(s)\n",
    "    \n",
    "    df_max_re = df_max_re.append({'Maxeig': np.average(max_eig), 'Predicted': lambda_pred, 'S':str(s)}, ignore_index=True)\n",
    "    \n",
    "        \n",
    "display(df_max_re.round(2))\n",
    "\n",
    "# plot\n",
    "fig = go.Figure(data=go.Scatter(x=df_max_re['S'], y=df_max_re['Maxeig'], \n",
    "                                mode = 'markers',\n",
    "                                marker_color = 'dodgerblue',\n",
    "                                marker_symbol = 'x-dot',\n",
    "                                marker_size = 14,\n",
    "                                showlegend=True,\n",
    "                                name='Numerical Points')\n",
    ")\n",
    "\n",
    "fig.add_trace(go.Scatter(x=df_max_re['S'], y=df_max_re['Predicted'], \n",
    "                        mode = 'markers',\n",
    "                        marker_color = 'goldenrod',\n",
    "                        marker_symbol = 'circle-dot',\n",
    "                        marker_size = 10,\n",
    "                        showlegend=True,\n",
    "                        name='Predicted Points')\n",
    ")\n",
    "\n",
    "fig.update_layout(\n",
    "    title=\"Scaling of the Max Real Eigenvalue with S\",\n",
    "    xaxis_title=\"S\",\n",
    "    yaxis_title=\"Max Re(λ)\",\n",
    "    width=1000,\n",
    "    height=600\n",
    ")\n",
    "fig.update_traces(\n",
    "    marker = dict(line=dict(width=1, color='Black')\n",
    "    )\n",
    ")\n",
    "\n",
    "if savegit: \n",
    "    path = \"images/hw04_scaling_maxeig.png\"\n",
    "    fig.write_image(path)\n",
    "    display(Image(path))\n",
    "    \n",
    "else:\n",
    "    fig.show()"
   ]
  },
  {
   "cell_type": "markdown",
   "metadata": {},
   "source": [
    "# Additional 1: other structures\n",
    "- Predator - Prey Structure\n",
    "- Competitive + Mutualistic Structure\n",
    "\n",
    "## Construction of the Random Matrices in the Predator-Prey case\n",
    "**Off-diagonal elements** <br>\n",
    "For each pair of off-diagonal terms $\\{M{ij}, M{ji}\\}$ of the matrix we draw a random value $p$ from a uniform distribution $\\mathcal{U}[0, 1]$. \n",
    "- If $p\\leq C/2$, we set $M_{ij}$ and $M_{ji}$ by sampling them independently from, respectively, $|\\mathcal{D}|$ and $-|\\mathcal{D}|$.\n",
    "- If $C/2<p\\leq C$, we do the opposite.\n",
    "- If $p>C$ we impose $M_{ij}=M_{ji}=0$.\n",
    "\n",
    "**Diagonal elements** <br>\n",
    "All diagonal elements, $M_{ii}$, are set to $−d$. \n",
    "\n",
    "\n",
    "## Construction of the Random Matrices in the Competitive-Mutualistic case\n",
    "**Off-diagonal elements** <br>\n",
    "For each pair of off-diagonal terms $\\{M{ij}, M{ji}\\}$ of the matrix we draw a random value $p$ from a uniform distribution $\\mathcal{U}[0, 1]$. \n",
    "- If $p\\leq C/2$, we set $M_{ij}$ and $M_{ji}$ by sampling them independently from $|\\mathcal{D}|$ (so here the half-normal distribution).\n",
    "- If $C/2<p\\leq C$, we draw them from $-|\\mathcal{D}|$ (so here the negative half-normal distribution).\n",
    "- If $p>C$ we impose $M_{ij}=M_{ji}=0$.\n",
    "\n",
    "**Diagonal elements** <br>\n",
    "All diagonal elements, $M_{ii}$, are set to $−d$. "
   ]
  },
  {
   "cell_type": "code",
   "execution_count": null,
   "metadata": {},
   "outputs": [],
   "source": [
    "# random matrix generation, competitive + mutualistic or predator-prey\n",
    "def randommatrix_cm_pp(size, diag, connectance, D=lambda: np.random.normal(0, 1), competitivemutualistic=True):\n",
    "    '''\n",
    "    INPUT:\n",
    "    - size                   -> size of the square matrix (i.e. number of species) \n",
    "    - diag                   -> value of d (>0)\n",
    "    - connectance            -> value of C (0<C<1)\n",
    "    - D                      -> the selected distribution, by default a gaussian distribution\n",
    "    - competitivemutualistic -> if true, competitive + mutualistic, else predator-prey interaction\n",
    "    \n",
    "    OUTPUT:\n",
    "    - M -> the random matrix\n",
    "    \n",
    "    '''\n",
    "    \n",
    "    assert diag>0, 'diag  must be >0'\n",
    "    assert 0<connectance<1, 'connectance must be between 0 and 1'\n",
    "    \n",
    "    # initialize matrix\n",
    "    M = np.zeros((size, size))\n",
    "    \n",
    "    # 1. off-diagonal elements\n",
    "    for i in range(size):\n",
    "        for j in range(i+1, size):\n",
    "            p = np.random.uniform()\n",
    "                \n",
    "            if p<=connectance/2:\n",
    "                if competitivemutualistic: \n",
    "                    # mutualistic pair of species\n",
    "                    M[i, j] = np.abs(D())\n",
    "                    M[j, i] = np.abs(D())\n",
    "                else:\n",
    "                    # predator-prey interaction (ij>0, ji<0)\n",
    "                    M[i, j] = np.abs(D())\n",
    "                    M[j, i] = -np.abs(D())\n",
    "                \n",
    "            elif connectance/2<p<=connectance:\n",
    "                if competitivemutualistic:\n",
    "                    # competitive pair of species\n",
    "                    M[i, j] = -np.abs(D())\n",
    "                    M[j, i] = -np.abs(D())\n",
    "                else:\n",
    "                    # predator-prey interaction (ij<0, ji>0)\n",
    "                    M[i, j] = -np.abs(D())\n",
    "                    M[j, i] = np.abs(D())\n",
    "    \n",
    "    # 2. diagonal elements\n",
    "    np.fill_diagonal(M, -diag)\n",
    "\n",
    "    return M\n",
    "\n",
    "\n",
    "# rho knowing the distribution\n",
    "def correlation_zeromean(M, connectance, sigma):\n",
    "    '''\n",
    "    INPUT: matrix M, connectance, standard deviation sigma (mean is taken as zero)\n",
    "    OUTPUT: expected correlation rho between Mij and Mji\n",
    "    \n",
    "    '''\n",
    "    E_aij_aji = np.mean((M*M.T)[np.triu_indices(M.shape[0])])\n",
    "    \n",
    "    return (E_aij_aji)/(connectance*sigma**2)"
   ]
  },
  {
   "cell_type": "code",
   "execution_count": null,
   "metadata": {},
   "outputs": [
    {
     "data": {
      "image/png": "[encoded data removed]",
      "text/plain": [
       "<IPython.core.display.Image object>"
      ]
     },
     "metadata": {},
     "output_type": "display_data"
    },
    {
     "data": {
      "image/png": "[encoded data removed]",
      "text/plain": [
       "<IPython.core.display.Image object>"
      ]
     },
     "metadata": {},
     "output_type": "display_data"
    }
   ],
   "source": [
    "np.random.seed(1245)\n",
    "\n",
    "# parameters\n",
    "C = 0.85\n",
    "d = 1\n",
    "S = 100\n",
    "sigma = 1\n",
    "\n",
    "# center and radius of the circle\n",
    "center = [-d, 0]\n",
    "radius = m.sqrt(S*C*sigma**2)\n",
    "\n",
    "# initialize lists\n",
    "N = 10\n",
    "appended_data_cm = []\n",
    "appended_data_pp = []\n",
    "\n",
    "# build N random matrices with competitive + mutualistic structure\n",
    "rho_values = []\n",
    "\n",
    "for i in range(N):\n",
    "    df_eig = pd.DataFrame(columns=['re', 'im', 'run'])\n",
    "    \n",
    "    M = randommatrix_cm_pp(S, d, C, competitivemutualistic=True)\n",
    "    eig_M, _ = np.linalg.eig(M)\n",
    "    df_eig['re'] = np.real(eig_M)\n",
    "    df_eig['im'] = np.imag(eig_M)\n",
    "    df_eig['run'] = [str(i+1)]*len(eig_M)\n",
    "    \n",
    "    appended_data_cm.append(df_eig)\n",
    "    rho_values.append(correlation_zeromean(M, C, sigma))\n",
    "    \n",
    "appended_data_cm = pd.concat(appended_data_cm)\n",
    "rho_cm = np.mean(rho_values)\n",
    "\n",
    "# build N random matrices with predator-prey structure\n",
    "rho_values = []\n",
    "\n",
    "for i in range(N):\n",
    "    df_eig = pd.DataFrame(columns=['re', 'im', 'run'])\n",
    "    \n",
    "    M = randommatrix_cm_pp(S, d, C, competitivemutualistic=False)\n",
    "    eig_M, _ = np.linalg.eig(M)\n",
    "    df_eig['re'] = np.real(eig_M)\n",
    "    df_eig['im'] = np.imag(eig_M)\n",
    "    df_eig['run'] = [str(i+1)]*len(eig_M)\n",
    "    \n",
    "    appended_data_pp.append(df_eig)\n",
    "    rho_values.append(correlation_zeromean(M, C, sigma))\n",
    "    \n",
    "appended_data_pp = pd.concat(appended_data_pp)\n",
    "rho_pp = np.mean(rho_values)\n",
    "\n",
    "# ellipses data\n",
    "x0_cm, y0_cm, x1_cm, y1_cm = my_ellipse(center, S, C*sigma**2, rho_cm)\n",
    "x0_pp, y0_pp, x1_pp, y1_pp = my_ellipse(center, S, C*sigma**2, rho_pp)\n",
    "\n",
    "# plot cm eigenvalues\n",
    "fig = px.scatter(appended_data_cm, x=\"re\", y=\"im\", color=\"run\")\n",
    "\n",
    "fig.update_layout(\n",
    "    title=\"The Circular Law, competitive and mutualistic interactions<br><sup>Eigenvalues in the complex plane</sup>\",\n",
    "    xaxis_title=\"Re(λ)\",\n",
    "    yaxis_title=\"Im(λ)\",\n",
    "    legend_title=\"Run\",\n",
    "    width=600,\n",
    "    height=600,\n",
    ")\n",
    "fig.update_xaxes(range=[-18, 18])\n",
    "fig.update_yaxes(\n",
    "    scaleanchor = \"x\",\n",
    "    scaleratio = 1,\n",
    "    range=[-18, 18]\n",
    "  )\n",
    "\n",
    "fig.add_shape(type=\"circle\",\n",
    "    xref=\"x\", yref=\"y\",\n",
    "    x0=x0_cm, y0=y0_cm, x1=x1_cm, y1=y1_cm,\n",
    "    line_color=\"black\",\n",
    "    line_width = 2.5\n",
    ")\n",
    "\n",
    "if savegit: \n",
    "    path = \"images/hw04_compmutual.png\"\n",
    "    fig.write_image(path)\n",
    "    display(Image(path))\n",
    "    \n",
    "else:\n",
    "    fig.show()\n",
    "\n",
    "# plot pp eigenvalues\n",
    "fig = px.scatter(appended_data_pp, x=\"re\", y=\"im\", color=\"run\")\n",
    "\n",
    "fig.update_layout(\n",
    "    title=\"The Circular Law, predator-prey interactions<br><sup>Eigenvalues in the complex plane</sup>\",\n",
    "    xaxis_title=\"Re(λ)\",\n",
    "    yaxis_title=\"Im(λ)\",\n",
    "    legend_title=\"Run\",\n",
    "    width=600,\n",
    "    height=600,\n",
    ")\n",
    "fig.update_xaxes(range=[-18, 18])\n",
    "fig.update_yaxes(\n",
    "    scaleanchor = \"x\",\n",
    "    scaleratio = 1,\n",
    "    range=[-18, 18]\n",
    "  )\n",
    "\n",
    "fig.add_shape(type=\"circle\",\n",
    "    xref=\"x\", yref=\"y\",\n",
    "    x0=x0_pp, y0=y0_pp, x1=x1_pp, y1=y1_pp,\n",
    "    line_color=\"black\",\n",
    "    line_width = 2.5\n",
    ")\n",
    "\n",
    "if savegit: \n",
    "    path = \"images/hw04_predatorprey.png\"\n",
    "    fig.write_image(path)\n",
    "    display(Image(path))\n",
    "    \n",
    "else:\n",
    "    fig.show()\n",
    "    "
   ]
  },
  {
   "cell_type": "markdown",
   "metadata": {},
   "source": [
    "# Additional 2: Dashboard"
   ]
  },
  {
   "cell_type": "markdown",
   "metadata": {},
   "source": [
    "Idee per la dashboard: \n",
    "- S fisso\n",
    "- d, C imposti dall'utente, con dei vincoli (d>0, C<1)\n",
    "- sigma imposto se seleziono non uniforme\n",
    "- possibilità di selezionare tra diverse distribuzioni (uniforme, normale, exponential)"
   ]
  },
  {
   "cell_type": "markdown",
   "metadata": {},
   "source": [
    "# Point 3"
   ]
  },
  {
   "cell_type": "code",
   "execution_count": null,
   "metadata": {},
   "outputs": [],
   "source": []
  },
  {
   "cell_type": "markdown",
   "metadata": {},
   "source": [
    "# Point 4"
   ]
  },
  {
   "cell_type": "code",
   "execution_count": null,
   "metadata": {},
   "outputs": [],
   "source": []
  }
 ],
 "metadata": {
  "kernelspec": {
   "display_name": "Python 3.9.7 ('base')",
   "language": "python",
   "name": "python3"
  },
  "language_info": {
   "codemirror_mode": {
    "name": "ipython",
    "version": 3
   },
   "file_extension": ".py",
   "mimetype": "text/x-python",
   "name": "python",
   "nbconvert_exporter": "python",
   "pygments_lexer": "ipython3",
   "version": "3.9.7"
  },
  "orig_nbformat": 4,
  "vscode": {
   "interpreter": {
    "hash": "dabd4eacb9e3ddd54eefcebcf933935be170cfdef29c95630fe9376e024beb9c"
   }
  }
 },
 "nbformat": 4,
 "nbformat_minor": 2
}
