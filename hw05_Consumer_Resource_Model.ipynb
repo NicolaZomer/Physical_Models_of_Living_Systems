{
 "cells": [
  {
   "cell_type": "markdown",
   "metadata": {},
   "source": [
    "# Homework Week 06-07\n",
    "Nicola Zomer <br>\n",
    "26 November, 2022"
   ]
  },
  {
   "cell_type": "markdown",
   "metadata": {},
   "source": [
    "## Assignment\n",
    "Consider a consumer resource model where the supply rate is $s(c) = w c (1 – c/K)$ and the resource concentration $r(c) = c$ is linear, for $S=5$ species and $R=5$ resources. Assign the metabolic strategies at random from a Uniform Distribution between $[0, 0.2]$, while set all other parameters to 1 and choose the death rate small enough as you prefer.\n",
    "1. Perform the simulations of the full CRM model and compare the stationary solution you find numerically with those obtained analytically.\n",
    "2. Set $w=10$ and do the simulation of the quasi stationary approximation (finding first $c^*$ and then simulating $n(t,c^*)$) and compare it with the simulations of the full CRM (keeping fix the metabolic strategies in the two cases for a given realization). Do several (e.g. >20) realizations of the dynamics to obtain a statistics of the species population stationary states in the two cases, represent each population through a Box-Whisker Plot both for the full CRM and the GLV and compare the two.\n",
    "3. Does the quasi-stationary approximation works if $w=0.1$? Why?"
   ]
  },
  {
   "cell_type": "code",
   "execution_count": null,
   "metadata": {},
   "outputs": [],
   "source": []
  }
 ],
 "metadata": {
  "kernelspec": {
   "display_name": "Python 3.9.7 ('base')",
   "language": "python",
   "name": "python3"
  },
  "language_info": {
   "name": "python",
   "version": "3.9.7"
  },
  "orig_nbformat": 4,
  "vscode": {
   "interpreter": {
    "hash": "dabd4eacb9e3ddd54eefcebcf933935be170cfdef29c95630fe9376e024beb9c"
   }
  }
 },
 "nbformat": 4,
 "nbformat_minor": 2
}
