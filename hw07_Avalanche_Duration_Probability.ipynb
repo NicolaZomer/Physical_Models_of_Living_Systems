{
 "cells": [
  {
   "attachments": {},
   "cell_type": "markdown",
   "metadata": {},
   "source": [
    "# Homework Week 07\n",
    "Nicola Zomer <br>\n",
    "19 December, 2022\n",
    "\n",
    "# Assignment\n",
    "Calculate the avalanche duration probability $P_>(t)$ if $\\lambda i = \\lambda$ for all $t$ and all neurons. This leads, as only sketched in class, to the following integral: \n",
    "$$\n",
    "    \\gamma \\int_0^\\infty d\\lambda \\cdot \\exp(-\\gamma\\lambda)\\cdot(1-\\exp(-\\delta\\lambda))^n\n",
    "$$\n",
    "which can be solved through the saddle point approximation.\n",
    "\n",
    "Optional. Create a time series $\\lambda(t)$, with $t=1,2,...,T$ where at each time $t$, the value of $\\lambda$ is extracted from an exponential distribution. Then simulate $N=100$ independent heterogeneous Poisson processes, where each one describes the spikes events of a single neuron, but all have the same time dependent rate parameter $\\lambda(t)$."
   ]
  },
  {
   "attachments": {},
   "cell_type": "markdown",
   "metadata": {},
   "source": [
    "## Calculation of the avalanche duration probability\n",
    "The derivation of the above integral and its solution using the Saddle Point approximation is given in the attached pdf.\n",
    "\n",
    "## Simulation"
   ]
  },
  {
   "cell_type": "code",
   "execution_count": null,
   "metadata": {},
   "outputs": [],
   "source": []
  }
 ],
 "metadata": {
  "kernelspec": {
   "display_name": "base",
   "language": "python",
   "name": "python3"
  },
  "language_info": {
   "name": "python",
   "version": "3.9.7 (default, Sep 16 2021, 16:59:28) [MSC v.1916 64 bit (AMD64)]"
  },
  "orig_nbformat": 4,
  "vscode": {
   "interpreter": {
    "hash": "dabd4eacb9e3ddd54eefcebcf933935be170cfdef29c95630fe9376e024beb9c"
   }
  }
 },
 "nbformat": 4,
 "nbformat_minor": 2
}
